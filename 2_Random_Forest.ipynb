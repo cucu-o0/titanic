{
 "cells": [
  {
   "cell_type": "markdown",
   "id": "a2da00e3",
   "metadata": {},
   "source": [
    "# Random forest"
   ]
  },
  {
   "cell_type": "markdown",
   "id": "6550bccc",
   "metadata": {},
   "source": [
    "As we saw in the previous notebook `1_Best_Model`, the best model to solve our problem is a **Random Forest Classifier**."
   ]
  },
  {
   "cell_type": "markdown",
   "id": "b302d003",
   "metadata": {},
   "source": [
    "## Import libraries"
   ]
  },
  {
   "cell_type": "code",
   "execution_count": 1,
   "id": "ffdc98d4",
   "metadata": {},
   "outputs": [],
   "source": [
    "# Linear algebra\n",
    "import numpy as np \n",
    "\n",
    "# Data processing\n",
    "import pandas as pd \n",
    "\n",
    "# Regex\n",
    "import re\n",
    "\n",
    "# Data visualization\n",
    "import seaborn as sns\n",
    "import matplotlib.pyplot as plt\n",
    "%matplotlib inline\n",
    "from matplotlib.pylab import rcParams\n",
    "rcParams['figure.figsize'] = 8, 6\n",
    "plt.style.use('tableau-colorblind10')\n",
    "\n",
    "# Warnings\n",
    "import warnings\n",
    "warnings.filterwarnings('ignore')"
   ]
  },
  {
   "cell_type": "code",
   "execution_count": 2,
   "id": "0547bb7c",
   "metadata": {},
   "outputs": [],
   "source": [
    "# Machine learning\n",
    "from sklearn.model_selection import train_test_split\n",
    "from sklearn import tree\n",
    "\n",
    "# Random Forest\n",
    "from sklearn.ensemble import RandomForestClassifier\n",
    "\n",
    "# Grid Search\n",
    "from sklearn.model_selection import GridSearchCV\n",
    "\n",
    "# Metrics\n",
    "from sklearn.model_selection import cross_val_score\n",
    "from sklearn.model_selection import StratifiedKFold\n",
    "\n",
    "from sklearn.metrics import classification_report\n",
    "from sklearn.metrics import confusion_matrix\n",
    "from sklearn.metrics import accuracy_score, precision_score, recall_score, f1_score\n",
    "from sklearn.metrics import roc_curve, roc_auc_score"
   ]
  },
  {
   "cell_type": "markdown",
   "id": "2f5975c9",
   "metadata": {},
   "source": [
    "## Load data"
   ]
  },
  {
   "cell_type": "code",
   "execution_count": 3,
   "id": "fac86050",
   "metadata": {},
   "outputs": [
    {
     "data": {
      "text/html": [
       "<div>\n",
       "<style scoped>\n",
       "    .dataframe tbody tr th:only-of-type {\n",
       "        vertical-align: middle;\n",
       "    }\n",
       "\n",
       "    .dataframe tbody tr th {\n",
       "        vertical-align: top;\n",
       "    }\n",
       "\n",
       "    .dataframe thead th {\n",
       "        text-align: right;\n",
       "    }\n",
       "</style>\n",
       "<table border=\"1\" class=\"dataframe\">\n",
       "  <thead>\n",
       "    <tr style=\"text-align: right;\">\n",
       "      <th></th>\n",
       "      <th>pclass</th>\n",
       "      <th>deck</th>\n",
       "      <th>fare_range</th>\n",
       "      <th>sex</th>\n",
       "      <th>title</th>\n",
       "      <th>age_range</th>\n",
       "      <th>fam_size</th>\n",
       "      <th>embarked</th>\n",
       "      <th>survived</th>\n",
       "    </tr>\n",
       "  </thead>\n",
       "  <tbody>\n",
       "    <tr>\n",
       "      <th>0</th>\n",
       "      <td>1</td>\n",
       "      <td>1</td>\n",
       "      <td>4</td>\n",
       "      <td>1</td>\n",
       "      <td>0</td>\n",
       "      <td>2</td>\n",
       "      <td>1</td>\n",
       "      <td>0</td>\n",
       "      <td>1</td>\n",
       "    </tr>\n",
       "    <tr>\n",
       "      <th>1</th>\n",
       "      <td>1</td>\n",
       "      <td>2</td>\n",
       "      <td>4</td>\n",
       "      <td>0</td>\n",
       "      <td>3</td>\n",
       "      <td>0</td>\n",
       "      <td>4</td>\n",
       "      <td>0</td>\n",
       "      <td>1</td>\n",
       "    </tr>\n",
       "    <tr>\n",
       "      <th>2</th>\n",
       "      <td>1</td>\n",
       "      <td>2</td>\n",
       "      <td>4</td>\n",
       "      <td>1</td>\n",
       "      <td>0</td>\n",
       "      <td>0</td>\n",
       "      <td>4</td>\n",
       "      <td>0</td>\n",
       "      <td>0</td>\n",
       "    </tr>\n",
       "    <tr>\n",
       "      <th>3</th>\n",
       "      <td>1</td>\n",
       "      <td>2</td>\n",
       "      <td>4</td>\n",
       "      <td>0</td>\n",
       "      <td>1</td>\n",
       "      <td>2</td>\n",
       "      <td>4</td>\n",
       "      <td>0</td>\n",
       "      <td>0</td>\n",
       "    </tr>\n",
       "    <tr>\n",
       "      <th>4</th>\n",
       "      <td>1</td>\n",
       "      <td>2</td>\n",
       "      <td>4</td>\n",
       "      <td>1</td>\n",
       "      <td>2</td>\n",
       "      <td>2</td>\n",
       "      <td>4</td>\n",
       "      <td>0</td>\n",
       "      <td>0</td>\n",
       "    </tr>\n",
       "  </tbody>\n",
       "</table>\n",
       "</div>"
      ],
      "text/plain": [
       "   pclass  deck  fare_range  sex  title  age_range  fam_size  embarked  \\\n",
       "0       1     1           4    1      0          2         1         0   \n",
       "1       1     2           4    0      3          0         4         0   \n",
       "2       1     2           4    1      0          0         4         0   \n",
       "3       1     2           4    0      1          2         4         0   \n",
       "4       1     2           4    1      2          2         4         0   \n",
       "\n",
       "   survived  \n",
       "0         1  \n",
       "1         1  \n",
       "2         0  \n",
       "3         0  \n",
       "4         0  "
      ]
     },
     "execution_count": 3,
     "metadata": {},
     "output_type": "execute_result"
    }
   ],
   "source": [
    "df = pd.read_csv('output/data_model.csv', index_col = 0)\n",
    "df.head()"
   ]
  },
  {
   "cell_type": "code",
   "execution_count": 4,
   "id": "a5d9a1d9",
   "metadata": {},
   "outputs": [
    {
     "name": "stdout",
     "output_type": "stream",
     "text": [
      "The dataset has 1309 examples and 8 features + the target variable (survived)\n"
     ]
    }
   ],
   "source": [
    "print(f'The dataset has {df.shape[0]} examples and {df.shape[1]-1} features + the target variable (survived)')"
   ]
  },
  {
   "cell_type": "markdown",
   "id": "1f97c271",
   "metadata": {},
   "source": [
    "## Random Forest Classifier"
   ]
  },
  {
   "cell_type": "markdown",
   "id": "ee3b22d4",
   "metadata": {},
   "source": [
    "**Random Forest** is a **supervised learning algorithm**. It consists of **multiple random decision trees**. \n",
    "\n",
    "Two types of randomnesses are built into the trees:\n",
    "\n",
    "1. each tree is built on a random sample from the original data. \n",
    "\n",
    "2. at each tree node, a subset of features are randomly selected to generate the best split."
   ]
  },
  {
   "cell_type": "markdown",
   "id": "9c4ec644",
   "metadata": {},
   "source": [
    "## Define the model"
   ]
  },
  {
   "cell_type": "markdown",
   "id": "86d895c3",
   "metadata": {},
   "source": [
    "Target column:\n",
    "\n",
    "    - 1: survived\n",
    "    - 0: NOT survived"
   ]
  },
  {
   "cell_type": "markdown",
   "id": "44e66b15",
   "metadata": {},
   "source": [
    "### Split dataset"
   ]
  },
  {
   "cell_type": "markdown",
   "id": "3dff9cef",
   "metadata": {},
   "source": [
    "We split the prepared dataset into train and test sets.\n",
    "\n",
    "    - Train = 70% data\n",
    "    - Test = 30% data "
   ]
  },
  {
   "cell_type": "code",
   "execution_count": 5,
   "id": "8e1c5dfc",
   "metadata": {},
   "outputs": [],
   "source": [
    "split = 0.3"
   ]
  },
  {
   "cell_type": "code",
   "execution_count": 6,
   "id": "1c02132d",
   "metadata": {},
   "outputs": [],
   "source": [
    "def xy_data(df):\n",
    "\n",
    "    # Define X (selects every row and every column except the last column)\n",
    "    X = df.iloc[:,:-1]\n",
    "\n",
    "    # Define target/labels  \n",
    "    y = df['survived']\n",
    "    \n",
    "    return X, y"
   ]
  },
  {
   "cell_type": "code",
   "execution_count": 7,
   "id": "ac90010a",
   "metadata": {},
   "outputs": [],
   "source": [
    "X, y = xy_data(df)"
   ]
  },
  {
   "cell_type": "code",
   "execution_count": 8,
   "id": "cbffa2d0",
   "metadata": {},
   "outputs": [],
   "source": [
    "# Random_state: will help us get the same results everytime we ran the code.\n",
    "\n",
    "# Stratify: makes sure that the training and test datasets contain examples of each  \n",
    "# class in the same proportions as in the original dataset.\n",
    "\n",
    "X_train, X_test, y_train, y_test = train_test_split(X, y, test_size = split, random_state = 1, stratify = y)"
   ]
  },
  {
   "cell_type": "markdown",
   "id": "d35f6f55",
   "metadata": {},
   "source": [
    "### Check for imbalaces"
   ]
  },
  {
   "cell_type": "code",
   "execution_count": 9,
   "id": "94643285",
   "metadata": {},
   "outputs": [
    {
     "name": "stdout",
     "output_type": "stream",
     "text": [
      "Percentage of values in the dataset for every class\n"
     ]
    },
    {
     "data": {
      "text/plain": [
       "0    61.8\n",
       "1    38.2\n",
       "Name: survived, dtype: float64"
      ]
     },
     "execution_count": 9,
     "metadata": {},
     "output_type": "execute_result"
    }
   ],
   "source": [
    "# Count of each y class\n",
    "print('Percentage of values in the dataset for every class')\n",
    "round(y.value_counts()/len(y)*100,2)"
   ]
  },
  {
   "cell_type": "code",
   "execution_count": 10,
   "id": "7a85216a",
   "metadata": {},
   "outputs": [
    {
     "name": "stdout",
     "output_type": "stream",
     "text": [
      "Percentage of values in the test set for every class\n"
     ]
    },
    {
     "data": {
      "text/plain": [
       "0    61.83\n",
       "1    38.17\n",
       "Name: survived, dtype: float64"
      ]
     },
     "execution_count": 10,
     "metadata": {},
     "output_type": "execute_result"
    }
   ],
   "source": [
    "print('Percentage of values in the test set for every class')\n",
    "round(y_test.value_counts()/len(y_test)*100,2)"
   ]
  },
  {
   "cell_type": "markdown",
   "id": "0842b765",
   "metadata": {},
   "source": [
    "The classes are a little bit imbalanced. We have approx. 60% of the variable in our class 0 and 40% of our variable in class 1. We'll have to take into account this fact when evaluating the Random Forest Classification, as most of the times, the model would score highly on accuracy, but it wouldn’t help us identify examples of the smaller class."
   ]
  },
  {
   "cell_type": "markdown",
   "id": "16e6b5e2",
   "metadata": {},
   "source": [
    "### Fit the model"
   ]
  },
  {
   "cell_type": "code",
   "execution_count": 11,
   "id": "f153af01",
   "metadata": {},
   "outputs": [
    {
     "data": {
      "text/plain": [
       "RandomForestClassifier()"
      ]
     },
     "execution_count": 11,
     "metadata": {},
     "output_type": "execute_result"
    }
   ],
   "source": [
    "RFC_model= RandomForestClassifier()\n",
    "\n",
    "RFC_model.fit(X_train, y_train)"
   ]
  },
  {
   "cell_type": "markdown",
   "id": "ab7b382b",
   "metadata": {},
   "source": [
    "### Cross validation"
   ]
  },
  {
   "cell_type": "markdown",
   "id": "95735997",
   "metadata": {},
   "source": [
    "K-Fold Cross Validation randomly splits the training data into k subsets called folds (default = 5). By default, as our target is binary, it is using StratifiedKfold, which means that the folds are made by preserving the percentage of samples for each class. Nevertheless we specify it."
   ]
  },
  {
   "cell_type": "code",
   "execution_count": 12,
   "id": "0ccf3e43",
   "metadata": {},
   "outputs": [],
   "source": [
    "scores = cross_val_score(RFC_model, X_train, y_train, cv = StratifiedKFold(), scoring = \"accuracy\")"
   ]
  },
  {
   "cell_type": "code",
   "execution_count": 13,
   "id": "8a95db55",
   "metadata": {},
   "outputs": [
    {
     "name": "stdout",
     "output_type": "stream",
     "text": [
      "Scores: [0.76630435 0.82513661 0.84153005 0.79234973 0.75956284]\n",
      "Mean: 0.796976716559753\n",
      "Standard Deviation: 0.032062379605666165\n"
     ]
    }
   ],
   "source": [
    "print(\"Scores:\", scores)\n",
    "print(\"Mean:\", scores.mean())\n",
    "print(\"Standard Deviation:\", scores.std())"
   ]
  },
  {
   "cell_type": "code",
   "execution_count": 14,
   "id": "9f09eab8",
   "metadata": {},
   "outputs": [
    {
     "name": "stdout",
     "output_type": "stream",
     "text": [
      "The model has an average accuracy of 80% with a standard deviation of 3%. The standard deviation shows us how precise the estimates are.\n"
     ]
    }
   ],
   "source": [
    "print(f'The model has an average accuracy of {str(round(scores.mean()*100))}% with a standard deviation of {round(scores.std()*100)}%. The standard deviation shows us how precise the estimates are.')"
   ]
  },
  {
   "cell_type": "code",
   "execution_count": 15,
   "id": "5a3103ee",
   "metadata": {},
   "outputs": [
    {
     "name": "stdout",
     "output_type": "stream",
     "text": [
      "In our case the accuracy of our model can differ +/-3%\n"
     ]
    }
   ],
   "source": [
    "print(f'In our case the accuracy of our model can differ +/-{round(scores.std()*100)}%')"
   ]
  },
  {
   "cell_type": "markdown",
   "id": "8c4489a6",
   "metadata": {},
   "source": [
    "### Feature importance"
   ]
  },
  {
   "cell_type": "markdown",
   "id": "64c546e7",
   "metadata": {},
   "source": [
    "The **feature importance score** measures the contribution from this feature. "
   ]
  },
  {
   "cell_type": "code",
   "execution_count": 16,
   "id": "08507a6b",
   "metadata": {
    "scrolled": true
   },
   "outputs": [
    {
     "data": {
      "text/html": [
       "<div>\n",
       "<style scoped>\n",
       "    .dataframe tbody tr th:only-of-type {\n",
       "        vertical-align: middle;\n",
       "    }\n",
       "\n",
       "    .dataframe tbody tr th {\n",
       "        vertical-align: top;\n",
       "    }\n",
       "\n",
       "    .dataframe thead th {\n",
       "        text-align: right;\n",
       "    }\n",
       "</style>\n",
       "<table border=\"1\" class=\"dataframe\">\n",
       "  <thead>\n",
       "    <tr style=\"text-align: right;\">\n",
       "      <th></th>\n",
       "      <th>importance</th>\n",
       "    </tr>\n",
       "    <tr>\n",
       "      <th>feature</th>\n",
       "      <th></th>\n",
       "    </tr>\n",
       "  </thead>\n",
       "  <tbody>\n",
       "    <tr>\n",
       "      <th>sex</th>\n",
       "      <td>0.208</td>\n",
       "    </tr>\n",
       "    <tr>\n",
       "      <th>age_range</th>\n",
       "      <td>0.155</td>\n",
       "    </tr>\n",
       "    <tr>\n",
       "      <th>title</th>\n",
       "      <td>0.148</td>\n",
       "    </tr>\n",
       "    <tr>\n",
       "      <th>fam_size</th>\n",
       "      <td>0.121</td>\n",
       "    </tr>\n",
       "    <tr>\n",
       "      <th>deck</th>\n",
       "      <td>0.117</td>\n",
       "    </tr>\n",
       "    <tr>\n",
       "      <th>pclass</th>\n",
       "      <td>0.100</td>\n",
       "    </tr>\n",
       "    <tr>\n",
       "      <th>fare_range</th>\n",
       "      <td>0.100</td>\n",
       "    </tr>\n",
       "    <tr>\n",
       "      <th>embarked</th>\n",
       "      <td>0.050</td>\n",
       "    </tr>\n",
       "  </tbody>\n",
       "</table>\n",
       "</div>"
      ],
      "text/plain": [
       "            importance\n",
       "feature               \n",
       "sex              0.208\n",
       "age_range        0.155\n",
       "title            0.148\n",
       "fam_size         0.121\n",
       "deck             0.117\n",
       "pclass           0.100\n",
       "fare_range       0.100\n",
       "embarked         0.050"
      ]
     },
     "execution_count": 16,
     "metadata": {},
     "output_type": "execute_result"
    }
   ],
   "source": [
    "fi = pd.DataFrame({'feature': X_train.columns,'importance': np.round(RFC_model.feature_importances_,3)})\n",
    "fi = fi.sort_values('importance',ascending=False).set_index('feature')\n",
    "\n",
    "fi.head(len(df.columns)-1)"
   ]
  },
  {
   "cell_type": "code",
   "execution_count": 17,
   "id": "0ccce0c3",
   "metadata": {},
   "outputs": [
    {
     "data": {
      "image/png": "[encoded data removed]",
      "text/plain": [
       "<Figure size 576x432 with 1 Axes>"
      ]
     },
     "metadata": {
      "needs_background": "light"
     },
     "output_type": "display_data"
    }
   ],
   "source": [
    "fi.plot.bar();"
   ]
  },
  {
   "cell_type": "markdown",
   "id": "92f4714f",
   "metadata": {},
   "source": [
    "embarked doesn't play a significant role in our random forest classifier predictor. \n",
    "\n",
    "A general rule is that, the more features you have, the more likely your model will suffer from overfitting and vice versa. We decide to remove it from the dataset and train the classifier again."
   ]
  },
  {
   "cell_type": "code",
   "execution_count": 18,
   "id": "ff540d57",
   "metadata": {},
   "outputs": [],
   "source": [
    "X_train = X_train.drop(\"embarked\", axis = 1)\n",
    "X_test = X_test.drop(\"embarked\", axis = 1)"
   ]
  },
  {
   "cell_type": "code",
   "execution_count": 46,
   "id": "2024e591",
   "metadata": {},
   "outputs": [
    {
     "data": {
      "text/html": [
       "<div>\n",
       "<style scoped>\n",
       "    .dataframe tbody tr th:only-of-type {\n",
       "        vertical-align: middle;\n",
       "    }\n",
       "\n",
       "    .dataframe tbody tr th {\n",
       "        vertical-align: top;\n",
       "    }\n",
       "\n",
       "    .dataframe thead th {\n",
       "        text-align: right;\n",
       "    }\n",
       "</style>\n",
       "<table border=\"1\" class=\"dataframe\">\n",
       "  <thead>\n",
       "    <tr style=\"text-align: right;\">\n",
       "      <th></th>\n",
       "      <th>pclass</th>\n",
       "      <th>deck</th>\n",
       "      <th>fare_range</th>\n",
       "      <th>sex</th>\n",
       "      <th>title</th>\n",
       "      <th>age_range</th>\n",
       "      <th>fam_size</th>\n",
       "      <th>survived</th>\n",
       "    </tr>\n",
       "  </thead>\n",
       "  <tbody>\n",
       "    <tr>\n",
       "      <th>0</th>\n",
       "      <td>1</td>\n",
       "      <td>1</td>\n",
       "      <td>4</td>\n",
       "      <td>1</td>\n",
       "      <td>0</td>\n",
       "      <td>2</td>\n",
       "      <td>1</td>\n",
       "      <td>1</td>\n",
       "    </tr>\n",
       "    <tr>\n",
       "      <th>1</th>\n",
       "      <td>1</td>\n",
       "      <td>2</td>\n",
       "      <td>4</td>\n",
       "      <td>0</td>\n",
       "      <td>3</td>\n",
       "      <td>0</td>\n",
       "      <td>4</td>\n",
       "      <td>1</td>\n",
       "    </tr>\n",
       "    <tr>\n",
       "      <th>2</th>\n",
       "      <td>1</td>\n",
       "      <td>2</td>\n",
       "      <td>4</td>\n",
       "      <td>1</td>\n",
       "      <td>0</td>\n",
       "      <td>0</td>\n",
       "      <td>4</td>\n",
       "      <td>0</td>\n",
       "    </tr>\n",
       "    <tr>\n",
       "      <th>3</th>\n",
       "      <td>1</td>\n",
       "      <td>2</td>\n",
       "      <td>4</td>\n",
       "      <td>0</td>\n",
       "      <td>1</td>\n",
       "      <td>2</td>\n",
       "      <td>4</td>\n",
       "      <td>0</td>\n",
       "    </tr>\n",
       "    <tr>\n",
       "      <th>4</th>\n",
       "      <td>1</td>\n",
       "      <td>2</td>\n",
       "      <td>4</td>\n",
       "      <td>1</td>\n",
       "      <td>2</td>\n",
       "      <td>2</td>\n",
       "      <td>4</td>\n",
       "      <td>0</td>\n",
       "    </tr>\n",
       "    <tr>\n",
       "      <th>...</th>\n",
       "      <td>...</td>\n",
       "      <td>...</td>\n",
       "      <td>...</td>\n",
       "      <td>...</td>\n",
       "      <td>...</td>\n",
       "      <td>...</td>\n",
       "      <td>...</td>\n",
       "      <td>...</td>\n",
       "    </tr>\n",
       "    <tr>\n",
       "      <th>1304</th>\n",
       "      <td>3</td>\n",
       "      <td>5</td>\n",
       "      <td>2</td>\n",
       "      <td>1</td>\n",
       "      <td>0</td>\n",
       "      <td>1</td>\n",
       "      <td>2</td>\n",
       "      <td>0</td>\n",
       "    </tr>\n",
       "    <tr>\n",
       "      <th>1305</th>\n",
       "      <td>3</td>\n",
       "      <td>5</td>\n",
       "      <td>2</td>\n",
       "      <td>1</td>\n",
       "      <td>0</td>\n",
       "      <td>1</td>\n",
       "      <td>2</td>\n",
       "      <td>0</td>\n",
       "    </tr>\n",
       "    <tr>\n",
       "      <th>1306</th>\n",
       "      <td>3</td>\n",
       "      <td>5</td>\n",
       "      <td>0</td>\n",
       "      <td>0</td>\n",
       "      <td>1</td>\n",
       "      <td>2</td>\n",
       "      <td>1</td>\n",
       "      <td>0</td>\n",
       "    </tr>\n",
       "    <tr>\n",
       "      <th>1307</th>\n",
       "      <td>3</td>\n",
       "      <td>6</td>\n",
       "      <td>0</td>\n",
       "      <td>0</td>\n",
       "      <td>1</td>\n",
       "      <td>2</td>\n",
       "      <td>1</td>\n",
       "      <td>0</td>\n",
       "    </tr>\n",
       "    <tr>\n",
       "      <th>1308</th>\n",
       "      <td>3</td>\n",
       "      <td>4</td>\n",
       "      <td>1</td>\n",
       "      <td>0</td>\n",
       "      <td>1</td>\n",
       "      <td>2</td>\n",
       "      <td>1</td>\n",
       "      <td>0</td>\n",
       "    </tr>\n",
       "  </tbody>\n",
       "</table>\n",
       "<p>1309 rows × 8 columns</p>\n",
       "</div>"
      ],
      "text/plain": [
       "      pclass  deck  fare_range  sex  title  age_range  fam_size  survived\n",
       "0          1     1           4    1      0          2         1         1\n",
       "1          1     2           4    0      3          0         4         1\n",
       "2          1     2           4    1      0          0         4         0\n",
       "3          1     2           4    0      1          2         4         0\n",
       "4          1     2           4    1      2          2         4         0\n",
       "...      ...   ...         ...  ...    ...        ...       ...       ...\n",
       "1304       3     5           2    1      0          1         2         0\n",
       "1305       3     5           2    1      0          1         2         0\n",
       "1306       3     5           0    0      1          2         1         0\n",
       "1307       3     6           0    0      1          2         1         0\n",
       "1308       3     4           1    0      1          2         1         0\n",
       "\n",
       "[1309 rows x 8 columns]"
      ]
     },
     "execution_count": 46,
     "metadata": {},
     "output_type": "execute_result"
    }
   ],
   "source": [
    "# df.drop(\"embarked\", axis = 1)"
   ]
  },
  {
   "cell_type": "markdown",
   "id": "2b1e1c59",
   "metadata": {},
   "source": [
    "We use *GridSearch* to select the heperparameter that improve the accuracy of the model. Grid Search does this by fitting every combination of parameters and selecting the best ones."
   ]
  },
  {
   "cell_type": "markdown",
   "id": "0f4c2278",
   "metadata": {},
   "source": [
    "Hyperparameter tuning for the parameters:\n",
    "    \n",
    "- **n_estimators**: number of trees in the foreset\n",
    "- **criterion**: function to measure the quality of a split. Supported criteria are gini for the Gini impurity and entropy for the information gain.\n",
    "- **max depth**: max number of levels in each decision tree  "
   ]
  },
  {
   "cell_type": "markdown",
   "id": "d6a2df7b",
   "metadata": {},
   "source": [
    "We find the individual depths of each tree that it is part of the random forest."
   ]
  },
  {
   "cell_type": "code",
   "execution_count": 20,
   "id": "34bd266b",
   "metadata": {},
   "outputs": [
    {
     "name": "stdout",
     "output_type": "stream",
     "text": [
      "Max number of levels in each decision tree is: {12, 13, 14, 15, 16, 17, 18, 19, 20}\n"
     ]
    }
   ],
   "source": [
    "max_depth = set([est.tree_.max_depth for est in RFC_model.estimators_])\n",
    "print(f'Max number of levels in each decision tree is: {max_depth}')"
   ]
  },
  {
   "cell_type": "code",
   "execution_count": 21,
   "id": "a8d7a8e4",
   "metadata": {},
   "outputs": [
    {
     "data": {
      "text/plain": [
       "GridSearchCV(estimator=RandomForestClassifier(),\n",
       "             param_grid={'criterion': ['gini', 'entropy'],\n",
       "                         'max_depth': [12, 13, 14, 15, 16, 17, 18, 19, 20],\n",
       "                         'n_estimators': [100, 300, 500]})"
      ]
     },
     "execution_count": 21,
     "metadata": {},
     "output_type": "execute_result"
    }
   ],
   "source": [
    "params= {\"n_estimators\":[100, 300, 500],\n",
    "         \"criterion\": [\"gini\", \"entropy\"],\n",
    "         \"max_depth\": list(max_depth)}\n",
    "\n",
    "RFC_model_sel = GridSearchCV(RFC_model, params)\n",
    "RFC_model_sel.fit(X_train, y_train)"
   ]
  },
  {
   "cell_type": "code",
   "execution_count": 22,
   "id": "b328353a",
   "metadata": {},
   "outputs": [
    {
     "name": "stdout",
     "output_type": "stream",
     "text": [
      "Best parameters Random Forest\n"
     ]
    },
    {
     "data": {
      "text/plain": [
       "{'criterion': 'gini', 'max_depth': 12, 'n_estimators': 300}"
      ]
     },
     "execution_count": 22,
     "metadata": {},
     "output_type": "execute_result"
    }
   ],
   "source": [
    "print(f'Best parameters Random Forest')\n",
    "RFC_model_sel.best_params_"
   ]
  },
  {
   "cell_type": "markdown",
   "id": "2e68461c",
   "metadata": {},
   "source": [
    "### Define the model with its best parameters"
   ]
  },
  {
   "cell_type": "code",
   "execution_count": 70,
   "id": "19b61d15",
   "metadata": {},
   "outputs": [
    {
     "data": {
      "text/plain": [
       "RandomForestClassifier(max_depth=12, n_estimators=300, random_state=1)"
      ]
     },
     "execution_count": 70,
     "metadata": {},
     "output_type": "execute_result"
    }
   ],
   "source": [
    "best_RFC_model = RandomForestClassifier(random_state = 1,  \n",
    "                            n_estimators= RFC_model_sel.best_params_['n_estimators'], \n",
    "                            max_depth = RFC_model_sel.best_params_['max_depth'], \n",
    "                            criterion = RFC_model_sel.best_params_['criterion'])\n",
    "best_RFC_model.fit(X_train, y_train)"
   ]
  },
  {
   "cell_type": "markdown",
   "id": "2460d3d6",
   "metadata": {},
   "source": [
    "### Prediction and evaluation"
   ]
  },
  {
   "cell_type": "code",
   "execution_count": 71,
   "id": "37a4eb71",
   "metadata": {},
   "outputs": [],
   "source": [
    "y_pred = best_RFC_model.predict(X_test)"
   ]
  },
  {
   "cell_type": "markdown",
   "id": "01b5f04f",
   "metadata": {},
   "source": [
    " **Accuracy** the ratio of the True predicted values to the Total predicted values."
   ]
  },
  {
   "cell_type": "code",
   "execution_count": 72,
   "id": "38d3b65f",
   "metadata": {},
   "outputs": [
    {
     "name": "stdout",
     "output_type": "stream",
     "text": [
      "Accuracy: 79.64 %\n"
     ]
    }
   ],
   "source": [
    "# Accuracy\n",
    "print(f'Accuracy: {round(accuracy_score(y_test, y_pred)*100,2,)} %')"
   ]
  },
  {
   "cell_type": "markdown",
   "id": "c00a33ec",
   "metadata": {},
   "source": [
    "The accuracy confirms the results of the cross validation.\n",
    "\n",
    "Appearenly, we have a not pretty good accuracy. But, it could not be a great measure of performance because, as seen before, the classes are a bit imbalanced (60vs40)."
   ]
  },
  {
   "cell_type": "markdown",
   "id": "4981e75d",
   "metadata": {},
   "source": [
    "## Metrics"
   ]
  },
  {
   "cell_type": "markdown",
   "id": "6020de7f",
   "metadata": {},
   "source": [
    "To get even more deeply into model performance and see the what kind of errors the model made, we not only check accuracy but also precision, recall and F1 score printing the classification report."
   ]
  },
  {
   "cell_type": "markdown",
   "id": "568c1dfd",
   "metadata": {},
   "source": [
    "Model Evaluation Metrics:\n",
    " \n",
    "   - **Precision** for class 1 is, out of all predicted class values like 1, how many actually belong to class 1.\n",
    "   \n",
    "   \n",
    "   - **Recall** for class 1 is, out of all the values that actually belong to class 1, how much is predicted as class 1.\n",
    "   \n",
    "   \n",
    "   - **F1-score** seeks a balance between precision and recall, it takes into account false negatives and false positives."
   ]
  },
  {
   "cell_type": "code",
   "execution_count": 26,
   "id": "f768ceed",
   "metadata": {},
   "outputs": [
    {
     "name": "stdout",
     "output_type": "stream",
     "text": [
      "              precision    recall  f1-score   support\n",
      "\n",
      "           0       0.80      0.90      0.84       243\n",
      "           1       0.79      0.63      0.70       150\n",
      "\n",
      "    accuracy                           0.80       393\n",
      "   macro avg       0.80      0.77      0.77       393\n",
      "weighted avg       0.80      0.80      0.79       393\n",
      "\n"
     ]
    }
   ],
   "source": [
    "# Classification report\n",
    "print(classification_report(y_test, y_pred))"
   ]
  },
  {
   "cell_type": "markdown",
   "id": "aa13e939",
   "metadata": {},
   "source": [
    "#### Conclusions"
   ]
  },
  {
   "cell_type": "code",
   "execution_count": 27,
   "id": "726f64bb",
   "metadata": {},
   "outputs": [
    {
     "name": "stdout",
     "output_type": "stream",
     "text": [
      "Our model predicts 79% of the time a passengers survival correctly (precision).\n"
     ]
    }
   ],
   "source": [
    "print(f'Our model predicts {round(precision_score(y_test, y_pred)*100)}% of the time a passengers survival correctly (precision).')"
   ]
  },
  {
   "cell_type": "code",
   "execution_count": 28,
   "id": "4934204c",
   "metadata": {},
   "outputs": [
    {
     "name": "stdout",
     "output_type": "stream",
     "text": [
      "The recall tells us that it predicted the survival of 63% of the people who actually survived.\n"
     ]
    }
   ],
   "source": [
    "print(f'The recall tells us that it predicted the survival of {round(recall_score(y_test, y_pred)*100)}% of the people who actually survived.')"
   ]
  },
  {
   "cell_type": "code",
   "execution_count": 29,
   "id": "95afbe85",
   "metadata": {},
   "outputs": [
    {
     "name": "stdout",
     "output_type": "stream",
     "text": [
      "f1 score, that is a combination between precision and recall, is 70%. Not too high but not too bad for the first try!\n"
     ]
    }
   ],
   "source": [
    "print(f'f1 score, that is a combination between precision and recall, is {round(f1_score(y_test, y_pred)*100)}%. Not too high but not too bad for the first try!')"
   ]
  },
  {
   "cell_type": "markdown",
   "id": "c2f08bf9",
   "metadata": {},
   "source": [
    "As we can see in the classification report, the model predicts Not-Survived passengers (0) better than Survived ones (1), probably due to the slight imbalance of the dataset."
   ]
  },
  {
   "cell_type": "markdown",
   "id": "0466c88c",
   "metadata": {},
   "source": [
    "### Confusion Matrix"
   ]
  },
  {
   "cell_type": "markdown",
   "id": "df2c0482",
   "metadata": {},
   "source": [
    "Now we will proceed on checking the **confusion matrix**, which will help us to see how many prediction are correct/ incorrect."
   ]
  },
  {
   "cell_type": "markdown",
   "id": "0669ba22",
   "metadata": {},
   "source": [
    "A confusion matrix tells us the performance of our algorithm, where the rows are the actual data and the columns the predictions.\n",
    "\n",
    "- TP = True Positive Real: Survived | Prediction: Survived\n",
    "\n",
    "- FP = False Positive Real: No Survived | Prediction: Survived\n",
    "\n",
    "- TN = True Negative Real: No Survived | Prediction: No Survived\n",
    "\n",
    "- FN = False Negative Real: Survived | Prediction: No Survived"
   ]
  },
  {
   "cell_type": "code",
   "execution_count": 30,
   "id": "1b93f035",
   "metadata": {},
   "outputs": [],
   "source": [
    "# Constants \n",
    "col = 'coolwarm'\n",
    "xticks = ['N','P']\n",
    "yticks = ['N','P']"
   ]
  },
  {
   "cell_type": "code",
   "execution_count": 65,
   "id": "ed131bca",
   "metadata": {},
   "outputs": [],
   "source": [
    "def confusion_mtx(y_test, y_pred, pal, xticks, yticks):\n",
    "\n",
    "    '''\n",
    "    Function that returns:\n",
    "    - Viz of the confusion matrix\n",
    "    - Results of the confusion matrix\n",
    "    '''\n",
    "\n",
    "    print(f'Confusion Matrix')\n",
    "    cm = confusion_matrix(y_test, y_pred);\n",
    "    # print(cm)\n",
    "\n",
    "    print(45*'-')\n",
    "\n",
    "    # Viz\n",
    "    plt.figure(figsize=(5,4))\n",
    "    res = sns.heatmap(cm, annot=True, vmin=0.0, vmax=1000, fmt='.1f', cmap = pal)\n",
    "\n",
    "    plt.xticks([0.5,1.5], xticks, va='center')\n",
    "    plt.yticks([0.5,1.5], yticks, va='center')\n",
    "    plt.xlabel('PREDICT VALUES', fontsize=12)\n",
    "    plt.ylabel('TEST VALUES', fontsize=12);\n",
    "\n",
    "    TN = cm[0][0]\n",
    "    FN = cm[1][0]\n",
    "    TP = cm[1][1]\n",
    "    FP = cm[0][1]\n",
    "    \n",
    "    \n",
    "    # Results\n",
    "    print(f'TN: {TN} ({round(cm[0][0]*100/sum(cm[:,0]))}%)') \n",
    "    \n",
    "    print(f'FN: {FN} ({round(cm[1][0]*100/sum(cm[:,0]))}%)')\n",
    "\n",
    "    print(f'TP: {TP} ({round(cm[1][1]*100/sum(cm[:,1]))}%)')\n",
    "    print(f'FP: {FP} ({round(cm[0][1]*100/sum(cm[:,1]))}%)')\n",
    "    \n",
    "    return TN, FN, TP, FP"
   ]
  },
  {
   "cell_type": "code",
   "execution_count": 66,
   "id": "e2fe9cef",
   "metadata": {},
   "outputs": [
    {
     "name": "stdout",
     "output_type": "stream",
     "text": [
      "Confusion Matrix\n",
      "---------------------------------------------\n",
      "TN: 218 (80%)\n",
      "FN: 55 (20%)\n",
      "TP: 95 (79%)\n",
      "FP: 25 (21%)\n"
     ]
    },
    {
     "data": {
      "image/png": "[encoded data removed]",
      "text/plain": [
       "<Figure size 360x288 with 2 Axes>"
      ]
     },
     "metadata": {
      "needs_background": "light"
     },
     "output_type": "display_data"
    }
   ],
   "source": [
    "TN, FN, TP, FP = confusion_mtx(y_test, y_pred, col, xticks, yticks)"
   ]
  },
  {
   "cell_type": "code",
   "execution_count": 33,
   "id": "f63f28c5",
   "metadata": {},
   "outputs": [],
   "source": [
    "# u_test, f_test = np.unique(y_test, return_counts = True)"
   ]
  },
  {
   "cell_type": "code",
   "execution_count": 34,
   "id": "b0a7eb17",
   "metadata": {},
   "outputs": [],
   "source": [
    "# u_test"
   ]
  },
  {
   "cell_type": "code",
   "execution_count": 35,
   "id": "44160de8",
   "metadata": {},
   "outputs": [],
   "source": [
    "# f_test"
   ]
  },
  {
   "cell_type": "code",
   "execution_count": 36,
   "id": "94598136",
   "metadata": {},
   "outputs": [],
   "source": [
    "# u_pred, f_pred = np.unique(y_pred, return_counts = True)"
   ]
  },
  {
   "cell_type": "code",
   "execution_count": 37,
   "id": "0fd84238",
   "metadata": {},
   "outputs": [],
   "source": [
    "# u_pred"
   ]
  },
  {
   "cell_type": "code",
   "execution_count": 38,
   "id": "b3e7af46",
   "metadata": {},
   "outputs": [],
   "source": [
    "# f_pred"
   ]
  },
  {
   "cell_type": "markdown",
   "id": "0e0b0ac1",
   "metadata": {},
   "source": [
    "#### Conclusions"
   ]
  },
  {
   "cell_type": "code",
   "execution_count": 39,
   "id": "15ee5b29",
   "metadata": {},
   "outputs": [
    {
     "name": "stdout",
     "output_type": "stream",
     "text": [
      "--- Not Survived Predictions (0) ---\n",
      "The first column is about the not-survived-predictions (0): 218 passengers were correctly classified as not survived (true negatives) and 25 where wrongly classified as not survived (false positives).\n",
      "\n",
      "--- Survived Predictions (1) ---\n",
      "The second column is about the survived-predictions (1): 55 passengers were wrongly classified as survived (false negatives) and 95 where correctly classified as survived (true positives)\n"
     ]
    }
   ],
   "source": [
    "print(f'--- Not Survived Predictions (0) ---')\n",
    "print(f'The first column is about the not-survived-predictions (0): {TN} passengers were correctly classified as not survived (true negatives) and {FP} where wrongly classified as not survived (false positives).\\n')\n",
    "\n",
    "print(f'--- Survived Predictions (1) ---')\n",
    "print(f'The second column is about the survived-predictions (1): {FN} passengers were wrongly classified as survived (false negatives) and {TP} where correctly classified as survived (true positives)')"
   ]
  },
  {
   "cell_type": "markdown",
   "id": "5387942e",
   "metadata": {},
   "source": [
    "### ROC curve"
   ]
  },
  {
   "cell_type": "markdown",
   "id": "7595d39f",
   "metadata": {},
   "source": [
    "The **ROC AUC Curve** plots the true positive rate (also called recall) against the false positive rate (ratio of incorrectly classified negative instances)."
   ]
  },
  {
   "cell_type": "code",
   "execution_count": 40,
   "id": "c627a714",
   "metadata": {},
   "outputs": [],
   "source": [
    "#define metrics\n",
    "y_pred_prob = best_RFC_model.predict_proba(X_test)[::,1]\n",
    "fpr, tpr, _ = roc_curve(y_test, y_pred_prob)"
   ]
  },
  {
   "cell_type": "code",
   "execution_count": 41,
   "id": "a200ccf0",
   "metadata": {},
   "outputs": [
    {
     "data": {
      "image/png": "[encoded data removed]",
      "text/plain": [
       "<Figure size 432x288 with 1 Axes>"
      ]
     },
     "metadata": {
      "needs_background": "light"
     },
     "output_type": "display_data"
    }
   ],
   "source": [
    "# plotting them against each other\n",
    "def plot_roc_curve(fpr, tpr, label=None):\n",
    "    plt.plot(fpr, tpr, label=label)\n",
    "    plt.plot([0, 1], [0, 1])\n",
    "    plt.axis([0, 1, 0, 1])\n",
    "    plt.xlabel('False Positive Rate (FPR)')\n",
    "    plt.ylabel('True Positive Rate (TPR)')\n",
    "\n",
    "plt.figure(figsize=(6, 4))\n",
    "plot_roc_curve(fpr, tpr)\n",
    "plt.show()"
   ]
  },
  {
   "cell_type": "markdown",
   "id": "24206603",
   "metadata": {},
   "source": [
    "The more that the curve hugs the top left corner of the plot, the better the model does at classifying the data into categories. The closer AUC is to 1, the better the model. "
   ]
  },
  {
   "cell_type": "code",
   "execution_count": 42,
   "id": "9192d748",
   "metadata": {},
   "outputs": [
    {
     "name": "stdout",
     "output_type": "stream",
     "text": [
      "ROC-AUC score: 82%. Not a bad score!\n"
     ]
    }
   ],
   "source": [
    "roc_score = roc_auc_score(y_test, y_pred_prob)\n",
    "print(f'ROC-AUC score: {round(roc_score*100)}%. Not a bad score!')"
   ]
  },
  {
   "cell_type": "markdown",
   "id": "105728b8",
   "metadata": {},
   "source": [
    "## Final conclusions"
   ]
  },
  {
   "cell_type": "markdown",
   "id": "c1bfc9f1",
   "metadata": {},
   "source": [
    "The class imbalance, along with an improvable EDA, lead to us obtaining:\n",
    "\n",
    "~**80% accuracy**\n",
    "\n",
    "~**71% f1-score** \n",
    "\n",
    "~**82% ROC-AUC score**"
   ]
  },
  {
   "cell_type": "markdown",
   "id": "6668c433",
   "metadata": {},
   "source": [
    "The model is quite good in predict the probability of survival of passengers but there is still room for improvement. \n",
    "\n",
    "Some examples of improvements could be:\n",
    "\n",
    "- a more extensive exploratory data analysis by comparing and plotting more features;\n",
    "\n",
    "- the reduction of imbalance data\n",
    "\n",
    "- some deeper hyperparameter tuning."
   ]
  },
  {
   "cell_type": "markdown",
   "id": "f2477625",
   "metadata": {},
   "source": [
    "### References"
   ]
  },
  {
   "cell_type": "markdown",
   "id": "42c2b878",
   "metadata": {},
   "source": [
    "- https://scikit-learn.org/stable/modules/generated/sklearn.ensemble.RandomForestClassifier.html\n",
    "- https://towardsdatascience.com/understanding-random-forest-58381e0602d2\n",
    "- https://towardsdatascience.com/hyperparameter-tuning-the-random-forest-in-python-using-scikit-learn-28d2aa77dd74"
   ]
  },
  {
   "cell_type": "code",
   "execution_count": null,
   "id": "d3a0247e",
   "metadata": {},
   "outputs": [],
   "source": []
  }
 ],
 "metadata": {
  "kernelspec": {
   "display_name": "Python 3",
   "language": "python",
   "name": "python3"
  },
  "language_info": {
   "codemirror_mode": {
    "name": "ipython",
    "version": 3
   },
   "file_extension": ".py",
   "mimetype": "text/x-python",
   "name": "python",
   "nbconvert_exporter": "python",
   "pygments_lexer": "ipython3",
   "version": "3.7.10"
  }
 },
 "nbformat": 4,
 "nbformat_minor": 5
}
