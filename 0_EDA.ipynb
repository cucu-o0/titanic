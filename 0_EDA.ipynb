{
 "cells": [
  {
   "cell_type": "markdown",
   "id": "d647f9e6",
   "metadata": {},
   "source": [
    "# 00_EDA"
   ]
  },
  {
   "cell_type": "markdown",
   "id": "ac7f5c0d",
   "metadata": {},
   "source": [
    "## Problem statement"
   ]
  },
  {
   "cell_type": "markdown",
   "id": "d5500512",
   "metadata": {},
   "source": [
    "This test consists in creatinga a Machine Learning model able to predict the probability of survival of passengers in a shipwreck.\n",
    "\n",
    "This test is based on the famous Kaggle competition about the Titanic Disaster. \n",
    "\n",
    "https://www.kaggle.com/c/titanic"
   ]
  },
  {
   "cell_type": "markdown",
   "id": "7b874da5",
   "metadata": {},
   "source": [
    "## Import libraries"
   ]
  },
  {
   "cell_type": "code",
   "execution_count": 1,
   "id": "518a1311",
   "metadata": {},
   "outputs": [],
   "source": [
    "# Linear algebra\n",
    "import numpy as np \n",
    "\n",
    "# Data processing\n",
    "import pandas as pd \n",
    "\n",
    "# Regex\n",
    "import re\n",
    "\n",
    "# Data visualization\n",
    "import seaborn as sns\n",
    "import matplotlib.pyplot as plt\n",
    "%matplotlib inline\n",
    "from matplotlib.pylab import rcParams\n",
    "rcParams['figure.figsize'] = 8, 6\n",
    "plt.style.use('tableau-colorblind10')\n",
    "\n",
    "# Warnings\n",
    "import warnings\n",
    "warnings.filterwarnings('ignore')"
   ]
  },
  {
   "cell_type": "markdown",
   "id": "d1959eb2",
   "metadata": {},
   "source": [
    "## Load Data"
   ]
  },
  {
   "cell_type": "code",
   "execution_count": 2,
   "id": "08fa74c8",
   "metadata": {},
   "outputs": [
    {
     "data": {
      "text/html": [
       "<div>\n",
       "<style scoped>\n",
       "    .dataframe tbody tr th:only-of-type {\n",
       "        vertical-align: middle;\n",
       "    }\n",
       "\n",
       "    .dataframe tbody tr th {\n",
       "        vertical-align: top;\n",
       "    }\n",
       "\n",
       "    .dataframe thead th {\n",
       "        text-align: right;\n",
       "    }\n",
       "</style>\n",
       "<table border=\"1\" class=\"dataframe\">\n",
       "  <thead>\n",
       "    <tr style=\"text-align: right;\">\n",
       "      <th></th>\n",
       "      <th>pclass</th>\n",
       "      <th>survived</th>\n",
       "      <th>name</th>\n",
       "      <th>sex</th>\n",
       "      <th>age</th>\n",
       "      <th>sibsp</th>\n",
       "      <th>parch</th>\n",
       "      <th>ticket</th>\n",
       "      <th>fare</th>\n",
       "      <th>cabin</th>\n",
       "      <th>embarked</th>\n",
       "      <th>boat</th>\n",
       "      <th>body</th>\n",
       "      <th>home.dest</th>\n",
       "    </tr>\n",
       "  </thead>\n",
       "  <tbody>\n",
       "    <tr>\n",
       "      <th>0</th>\n",
       "      <td>1</td>\n",
       "      <td>1</td>\n",
       "      <td>Allen, Miss. Elisabeth Walton</td>\n",
       "      <td>female</td>\n",
       "      <td>29</td>\n",
       "      <td>0</td>\n",
       "      <td>0</td>\n",
       "      <td>24160</td>\n",
       "      <td>211.3375</td>\n",
       "      <td>B5</td>\n",
       "      <td>S</td>\n",
       "      <td>2</td>\n",
       "      <td>?</td>\n",
       "      <td>St Louis, MO</td>\n",
       "    </tr>\n",
       "    <tr>\n",
       "      <th>1</th>\n",
       "      <td>1</td>\n",
       "      <td>1</td>\n",
       "      <td>Allison, Master. Hudson Trevor</td>\n",
       "      <td>male</td>\n",
       "      <td>0.9167</td>\n",
       "      <td>1</td>\n",
       "      <td>2</td>\n",
       "      <td>113781</td>\n",
       "      <td>151.55</td>\n",
       "      <td>C22 C26</td>\n",
       "      <td>S</td>\n",
       "      <td>11</td>\n",
       "      <td>?</td>\n",
       "      <td>Montreal, PQ / Chesterville, ON</td>\n",
       "    </tr>\n",
       "    <tr>\n",
       "      <th>2</th>\n",
       "      <td>1</td>\n",
       "      <td>0</td>\n",
       "      <td>Allison, Miss. Helen Loraine</td>\n",
       "      <td>female</td>\n",
       "      <td>2</td>\n",
       "      <td>1</td>\n",
       "      <td>2</td>\n",
       "      <td>113781</td>\n",
       "      <td>151.55</td>\n",
       "      <td>C22 C26</td>\n",
       "      <td>S</td>\n",
       "      <td>?</td>\n",
       "      <td>?</td>\n",
       "      <td>Montreal, PQ / Chesterville, ON</td>\n",
       "    </tr>\n",
       "    <tr>\n",
       "      <th>3</th>\n",
       "      <td>1</td>\n",
       "      <td>0</td>\n",
       "      <td>Allison, Mr. Hudson Joshua Creighton</td>\n",
       "      <td>male</td>\n",
       "      <td>30</td>\n",
       "      <td>1</td>\n",
       "      <td>2</td>\n",
       "      <td>113781</td>\n",
       "      <td>151.55</td>\n",
       "      <td>C22 C26</td>\n",
       "      <td>S</td>\n",
       "      <td>?</td>\n",
       "      <td>135</td>\n",
       "      <td>Montreal, PQ / Chesterville, ON</td>\n",
       "    </tr>\n",
       "    <tr>\n",
       "      <th>4</th>\n",
       "      <td>1</td>\n",
       "      <td>0</td>\n",
       "      <td>Allison, Mrs. Hudson J C (Bessie Waldo Daniels)</td>\n",
       "      <td>female</td>\n",
       "      <td>25</td>\n",
       "      <td>1</td>\n",
       "      <td>2</td>\n",
       "      <td>113781</td>\n",
       "      <td>151.55</td>\n",
       "      <td>C22 C26</td>\n",
       "      <td>S</td>\n",
       "      <td>?</td>\n",
       "      <td>?</td>\n",
       "      <td>Montreal, PQ / Chesterville, ON</td>\n",
       "    </tr>\n",
       "  </tbody>\n",
       "</table>\n",
       "</div>"
      ],
      "text/plain": [
       "   pclass  survived                                             name     sex  \\\n",
       "0       1         1                    Allen, Miss. Elisabeth Walton  female   \n",
       "1       1         1                   Allison, Master. Hudson Trevor    male   \n",
       "2       1         0                     Allison, Miss. Helen Loraine  female   \n",
       "3       1         0             Allison, Mr. Hudson Joshua Creighton    male   \n",
       "4       1         0  Allison, Mrs. Hudson J C (Bessie Waldo Daniels)  female   \n",
       "\n",
       "      age  sibsp  parch  ticket      fare    cabin embarked boat body  \\\n",
       "0      29      0      0   24160  211.3375       B5        S    2    ?   \n",
       "1  0.9167      1      2  113781    151.55  C22 C26        S   11    ?   \n",
       "2       2      1      2  113781    151.55  C22 C26        S    ?    ?   \n",
       "3      30      1      2  113781    151.55  C22 C26        S    ?  135   \n",
       "4      25      1      2  113781    151.55  C22 C26        S    ?    ?   \n",
       "\n",
       "                         home.dest  \n",
       "0                     St Louis, MO  \n",
       "1  Montreal, PQ / Chesterville, ON  \n",
       "2  Montreal, PQ / Chesterville, ON  \n",
       "3  Montreal, PQ / Chesterville, ON  \n",
       "4  Montreal, PQ / Chesterville, ON  "
      ]
     },
     "execution_count": 2,
     "metadata": {},
     "output_type": "execute_result"
    }
   ],
   "source": [
    "df = pd.read_csv('input/phpMYEkMl.csv')\n",
    "df.head()"
   ]
  },
  {
   "cell_type": "code",
   "execution_count": 3,
   "id": "10ceade2",
   "metadata": {},
   "outputs": [
    {
     "name": "stdout",
     "output_type": "stream",
     "text": [
      "The dataset has 1309 examples and 13 features + the target variable (survived)\n"
     ]
    }
   ],
   "source": [
    "print(f'The dataset has {df.shape[0]} examples and {df.shape[1]-1} features + the target variable (survived)')"
   ]
  },
  {
   "cell_type": "markdown",
   "id": "a0165a50",
   "metadata": {},
   "source": [
    "We define the target of our problem."
   ]
  },
  {
   "cell_type": "code",
   "execution_count": 4,
   "id": "fbe66663",
   "metadata": {},
   "outputs": [],
   "source": [
    "# Define target column\n",
    "target = df['survived']"
   ]
  },
  {
   "cell_type": "code",
   "execution_count": 5,
   "id": "aa2d88b0",
   "metadata": {},
   "outputs": [
    {
     "name": "stdout",
     "output_type": "stream",
     "text": [
      "We suppose that the survived column is well filled, with:\n",
      "- 1: survived\n",
      "- 0: NOT survived\n"
     ]
    }
   ],
   "source": [
    "print(f'We suppose that the survived column is well filled, with:\\n'\n",
    "      '- ' + str(df['survived'].unique()[0]) + ': survived\\n'\n",
    "      '- ' + str(df['survived'].unique()[1]) + ': NOT survived')"
   ]
  },
  {
   "cell_type": "markdown",
   "id": "59c1ecf8",
   "metadata": {},
   "source": [
    "We reorder columns, moving the target column at the end of the dataframe."
   ]
  },
  {
   "cell_type": "code",
   "execution_count": 6,
   "id": "6ba394bf",
   "metadata": {},
   "outputs": [
    {
     "data": {
      "text/html": [
       "<div>\n",
       "<style scoped>\n",
       "    .dataframe tbody tr th:only-of-type {\n",
       "        vertical-align: middle;\n",
       "    }\n",
       "\n",
       "    .dataframe tbody tr th {\n",
       "        vertical-align: top;\n",
       "    }\n",
       "\n",
       "    .dataframe thead th {\n",
       "        text-align: right;\n",
       "    }\n",
       "</style>\n",
       "<table border=\"1\" class=\"dataframe\">\n",
       "  <thead>\n",
       "    <tr style=\"text-align: right;\">\n",
       "      <th></th>\n",
       "      <th>pclass</th>\n",
       "      <th>name</th>\n",
       "      <th>sex</th>\n",
       "      <th>age</th>\n",
       "      <th>sibsp</th>\n",
       "      <th>parch</th>\n",
       "      <th>ticket</th>\n",
       "      <th>fare</th>\n",
       "      <th>cabin</th>\n",
       "      <th>embarked</th>\n",
       "      <th>boat</th>\n",
       "      <th>body</th>\n",
       "      <th>home.dest</th>\n",
       "      <th>survived</th>\n",
       "    </tr>\n",
       "  </thead>\n",
       "  <tbody>\n",
       "    <tr>\n",
       "      <th>0</th>\n",
       "      <td>1</td>\n",
       "      <td>Allen, Miss. Elisabeth Walton</td>\n",
       "      <td>female</td>\n",
       "      <td>29</td>\n",
       "      <td>0</td>\n",
       "      <td>0</td>\n",
       "      <td>24160</td>\n",
       "      <td>211.3375</td>\n",
       "      <td>B5</td>\n",
       "      <td>S</td>\n",
       "      <td>2</td>\n",
       "      <td>?</td>\n",
       "      <td>St Louis, MO</td>\n",
       "      <td>1</td>\n",
       "    </tr>\n",
       "    <tr>\n",
       "      <th>1</th>\n",
       "      <td>1</td>\n",
       "      <td>Allison, Master. Hudson Trevor</td>\n",
       "      <td>male</td>\n",
       "      <td>0.9167</td>\n",
       "      <td>1</td>\n",
       "      <td>2</td>\n",
       "      <td>113781</td>\n",
       "      <td>151.55</td>\n",
       "      <td>C22 C26</td>\n",
       "      <td>S</td>\n",
       "      <td>11</td>\n",
       "      <td>?</td>\n",
       "      <td>Montreal, PQ / Chesterville, ON</td>\n",
       "      <td>1</td>\n",
       "    </tr>\n",
       "    <tr>\n",
       "      <th>2</th>\n",
       "      <td>1</td>\n",
       "      <td>Allison, Miss. Helen Loraine</td>\n",
       "      <td>female</td>\n",
       "      <td>2</td>\n",
       "      <td>1</td>\n",
       "      <td>2</td>\n",
       "      <td>113781</td>\n",
       "      <td>151.55</td>\n",
       "      <td>C22 C26</td>\n",
       "      <td>S</td>\n",
       "      <td>?</td>\n",
       "      <td>?</td>\n",
       "      <td>Montreal, PQ / Chesterville, ON</td>\n",
       "      <td>0</td>\n",
       "    </tr>\n",
       "    <tr>\n",
       "      <th>3</th>\n",
       "      <td>1</td>\n",
       "      <td>Allison, Mr. Hudson Joshua Creighton</td>\n",
       "      <td>male</td>\n",
       "      <td>30</td>\n",
       "      <td>1</td>\n",
       "      <td>2</td>\n",
       "      <td>113781</td>\n",
       "      <td>151.55</td>\n",
       "      <td>C22 C26</td>\n",
       "      <td>S</td>\n",
       "      <td>?</td>\n",
       "      <td>135</td>\n",
       "      <td>Montreal, PQ / Chesterville, ON</td>\n",
       "      <td>0</td>\n",
       "    </tr>\n",
       "    <tr>\n",
       "      <th>4</th>\n",
       "      <td>1</td>\n",
       "      <td>Allison, Mrs. Hudson J C (Bessie Waldo Daniels)</td>\n",
       "      <td>female</td>\n",
       "      <td>25</td>\n",
       "      <td>1</td>\n",
       "      <td>2</td>\n",
       "      <td>113781</td>\n",
       "      <td>151.55</td>\n",
       "      <td>C22 C26</td>\n",
       "      <td>S</td>\n",
       "      <td>?</td>\n",
       "      <td>?</td>\n",
       "      <td>Montreal, PQ / Chesterville, ON</td>\n",
       "      <td>0</td>\n",
       "    </tr>\n",
       "    <tr>\n",
       "      <th>...</th>\n",
       "      <td>...</td>\n",
       "      <td>...</td>\n",
       "      <td>...</td>\n",
       "      <td>...</td>\n",
       "      <td>...</td>\n",
       "      <td>...</td>\n",
       "      <td>...</td>\n",
       "      <td>...</td>\n",
       "      <td>...</td>\n",
       "      <td>...</td>\n",
       "      <td>...</td>\n",
       "      <td>...</td>\n",
       "      <td>...</td>\n",
       "      <td>...</td>\n",
       "    </tr>\n",
       "    <tr>\n",
       "      <th>1304</th>\n",
       "      <td>3</td>\n",
       "      <td>Zabour, Miss. Hileni</td>\n",
       "      <td>female</td>\n",
       "      <td>14.5</td>\n",
       "      <td>1</td>\n",
       "      <td>0</td>\n",
       "      <td>2665</td>\n",
       "      <td>14.4542</td>\n",
       "      <td>?</td>\n",
       "      <td>C</td>\n",
       "      <td>?</td>\n",
       "      <td>328</td>\n",
       "      <td>?</td>\n",
       "      <td>0</td>\n",
       "    </tr>\n",
       "    <tr>\n",
       "      <th>1305</th>\n",
       "      <td>3</td>\n",
       "      <td>Zabour, Miss. Thamine</td>\n",
       "      <td>female</td>\n",
       "      <td>?</td>\n",
       "      <td>1</td>\n",
       "      <td>0</td>\n",
       "      <td>2665</td>\n",
       "      <td>14.4542</td>\n",
       "      <td>?</td>\n",
       "      <td>C</td>\n",
       "      <td>?</td>\n",
       "      <td>?</td>\n",
       "      <td>?</td>\n",
       "      <td>0</td>\n",
       "    </tr>\n",
       "    <tr>\n",
       "      <th>1306</th>\n",
       "      <td>3</td>\n",
       "      <td>Zakarian, Mr. Mapriededer</td>\n",
       "      <td>male</td>\n",
       "      <td>26.5</td>\n",
       "      <td>0</td>\n",
       "      <td>0</td>\n",
       "      <td>2656</td>\n",
       "      <td>7.225</td>\n",
       "      <td>?</td>\n",
       "      <td>C</td>\n",
       "      <td>?</td>\n",
       "      <td>304</td>\n",
       "      <td>?</td>\n",
       "      <td>0</td>\n",
       "    </tr>\n",
       "    <tr>\n",
       "      <th>1307</th>\n",
       "      <td>3</td>\n",
       "      <td>Zakarian, Mr. Ortin</td>\n",
       "      <td>male</td>\n",
       "      <td>27</td>\n",
       "      <td>0</td>\n",
       "      <td>0</td>\n",
       "      <td>2670</td>\n",
       "      <td>7.225</td>\n",
       "      <td>?</td>\n",
       "      <td>C</td>\n",
       "      <td>?</td>\n",
       "      <td>?</td>\n",
       "      <td>?</td>\n",
       "      <td>0</td>\n",
       "    </tr>\n",
       "    <tr>\n",
       "      <th>1308</th>\n",
       "      <td>3</td>\n",
       "      <td>Zimmerman, Mr. Leo</td>\n",
       "      <td>male</td>\n",
       "      <td>29</td>\n",
       "      <td>0</td>\n",
       "      <td>0</td>\n",
       "      <td>315082</td>\n",
       "      <td>7.875</td>\n",
       "      <td>?</td>\n",
       "      <td>S</td>\n",
       "      <td>?</td>\n",
       "      <td>?</td>\n",
       "      <td>?</td>\n",
       "      <td>0</td>\n",
       "    </tr>\n",
       "  </tbody>\n",
       "</table>\n",
       "<p>1309 rows × 14 columns</p>\n",
       "</div>"
      ],
      "text/plain": [
       "      pclass                                             name     sex     age  \\\n",
       "0          1                    Allen, Miss. Elisabeth Walton  female      29   \n",
       "1          1                   Allison, Master. Hudson Trevor    male  0.9167   \n",
       "2          1                     Allison, Miss. Helen Loraine  female       2   \n",
       "3          1             Allison, Mr. Hudson Joshua Creighton    male      30   \n",
       "4          1  Allison, Mrs. Hudson J C (Bessie Waldo Daniels)  female      25   \n",
       "...      ...                                              ...     ...     ...   \n",
       "1304       3                             Zabour, Miss. Hileni  female    14.5   \n",
       "1305       3                            Zabour, Miss. Thamine  female       ?   \n",
       "1306       3                        Zakarian, Mr. Mapriededer    male    26.5   \n",
       "1307       3                              Zakarian, Mr. Ortin    male      27   \n",
       "1308       3                               Zimmerman, Mr. Leo    male      29   \n",
       "\n",
       "      sibsp  parch  ticket      fare    cabin embarked boat body  \\\n",
       "0         0      0   24160  211.3375       B5        S    2    ?   \n",
       "1         1      2  113781    151.55  C22 C26        S   11    ?   \n",
       "2         1      2  113781    151.55  C22 C26        S    ?    ?   \n",
       "3         1      2  113781    151.55  C22 C26        S    ?  135   \n",
       "4         1      2  113781    151.55  C22 C26        S    ?    ?   \n",
       "...     ...    ...     ...       ...      ...      ...  ...  ...   \n",
       "1304      1      0    2665   14.4542        ?        C    ?  328   \n",
       "1305      1      0    2665   14.4542        ?        C    ?    ?   \n",
       "1306      0      0    2656     7.225        ?        C    ?  304   \n",
       "1307      0      0    2670     7.225        ?        C    ?    ?   \n",
       "1308      0      0  315082     7.875        ?        S    ?    ?   \n",
       "\n",
       "                            home.dest  survived  \n",
       "0                        St Louis, MO         1  \n",
       "1     Montreal, PQ / Chesterville, ON         1  \n",
       "2     Montreal, PQ / Chesterville, ON         0  \n",
       "3     Montreal, PQ / Chesterville, ON         0  \n",
       "4     Montreal, PQ / Chesterville, ON         0  \n",
       "...                               ...       ...  \n",
       "1304                                ?         0  \n",
       "1305                                ?         0  \n",
       "1306                                ?         0  \n",
       "1307                                ?         0  \n",
       "1308                                ?         0  \n",
       "\n",
       "[1309 rows x 14 columns]"
      ]
     },
     "execution_count": 6,
     "metadata": {},
     "output_type": "execute_result"
    }
   ],
   "source": [
    "df = df.drop(columns = ['survived'])\n",
    "df.insert(loc = df.shape[1], column = 'survived', value = target)\n",
    "df"
   ]
  },
  {
   "cell_type": "code",
   "execution_count": 7,
   "id": "03fa786c",
   "metadata": {},
   "outputs": [
    {
     "name": "stdout",
     "output_type": "stream",
     "text": [
      "The dataset has 1309 examples and 13 features + the target variable (survived)\n"
     ]
    }
   ],
   "source": [
    "print(f'The dataset has {df.shape[0]} examples and {df.shape[1]-1} features + the target variable (survived)')"
   ]
  },
  {
   "cell_type": "markdown",
   "id": "e681be8a",
   "metadata": {},
   "source": [
    "## Data Exploration"
   ]
  },
  {
   "cell_type": "markdown",
   "id": "e2feffc5",
   "metadata": {},
   "source": [
    "### Features"
   ]
  },
  {
   "cell_type": "code",
   "execution_count": 8,
   "id": "4861a56e",
   "metadata": {},
   "outputs": [
    {
     "data": {
      "text/plain": [
       "Index(['pclass', 'name', 'sex', 'age', 'sibsp', 'parch', 'ticket', 'fare',\n",
       "       'cabin', 'embarked', 'boat', 'body', 'home.dest', 'survived'],\n",
       "      dtype='object')"
      ]
     },
     "execution_count": 8,
     "metadata": {},
     "output_type": "execute_result"
    }
   ],
   "source": [
    "col = df.columns\n",
    "col"
   ]
  },
  {
   "cell_type": "markdown",
   "id": "85ea3861",
   "metadata": {},
   "source": [
    "- *pclass*: A proxy for socio-economic status (SES)\n",
    "    - 1st = Upper\n",
    "    - 2nd = Middle\n",
    "    - 3rd = Lower\n",
    "    \n",
    "    \n",
    "- *name*\n",
    "- *sex*\n",
    "- *age*: Age in years\n",
    "\n",
    "\n",
    "- *sibsp*: the total number of the passengers' siblings and spouse.\n",
    "\n",
    "    \n",
    "- *parch*: the total number of the passengers' parents and children.\n",
    "\n",
    "\n",
    "- *ticket*: Ticket number\n",
    "\n",
    "\n",
    "- *fare*: Passenger fare \n",
    "\n",
    "\n",
    "- *cabin*: Cabin number  \n",
    "\n",
    "\n",
    "- *embarked*: Port of Embarkation \n",
    "    - C = Cherbourg\n",
    "    - Q = Queenstown\n",
    "    - S = Southampton\n",
    "    \n",
    "- *body*: Body number (if did not survive and body was recovered)\n",
    "\n",
    "\n",
    "- *boat*: Lifeboat (if survived)\n",
    "\n",
    "\n",
    "- *home.est*\n",
    "\n",
    "\n",
    "- *survived*: target column\n",
    "\n",
    "    - 1 = Survived\n",
    "    - 0 = Not Survived"
   ]
  },
  {
   "cell_type": "markdown",
   "id": "886d54b2",
   "metadata": {},
   "source": [
    "Four of the features are integers, the others are objects."
   ]
  },
  {
   "cell_type": "code",
   "execution_count": 9,
   "id": "b3beeb4d",
   "metadata": {},
   "outputs": [
    {
     "name": "stdout",
     "output_type": "stream",
     "text": [
      "pclass        int64\n",
      "name         object\n",
      "sex          object\n",
      "age          object\n",
      "sibsp         int64\n",
      "parch         int64\n",
      "ticket       object\n",
      "fare         object\n",
      "cabin        object\n",
      "embarked     object\n",
      "boat         object\n",
      "body         object\n",
      "home.dest    object\n",
      "survived      int64\n",
      "dtype: object\n"
     ]
    }
   ],
   "source": [
    "print(df.dtypes)"
   ]
  },
  {
   "cell_type": "markdown",
   "id": "3d8e7ce2",
   "metadata": {},
   "source": [
    "From the table and data types above, we can note that we need to convert age and fare columns into numeric ones later on, so that the machine learning algorithms can process them. "
   ]
  },
  {
   "cell_type": "code",
   "execution_count": 10,
   "id": "ae9abc0a",
   "metadata": {},
   "outputs": [
    {
     "name": "stdout",
     "output_type": "stream",
     "text": [
      "pclass         int64\n",
      "name          object\n",
      "sex           object\n",
      "age          float64\n",
      "sibsp          int64\n",
      "parch          int64\n",
      "ticket        object\n",
      "fare         float64\n",
      "cabin         object\n",
      "embarked      object\n",
      "boat          object\n",
      "body          object\n",
      "home.dest     object\n",
      "survived       int64\n",
      "dtype: object\n"
     ]
    }
   ],
   "source": [
    "col = ['age', 'fare']\n",
    "\n",
    "df[col] = df[col].apply(pd.to_numeric, errors='coerce')\n",
    "print(df.dtypes)"
   ]
  },
  {
   "cell_type": "markdown",
   "id": "ae3fbc00",
   "metadata": {},
   "source": [
    "## Statistics"
   ]
  },
  {
   "cell_type": "markdown",
   "id": "510911f8",
   "metadata": {},
   "source": [
    "Statistical info about numerical variables:"
   ]
  },
  {
   "cell_type": "code",
   "execution_count": 11,
   "id": "66d15b60",
   "metadata": {},
   "outputs": [
    {
     "data": {
      "text/html": [
       "<div>\n",
       "<style scoped>\n",
       "    .dataframe tbody tr th:only-of-type {\n",
       "        vertical-align: middle;\n",
       "    }\n",
       "\n",
       "    .dataframe tbody tr th {\n",
       "        vertical-align: top;\n",
       "    }\n",
       "\n",
       "    .dataframe thead th {\n",
       "        text-align: right;\n",
       "    }\n",
       "</style>\n",
       "<table border=\"1\" class=\"dataframe\">\n",
       "  <thead>\n",
       "    <tr style=\"text-align: right;\">\n",
       "      <th></th>\n",
       "      <th>pclass</th>\n",
       "      <th>age</th>\n",
       "      <th>sibsp</th>\n",
       "      <th>parch</th>\n",
       "      <th>fare</th>\n",
       "      <th>survived</th>\n",
       "    </tr>\n",
       "  </thead>\n",
       "  <tbody>\n",
       "    <tr>\n",
       "      <th>count</th>\n",
       "      <td>1309.000000</td>\n",
       "      <td>1046.000000</td>\n",
       "      <td>1309.000000</td>\n",
       "      <td>1309.000000</td>\n",
       "      <td>1308.000000</td>\n",
       "      <td>1309.000000</td>\n",
       "    </tr>\n",
       "    <tr>\n",
       "      <th>mean</th>\n",
       "      <td>2.294882</td>\n",
       "      <td>29.881135</td>\n",
       "      <td>0.498854</td>\n",
       "      <td>0.385027</td>\n",
       "      <td>33.295479</td>\n",
       "      <td>0.381971</td>\n",
       "    </tr>\n",
       "    <tr>\n",
       "      <th>std</th>\n",
       "      <td>0.837836</td>\n",
       "      <td>14.413500</td>\n",
       "      <td>1.041658</td>\n",
       "      <td>0.865560</td>\n",
       "      <td>51.758668</td>\n",
       "      <td>0.486055</td>\n",
       "    </tr>\n",
       "    <tr>\n",
       "      <th>min</th>\n",
       "      <td>1.000000</td>\n",
       "      <td>0.166700</td>\n",
       "      <td>0.000000</td>\n",
       "      <td>0.000000</td>\n",
       "      <td>0.000000</td>\n",
       "      <td>0.000000</td>\n",
       "    </tr>\n",
       "    <tr>\n",
       "      <th>25%</th>\n",
       "      <td>2.000000</td>\n",
       "      <td>21.000000</td>\n",
       "      <td>0.000000</td>\n",
       "      <td>0.000000</td>\n",
       "      <td>7.895800</td>\n",
       "      <td>0.000000</td>\n",
       "    </tr>\n",
       "    <tr>\n",
       "      <th>50%</th>\n",
       "      <td>3.000000</td>\n",
       "      <td>28.000000</td>\n",
       "      <td>0.000000</td>\n",
       "      <td>0.000000</td>\n",
       "      <td>14.454200</td>\n",
       "      <td>0.000000</td>\n",
       "    </tr>\n",
       "    <tr>\n",
       "      <th>75%</th>\n",
       "      <td>3.000000</td>\n",
       "      <td>39.000000</td>\n",
       "      <td>1.000000</td>\n",
       "      <td>0.000000</td>\n",
       "      <td>31.275000</td>\n",
       "      <td>1.000000</td>\n",
       "    </tr>\n",
       "    <tr>\n",
       "      <th>max</th>\n",
       "      <td>3.000000</td>\n",
       "      <td>80.000000</td>\n",
       "      <td>8.000000</td>\n",
       "      <td>9.000000</td>\n",
       "      <td>512.329200</td>\n",
       "      <td>1.000000</td>\n",
       "    </tr>\n",
       "  </tbody>\n",
       "</table>\n",
       "</div>"
      ],
      "text/plain": [
       "            pclass          age        sibsp        parch         fare  \\\n",
       "count  1309.000000  1046.000000  1309.000000  1309.000000  1308.000000   \n",
       "mean      2.294882    29.881135     0.498854     0.385027    33.295479   \n",
       "std       0.837836    14.413500     1.041658     0.865560    51.758668   \n",
       "min       1.000000     0.166700     0.000000     0.000000     0.000000   \n",
       "25%       2.000000    21.000000     0.000000     0.000000     7.895800   \n",
       "50%       3.000000    28.000000     0.000000     0.000000    14.454200   \n",
       "75%       3.000000    39.000000     1.000000     0.000000    31.275000   \n",
       "max       3.000000    80.000000     8.000000     9.000000   512.329200   \n",
       "\n",
       "          survived  \n",
       "count  1309.000000  \n",
       "mean      0.381971  \n",
       "std       0.486055  \n",
       "min       0.000000  \n",
       "25%       0.000000  \n",
       "50%       0.000000  \n",
       "75%       1.000000  \n",
       "max       1.000000  "
      ]
     },
     "execution_count": 11,
     "metadata": {},
     "output_type": "execute_result"
    }
   ],
   "source": [
    "df.describe()"
   ]
  },
  {
   "cell_type": "markdown",
   "id": "944bd5ba",
   "metadata": {},
   "source": [
    "### Outliers"
   ]
  },
  {
   "cell_type": "markdown",
   "id": "0e508f95",
   "metadata": {},
   "source": [
    "We check and visualize outliers of numerical features with boxplots."
   ]
  },
  {
   "cell_type": "code",
   "execution_count": 12,
   "id": "36d43b8a",
   "metadata": {},
   "outputs": [
    {
     "data": {
      "image/png": "[encoded data removed]",
      "text/plain": [
       "<Figure size 1152x576 with 4 Axes>"
      ]
     },
     "metadata": {
      "needs_background": "light"
     },
     "output_type": "display_data"
    }
   ],
   "source": [
    "fig,ax = plt.subplots(2, 2, figsize=(16, 8))\n",
    "\n",
    "sns.boxplot(y='age', x = 'survived', hue = 'survived', data = df , ax=ax[0][0])\n",
    "sns.boxplot(y='fare',x = 'survived', hue = 'survived', data = df, ax=ax[0][1])\n",
    "sns.boxplot(y='sibsp', x = 'survived', hue = 'survived', data = df, ax=ax[1][0])\n",
    "sns.boxplot(y='parch', x = 'survived', hue = 'survived', data = df, ax=ax[1][1]);"
   ]
  },
  {
   "cell_type": "markdown",
   "id": "59306b38",
   "metadata": {},
   "source": [
    "The feature with more outliers are related with family size (sibsp + parch). We will crete a new column adding these two values and crating a new column (family size).\n",
    "\n",
    "Fare and age haven't got too much outliers. We think discrtize this columns could be a good idea."
   ]
  },
  {
   "cell_type": "markdown",
   "id": "346651d9",
   "metadata": {},
   "source": [
    "## Data pre-processing"
   ]
  },
  {
   "cell_type": "code",
   "execution_count": 13,
   "id": "3f4bb4fe",
   "metadata": {},
   "outputs": [
    {
     "data": {
      "text/html": [
       "<div>\n",
       "<style scoped>\n",
       "    .dataframe tbody tr th:only-of-type {\n",
       "        vertical-align: middle;\n",
       "    }\n",
       "\n",
       "    .dataframe tbody tr th {\n",
       "        vertical-align: top;\n",
       "    }\n",
       "\n",
       "    .dataframe thead th {\n",
       "        text-align: right;\n",
       "    }\n",
       "</style>\n",
       "<table border=\"1\" class=\"dataframe\">\n",
       "  <thead>\n",
       "    <tr style=\"text-align: right;\">\n",
       "      <th></th>\n",
       "      <th>pclass</th>\n",
       "      <th>name</th>\n",
       "      <th>sex</th>\n",
       "      <th>age</th>\n",
       "      <th>sibsp</th>\n",
       "      <th>parch</th>\n",
       "      <th>ticket</th>\n",
       "      <th>fare</th>\n",
       "      <th>cabin</th>\n",
       "      <th>embarked</th>\n",
       "      <th>boat</th>\n",
       "      <th>body</th>\n",
       "      <th>home.dest</th>\n",
       "      <th>survived</th>\n",
       "    </tr>\n",
       "  </thead>\n",
       "  <tbody>\n",
       "    <tr>\n",
       "      <th>0</th>\n",
       "      <td>1</td>\n",
       "      <td>Allen, Miss. Elisabeth Walton</td>\n",
       "      <td>female</td>\n",
       "      <td>29.0000</td>\n",
       "      <td>0</td>\n",
       "      <td>0</td>\n",
       "      <td>24160</td>\n",
       "      <td>211.3375</td>\n",
       "      <td>B5</td>\n",
       "      <td>S</td>\n",
       "      <td>2</td>\n",
       "      <td>?</td>\n",
       "      <td>St Louis, MO</td>\n",
       "      <td>1</td>\n",
       "    </tr>\n",
       "    <tr>\n",
       "      <th>1</th>\n",
       "      <td>1</td>\n",
       "      <td>Allison, Master. Hudson Trevor</td>\n",
       "      <td>male</td>\n",
       "      <td>0.9167</td>\n",
       "      <td>1</td>\n",
       "      <td>2</td>\n",
       "      <td>113781</td>\n",
       "      <td>151.5500</td>\n",
       "      <td>C22 C26</td>\n",
       "      <td>S</td>\n",
       "      <td>11</td>\n",
       "      <td>?</td>\n",
       "      <td>Montreal, PQ / Chesterville, ON</td>\n",
       "      <td>1</td>\n",
       "    </tr>\n",
       "    <tr>\n",
       "      <th>2</th>\n",
       "      <td>1</td>\n",
       "      <td>Allison, Miss. Helen Loraine</td>\n",
       "      <td>female</td>\n",
       "      <td>2.0000</td>\n",
       "      <td>1</td>\n",
       "      <td>2</td>\n",
       "      <td>113781</td>\n",
       "      <td>151.5500</td>\n",
       "      <td>C22 C26</td>\n",
       "      <td>S</td>\n",
       "      <td>?</td>\n",
       "      <td>?</td>\n",
       "      <td>Montreal, PQ / Chesterville, ON</td>\n",
       "      <td>0</td>\n",
       "    </tr>\n",
       "    <tr>\n",
       "      <th>3</th>\n",
       "      <td>1</td>\n",
       "      <td>Allison, Mr. Hudson Joshua Creighton</td>\n",
       "      <td>male</td>\n",
       "      <td>30.0000</td>\n",
       "      <td>1</td>\n",
       "      <td>2</td>\n",
       "      <td>113781</td>\n",
       "      <td>151.5500</td>\n",
       "      <td>C22 C26</td>\n",
       "      <td>S</td>\n",
       "      <td>?</td>\n",
       "      <td>135</td>\n",
       "      <td>Montreal, PQ / Chesterville, ON</td>\n",
       "      <td>0</td>\n",
       "    </tr>\n",
       "    <tr>\n",
       "      <th>4</th>\n",
       "      <td>1</td>\n",
       "      <td>Allison, Mrs. Hudson J C (Bessie Waldo Daniels)</td>\n",
       "      <td>female</td>\n",
       "      <td>25.0000</td>\n",
       "      <td>1</td>\n",
       "      <td>2</td>\n",
       "      <td>113781</td>\n",
       "      <td>151.5500</td>\n",
       "      <td>C22 C26</td>\n",
       "      <td>S</td>\n",
       "      <td>?</td>\n",
       "      <td>?</td>\n",
       "      <td>Montreal, PQ / Chesterville, ON</td>\n",
       "      <td>0</td>\n",
       "    </tr>\n",
       "  </tbody>\n",
       "</table>\n",
       "</div>"
      ],
      "text/plain": [
       "   pclass                                             name     sex      age  \\\n",
       "0       1                    Allen, Miss. Elisabeth Walton  female  29.0000   \n",
       "1       1                   Allison, Master. Hudson Trevor    male   0.9167   \n",
       "2       1                     Allison, Miss. Helen Loraine  female   2.0000   \n",
       "3       1             Allison, Mr. Hudson Joshua Creighton    male  30.0000   \n",
       "4       1  Allison, Mrs. Hudson J C (Bessie Waldo Daniels)  female  25.0000   \n",
       "\n",
       "   sibsp  parch  ticket      fare    cabin embarked boat body  \\\n",
       "0      0      0   24160  211.3375       B5        S    2    ?   \n",
       "1      1      2  113781  151.5500  C22 C26        S   11    ?   \n",
       "2      1      2  113781  151.5500  C22 C26        S    ?    ?   \n",
       "3      1      2  113781  151.5500  C22 C26        S    ?  135   \n",
       "4      1      2  113781  151.5500  C22 C26        S    ?    ?   \n",
       "\n",
       "                         home.dest  survived  \n",
       "0                     St Louis, MO         1  \n",
       "1  Montreal, PQ / Chesterville, ON         1  \n",
       "2  Montreal, PQ / Chesterville, ON         0  \n",
       "3  Montreal, PQ / Chesterville, ON         0  \n",
       "4  Montreal, PQ / Chesterville, ON         0  "
      ]
     },
     "execution_count": 13,
     "metadata": {},
     "output_type": "execute_result"
    }
   ],
   "source": [
    "# Create a copy of the dataframe\n",
    "df_eda = df.copy()\n",
    "df_eda.head()"
   ]
  },
  {
   "cell_type": "markdown",
   "id": "74785012",
   "metadata": {},
   "source": [
    "## Drop columns"
   ]
  },
  {
   "cell_type": "markdown",
   "id": "d963e2c6",
   "metadata": {},
   "source": [
    "First, we drop the columns we think don't give us valuable information for the problem."
   ]
  },
  {
   "cell_type": "markdown",
   "id": "ac9b7132",
   "metadata": {},
   "source": [
    "### body, boat"
   ]
  },
  {
   "cell_type": "markdown",
   "id": "2e0c66c7",
   "metadata": {},
   "source": [
    "'body'/'boat' give us information about the passenger survival probability > we decide to use the column 'survived' to get this information"
   ]
  },
  {
   "cell_type": "markdown",
   "id": "20125590",
   "metadata": {},
   "source": [
    "### home.dest"
   ]
  },
  {
   "cell_type": "markdown",
   "id": "41a3fca0",
   "metadata": {},
   "source": [
    "'home.dest' column is not relevant for our analysis... we can drop it!"
   ]
  },
  {
   "cell_type": "markdown",
   "id": "05044720",
   "metadata": {},
   "source": [
    "We can notice that thes two people survived... we do not need to do further analysis and we can drop the entire column! "
   ]
  },
  {
   "cell_type": "code",
   "execution_count": 14,
   "id": "9ee99e47",
   "metadata": {},
   "outputs": [
    {
     "data": {
      "text/html": [
       "<div>\n",
       "<style scoped>\n",
       "    .dataframe tbody tr th:only-of-type {\n",
       "        vertical-align: middle;\n",
       "    }\n",
       "\n",
       "    .dataframe tbody tr th {\n",
       "        vertical-align: top;\n",
       "    }\n",
       "\n",
       "    .dataframe thead th {\n",
       "        text-align: right;\n",
       "    }\n",
       "</style>\n",
       "<table border=\"1\" class=\"dataframe\">\n",
       "  <thead>\n",
       "    <tr style=\"text-align: right;\">\n",
       "      <th></th>\n",
       "      <th>pclass</th>\n",
       "      <th>name</th>\n",
       "      <th>sex</th>\n",
       "      <th>age</th>\n",
       "      <th>sibsp</th>\n",
       "      <th>parch</th>\n",
       "      <th>ticket</th>\n",
       "      <th>fare</th>\n",
       "      <th>cabin</th>\n",
       "      <th>embarked</th>\n",
       "      <th>survived</th>\n",
       "    </tr>\n",
       "  </thead>\n",
       "  <tbody>\n",
       "    <tr>\n",
       "      <th>0</th>\n",
       "      <td>1</td>\n",
       "      <td>Allen, Miss. Elisabeth Walton</td>\n",
       "      <td>female</td>\n",
       "      <td>29.0000</td>\n",
       "      <td>0</td>\n",
       "      <td>0</td>\n",
       "      <td>24160</td>\n",
       "      <td>211.3375</td>\n",
       "      <td>B5</td>\n",
       "      <td>S</td>\n",
       "      <td>1</td>\n",
       "    </tr>\n",
       "    <tr>\n",
       "      <th>1</th>\n",
       "      <td>1</td>\n",
       "      <td>Allison, Master. Hudson Trevor</td>\n",
       "      <td>male</td>\n",
       "      <td>0.9167</td>\n",
       "      <td>1</td>\n",
       "      <td>2</td>\n",
       "      <td>113781</td>\n",
       "      <td>151.5500</td>\n",
       "      <td>C22 C26</td>\n",
       "      <td>S</td>\n",
       "      <td>1</td>\n",
       "    </tr>\n",
       "    <tr>\n",
       "      <th>2</th>\n",
       "      <td>1</td>\n",
       "      <td>Allison, Miss. Helen Loraine</td>\n",
       "      <td>female</td>\n",
       "      <td>2.0000</td>\n",
       "      <td>1</td>\n",
       "      <td>2</td>\n",
       "      <td>113781</td>\n",
       "      <td>151.5500</td>\n",
       "      <td>C22 C26</td>\n",
       "      <td>S</td>\n",
       "      <td>0</td>\n",
       "    </tr>\n",
       "    <tr>\n",
       "      <th>3</th>\n",
       "      <td>1</td>\n",
       "      <td>Allison, Mr. Hudson Joshua Creighton</td>\n",
       "      <td>male</td>\n",
       "      <td>30.0000</td>\n",
       "      <td>1</td>\n",
       "      <td>2</td>\n",
       "      <td>113781</td>\n",
       "      <td>151.5500</td>\n",
       "      <td>C22 C26</td>\n",
       "      <td>S</td>\n",
       "      <td>0</td>\n",
       "    </tr>\n",
       "    <tr>\n",
       "      <th>4</th>\n",
       "      <td>1</td>\n",
       "      <td>Allison, Mrs. Hudson J C (Bessie Waldo Daniels)</td>\n",
       "      <td>female</td>\n",
       "      <td>25.0000</td>\n",
       "      <td>1</td>\n",
       "      <td>2</td>\n",
       "      <td>113781</td>\n",
       "      <td>151.5500</td>\n",
       "      <td>C22 C26</td>\n",
       "      <td>S</td>\n",
       "      <td>0</td>\n",
       "    </tr>\n",
       "  </tbody>\n",
       "</table>\n",
       "</div>"
      ],
      "text/plain": [
       "   pclass                                             name     sex      age  \\\n",
       "0       1                    Allen, Miss. Elisabeth Walton  female  29.0000   \n",
       "1       1                   Allison, Master. Hudson Trevor    male   0.9167   \n",
       "2       1                     Allison, Miss. Helen Loraine  female   2.0000   \n",
       "3       1             Allison, Mr. Hudson Joshua Creighton    male  30.0000   \n",
       "4       1  Allison, Mrs. Hudson J C (Bessie Waldo Daniels)  female  25.0000   \n",
       "\n",
       "   sibsp  parch  ticket      fare    cabin embarked  survived  \n",
       "0      0      0   24160  211.3375       B5        S         1  \n",
       "1      1      2  113781  151.5500  C22 C26        S         1  \n",
       "2      1      2  113781  151.5500  C22 C26        S         0  \n",
       "3      1      2  113781  151.5500  C22 C26        S         0  \n",
       "4      1      2  113781  151.5500  C22 C26        S         0  "
      ]
     },
     "execution_count": 14,
     "metadata": {},
     "output_type": "execute_result"
    }
   ],
   "source": [
    "df_eda = df_eda.drop(columns = ['body', 'boat', 'home.dest'])\n",
    "df_eda.head()"
   ]
  },
  {
   "cell_type": "code",
   "execution_count": 15,
   "id": "60bc0eb1",
   "metadata": {},
   "outputs": [
    {
     "name": "stdout",
     "output_type": "stream",
     "text": [
      "The dataset has 1309 examples and 10 features + the target variable (survived)\n"
     ]
    }
   ],
   "source": [
    "print(f'The dataset has {df_eda.shape[0]} examples and {df_eda.shape[1]-1} features + the target variable (survived)')"
   ]
  },
  {
   "cell_type": "markdown",
   "id": "83a1b9ee",
   "metadata": {},
   "source": [
    "## Missing data"
   ]
  },
  {
   "cell_type": "markdown",
   "id": "e87e4dd5",
   "metadata": {},
   "source": [
    "Check out for missing data."
   ]
  },
  {
   "cell_type": "code",
   "execution_count": 16,
   "id": "2f9ff739",
   "metadata": {},
   "outputs": [
    {
     "data": {
      "text/plain": [
       "age         263\n",
       "fare          1\n",
       "pclass        0\n",
       "name          0\n",
       "sex           0\n",
       "sibsp         0\n",
       "parch         0\n",
       "ticket        0\n",
       "cabin         0\n",
       "embarked      0\n",
       "survived      0\n",
       "dtype: int64"
      ]
     },
     "execution_count": 16,
     "metadata": {},
     "output_type": "execute_result"
    }
   ],
   "source": [
    "missing_values = df_eda.isnull().sum().sort_values(ascending=False)\n",
    "missing_values"
   ]
  },
  {
   "cell_type": "markdown",
   "id": "de8e88ba",
   "metadata": {},
   "source": [
    "The only two columns with missing data are age and fare."
   ]
  },
  {
   "cell_type": "code",
   "execution_count": 17,
   "id": "e532d37e",
   "metadata": {},
   "outputs": [],
   "source": [
    "perc_missing_values = round(df_eda.isnull().sum()*100/df_eda.shape[0],2).sort_values(ascending=False)\n",
    "# perc_missing_values"
   ]
  },
  {
   "cell_type": "code",
   "execution_count": 18,
   "id": "b3a870f2",
   "metadata": {},
   "outputs": [
    {
     "data": {
      "text/html": [
       "<div>\n",
       "<style scoped>\n",
       "    .dataframe tbody tr th:only-of-type {\n",
       "        vertical-align: middle;\n",
       "    }\n",
       "\n",
       "    .dataframe tbody tr th {\n",
       "        vertical-align: top;\n",
       "    }\n",
       "\n",
       "    .dataframe thead th {\n",
       "        text-align: right;\n",
       "    }\n",
       "</style>\n",
       "<table border=\"1\" class=\"dataframe\">\n",
       "  <thead>\n",
       "    <tr style=\"text-align: right;\">\n",
       "      <th></th>\n",
       "      <th>Total</th>\n",
       "      <th>%</th>\n",
       "    </tr>\n",
       "  </thead>\n",
       "  <tbody>\n",
       "    <tr>\n",
       "      <th>age</th>\n",
       "      <td>263</td>\n",
       "      <td>20.09</td>\n",
       "    </tr>\n",
       "    <tr>\n",
       "      <th>fare</th>\n",
       "      <td>1</td>\n",
       "      <td>0.08</td>\n",
       "    </tr>\n",
       "  </tbody>\n",
       "</table>\n",
       "</div>"
      ],
      "text/plain": [
       "      Total      %\n",
       "age     263  20.09\n",
       "fare      1   0.08"
      ]
     },
     "execution_count": 18,
     "metadata": {},
     "output_type": "execute_result"
    }
   ],
   "source": [
    "missing_data = pd.concat([missing_values, perc_missing_values], axis=1, keys=['Total', '%'])\n",
    "missing_data.head(2)"
   ]
  },
  {
   "cell_type": "markdown",
   "id": "ed2ae9db",
   "metadata": {},
   "source": [
    "### age"
   ]
  },
  {
   "cell_type": "markdown",
   "id": "6daee9b7",
   "metadata": {},
   "source": [
    "20% of the age column is missing. Let's have a look at the distribution and replace missing values."
   ]
  },
  {
   "cell_type": "code",
   "execution_count": 19,
   "id": "0d47c9d2",
   "metadata": {},
   "outputs": [
    {
     "data": {
      "image/png": "[encoded data removed]",
      "text/plain": [
       "<Figure size 576x432 with 1 Axes>"
      ]
     },
     "metadata": {
      "needs_background": "light"
     },
     "output_type": "display_data"
    }
   ],
   "source": [
    "# Histogram with null values\n",
    "plt.hist(df_eda.age, bins = 40);"
   ]
  },
  {
   "cell_type": "markdown",
   "id": "9827c8c5",
   "metadata": {},
   "source": [
    "We have a right-skewed distribution for age and the median should be a good choice for filling missing values. We check how much the median of age differs for passengers classes."
   ]
  },
  {
   "cell_type": "code",
   "execution_count": 20,
   "id": "af85cb81",
   "metadata": {},
   "outputs": [
    {
     "name": "stdout",
     "output_type": "stream",
     "text": [
      "Median for Age separeted by pclass and sex:\n"
     ]
    },
    {
     "data": {
      "text/plain": [
       "pclass  sex   \n",
       "1       female    36.0\n",
       "        male      42.0\n",
       "2       female    28.0\n",
       "        male      29.5\n",
       "3       female    22.0\n",
       "        male      25.0\n",
       "Name: age, dtype: float64"
      ]
     },
     "execution_count": 20,
     "metadata": {},
     "output_type": "execute_result"
    }
   ],
   "source": [
    "print('Median for Age separeted by pclass and sex:')\n",
    "median_age = df_eda.groupby(['pclass', 'sex'])['age'].median()\n",
    "median_age"
   ]
  },
  {
   "cell_type": "markdown",
   "id": "e4e8f7be",
   "metadata": {},
   "source": [
    "As we can see, younger people (both men and women) embarked in 3rd class and oldest people in 1st class.  Men and women ages differs too.\n",
    "\n",
    "We fill the missing values with random values centered around the mean and distributed with standard deviation, grouping ages by pclass and sex."
   ]
  },
  {
   "cell_type": "code",
   "execution_count": 21,
   "id": "9f8fd8ca",
   "metadata": {},
   "outputs": [],
   "source": [
    "# df_eda.age = df.groupby(['pclass', 'sex'])['age'].apply(lambda x: x.fillna(x.median()))"
   ]
  },
  {
   "cell_type": "code",
   "execution_count": 22,
   "id": "2a45aea7",
   "metadata": {},
   "outputs": [
    {
     "data": {
      "image/png": "[encoded data removed]",
      "text/plain": [
       "<Figure size 576x432 with 1 Axes>"
      ]
     },
     "metadata": {
      "needs_background": "light"
     },
     "output_type": "display_data"
    }
   ],
   "source": [
    "df_eda.groupby(['pclass', 'sex'])['age'].median().unstack().plot(kind = 'bar');"
   ]
  },
  {
   "cell_type": "code",
   "execution_count": 23,
   "id": "19dfeaa2",
   "metadata": {},
   "outputs": [],
   "source": [
    "# Group ages by class and sex\n",
    "ga = ['pclass', 'sex']"
   ]
  },
  {
   "cell_type": "code",
   "execution_count": 24,
   "id": "6d959fec",
   "metadata": {},
   "outputs": [],
   "source": [
    "def fill_na_age(df, col, gb = ga):\n",
    "    '''\n",
    "    Function that replaced missing values  centered around the mean and distributed with standard deviation\n",
    "    '''\n",
    "    \n",
    "    return df.groupby(gb)[col].apply(lambda x: x.fillna(np.random.randint(x.mean() - x.std(), x.mean() + x.std(), ())))"
   ]
  },
  {
   "cell_type": "code",
   "execution_count": 25,
   "id": "76593114",
   "metadata": {},
   "outputs": [],
   "source": [
    "df_eda.age = fill_na_age(df_eda, 'age')\n",
    "# df.age"
   ]
  },
  {
   "cell_type": "code",
   "execution_count": 26,
   "id": "fdb57365",
   "metadata": {},
   "outputs": [
    {
     "data": {
      "image/png": "[encoded data removed]",
      "text/plain": [
       "<Figure size 576x432 with 1 Axes>"
      ]
     },
     "metadata": {
      "needs_background": "light"
     },
     "output_type": "display_data"
    }
   ],
   "source": [
    "# Histogram with values replacement\n",
    "plt.hist(df_eda.age, bins = 40);"
   ]
  },
  {
   "cell_type": "markdown",
   "id": "fca6c173",
   "metadata": {},
   "source": [
    "The function assigns most of the ages between 20 and 30 years, the average age of the passengers (see boxplot)."
   ]
  },
  {
   "cell_type": "markdown",
   "id": "18c35afc",
   "metadata": {},
   "source": [
    "### fare"
   ]
  },
  {
   "cell_type": "markdown",
   "id": "331c5d33",
   "metadata": {},
   "source": [
    "We have only one missing fare value. It will be quite easy to replace it!"
   ]
  },
  {
   "cell_type": "code",
   "execution_count": 27,
   "id": "7dfc638b",
   "metadata": {},
   "outputs": [
    {
     "data": {
      "text/html": [
       "<div>\n",
       "<style scoped>\n",
       "    .dataframe tbody tr th:only-of-type {\n",
       "        vertical-align: middle;\n",
       "    }\n",
       "\n",
       "    .dataframe tbody tr th {\n",
       "        vertical-align: top;\n",
       "    }\n",
       "\n",
       "    .dataframe thead th {\n",
       "        text-align: right;\n",
       "    }\n",
       "</style>\n",
       "<table border=\"1\" class=\"dataframe\">\n",
       "  <thead>\n",
       "    <tr style=\"text-align: right;\">\n",
       "      <th></th>\n",
       "      <th>pclass</th>\n",
       "      <th>name</th>\n",
       "      <th>sex</th>\n",
       "      <th>age</th>\n",
       "      <th>sibsp</th>\n",
       "      <th>parch</th>\n",
       "      <th>ticket</th>\n",
       "      <th>fare</th>\n",
       "      <th>cabin</th>\n",
       "      <th>embarked</th>\n",
       "      <th>survived</th>\n",
       "    </tr>\n",
       "  </thead>\n",
       "  <tbody>\n",
       "    <tr>\n",
       "      <th>1225</th>\n",
       "      <td>3</td>\n",
       "      <td>Storey, Mr. Thomas</td>\n",
       "      <td>male</td>\n",
       "      <td>60.5</td>\n",
       "      <td>0</td>\n",
       "      <td>0</td>\n",
       "      <td>3701</td>\n",
       "      <td>NaN</td>\n",
       "      <td>?</td>\n",
       "      <td>S</td>\n",
       "      <td>0</td>\n",
       "    </tr>\n",
       "  </tbody>\n",
       "</table>\n",
       "</div>"
      ],
      "text/plain": [
       "      pclass                name   sex   age  sibsp  parch ticket  fare cabin  \\\n",
       "1225       3  Storey, Mr. Thomas  male  60.5      0      0   3701   NaN     ?   \n",
       "\n",
       "     embarked  survived  \n",
       "1225        S         0  "
      ]
     },
     "execution_count": 27,
     "metadata": {},
     "output_type": "execute_result"
    }
   ],
   "source": [
    "df_eda.loc[df_eda['fare'].isnull()]"
   ]
  },
  {
   "cell_type": "markdown",
   "id": "a399f340",
   "metadata": {},
   "source": [
    "We don't know the fare paid by Mr. Thomas Storey but we know that he's a man, 60 years old (approx) and was in passenger class 3. We find people with similar characteristics and we calculate the average price these people paid for the trip."
   ]
  },
  {
   "cell_type": "code",
   "execution_count": 28,
   "id": "8a16c221",
   "metadata": {},
   "outputs": [
    {
     "data": {
      "text/html": [
       "<div>\n",
       "<style scoped>\n",
       "    .dataframe tbody tr th:only-of-type {\n",
       "        vertical-align: middle;\n",
       "    }\n",
       "\n",
       "    .dataframe tbody tr th {\n",
       "        vertical-align: top;\n",
       "    }\n",
       "\n",
       "    .dataframe thead th {\n",
       "        text-align: right;\n",
       "    }\n",
       "</style>\n",
       "<table border=\"1\" class=\"dataframe\">\n",
       "  <thead>\n",
       "    <tr style=\"text-align: right;\">\n",
       "      <th></th>\n",
       "      <th>pclass</th>\n",
       "      <th>name</th>\n",
       "      <th>sex</th>\n",
       "      <th>age</th>\n",
       "      <th>sibsp</th>\n",
       "      <th>parch</th>\n",
       "      <th>ticket</th>\n",
       "      <th>fare</th>\n",
       "      <th>cabin</th>\n",
       "      <th>embarked</th>\n",
       "      <th>survived</th>\n",
       "    </tr>\n",
       "  </thead>\n",
       "  <tbody>\n",
       "    <tr>\n",
       "      <th>727</th>\n",
       "      <td>3</td>\n",
       "      <td>Connors, Mr. Patrick</td>\n",
       "      <td>male</td>\n",
       "      <td>70.5</td>\n",
       "      <td>0</td>\n",
       "      <td>0</td>\n",
       "      <td>370369</td>\n",
       "      <td>7.7500</td>\n",
       "      <td>?</td>\n",
       "      <td>Q</td>\n",
       "      <td>0</td>\n",
       "    </tr>\n",
       "    <tr>\n",
       "      <th>782</th>\n",
       "      <td>3</td>\n",
       "      <td>Duane, Mr. Frank</td>\n",
       "      <td>male</td>\n",
       "      <td>65.0</td>\n",
       "      <td>0</td>\n",
       "      <td>0</td>\n",
       "      <td>336439</td>\n",
       "      <td>7.7500</td>\n",
       "      <td>?</td>\n",
       "      <td>Q</td>\n",
       "      <td>0</td>\n",
       "    </tr>\n",
       "    <tr>\n",
       "      <th>1068</th>\n",
       "      <td>3</td>\n",
       "      <td>Nysveen, Mr. Johan Hansen</td>\n",
       "      <td>male</td>\n",
       "      <td>61.0</td>\n",
       "      <td>0</td>\n",
       "      <td>0</td>\n",
       "      <td>345364</td>\n",
       "      <td>6.2375</td>\n",
       "      <td>?</td>\n",
       "      <td>S</td>\n",
       "      <td>0</td>\n",
       "    </tr>\n",
       "    <tr>\n",
       "      <th>1225</th>\n",
       "      <td>3</td>\n",
       "      <td>Storey, Mr. Thomas</td>\n",
       "      <td>male</td>\n",
       "      <td>60.5</td>\n",
       "      <td>0</td>\n",
       "      <td>0</td>\n",
       "      <td>3701</td>\n",
       "      <td>NaN</td>\n",
       "      <td>?</td>\n",
       "      <td>S</td>\n",
       "      <td>0</td>\n",
       "    </tr>\n",
       "    <tr>\n",
       "      <th>1235</th>\n",
       "      <td>3</td>\n",
       "      <td>Svensson, Mr. Johan</td>\n",
       "      <td>male</td>\n",
       "      <td>74.0</td>\n",
       "      <td>0</td>\n",
       "      <td>0</td>\n",
       "      <td>347060</td>\n",
       "      <td>7.7750</td>\n",
       "      <td>?</td>\n",
       "      <td>S</td>\n",
       "      <td>0</td>\n",
       "    </tr>\n",
       "  </tbody>\n",
       "</table>\n",
       "</div>"
      ],
      "text/plain": [
       "      pclass                       name   sex   age  sibsp  parch  ticket  \\\n",
       "727        3       Connors, Mr. Patrick  male  70.5      0      0  370369   \n",
       "782        3           Duane, Mr. Frank  male  65.0      0      0  336439   \n",
       "1068       3  Nysveen, Mr. Johan Hansen  male  61.0      0      0  345364   \n",
       "1225       3         Storey, Mr. Thomas  male  60.5      0      0    3701   \n",
       "1235       3        Svensson, Mr. Johan  male  74.0      0      0  347060   \n",
       "\n",
       "        fare cabin embarked  survived  \n",
       "727   7.7500     ?        Q         0  \n",
       "782   7.7500     ?        Q         0  \n",
       "1068  6.2375     ?        S         0  \n",
       "1225     NaN     ?        S         0  \n",
       "1235  7.7750     ?        S         0  "
      ]
     },
     "execution_count": 28,
     "metadata": {},
     "output_type": "execute_result"
    }
   ],
   "source": [
    "# Find all the passengers of class 3, males and age > 60 years\n",
    "mr_storey = df_eda.loc[(df_eda['pclass'] == 3) & (df_eda['sex'] == 'male') & (df_eda['age'] >= 60)]\n",
    "mr_storey"
   ]
  },
  {
   "cell_type": "code",
   "execution_count": 29,
   "id": "c2694503",
   "metadata": {},
   "outputs": [
    {
     "data": {
      "text/plain": [
       "7.38"
      ]
     },
     "execution_count": 29,
     "metadata": {},
     "output_type": "execute_result"
    }
   ],
   "source": [
    "avg_price_cl3 = round(mr_storey['fare'].mean(),2)\n",
    "avg_price_cl3 "
   ]
  },
  {
   "cell_type": "markdown",
   "id": "0a321001",
   "metadata": {},
   "source": [
    "We replace the null value with the calculated mean."
   ]
  },
  {
   "cell_type": "code",
   "execution_count": 30,
   "id": "237d1365",
   "metadata": {},
   "outputs": [],
   "source": [
    "df_eda.loc[df_eda['fare'].isnull(),'fare'] = round(mr_storey['fare'].mean(),2)"
   ]
  },
  {
   "cell_type": "code",
   "execution_count": 31,
   "id": "72b22d29",
   "metadata": {},
   "outputs": [],
   "source": [
    "# df_eda.iloc[1225]"
   ]
  },
  {
   "cell_type": "markdown",
   "id": "4ab529c6",
   "metadata": {},
   "source": [
    "### Check for missing values"
   ]
  },
  {
   "cell_type": "code",
   "execution_count": 32,
   "id": "6c1f627f",
   "metadata": {
    "scrolled": true
   },
   "outputs": [
    {
     "data": {
      "text/plain": [
       "pclass      0\n",
       "name        0\n",
       "sex         0\n",
       "age         0\n",
       "sibsp       0\n",
       "parch       0\n",
       "ticket      0\n",
       "fare        0\n",
       "cabin       0\n",
       "embarked    0\n",
       "survived    0\n",
       "dtype: int64"
      ]
     },
     "execution_count": 32,
     "metadata": {},
     "output_type": "execute_result"
    }
   ],
   "source": [
    "df_eda.isnull().sum()"
   ]
  },
  {
   "cell_type": "markdown",
   "id": "afc173f9",
   "metadata": {},
   "source": [
    "No missing values!\n"
   ]
  },
  {
   "cell_type": "markdown",
   "id": "f007f501",
   "metadata": {},
   "source": [
    "## Unknown data"
   ]
  },
  {
   "cell_type": "markdown",
   "id": "ac33f461",
   "metadata": {},
   "source": [
    "Check out unknown values."
   ]
  },
  {
   "cell_type": "code",
   "execution_count": 33,
   "id": "88c181bb",
   "metadata": {},
   "outputs": [],
   "source": [
    "unknown_values = df_eda[df_eda == '?'].count().sort_values(ascending=False)\n",
    "# unknown_values"
   ]
  },
  {
   "cell_type": "code",
   "execution_count": 34,
   "id": "0949a0d9",
   "metadata": {},
   "outputs": [],
   "source": [
    "perc_unknown_values = round(unknown_values*100/df_eda.shape[0],2).sort_values(ascending=False)"
   ]
  },
  {
   "cell_type": "code",
   "execution_count": 35,
   "id": "624d492a",
   "metadata": {},
   "outputs": [
    {
     "data": {
      "text/html": [
       "<div>\n",
       "<style scoped>\n",
       "    .dataframe tbody tr th:only-of-type {\n",
       "        vertical-align: middle;\n",
       "    }\n",
       "\n",
       "    .dataframe tbody tr th {\n",
       "        vertical-align: top;\n",
       "    }\n",
       "\n",
       "    .dataframe thead th {\n",
       "        text-align: right;\n",
       "    }\n",
       "</style>\n",
       "<table border=\"1\" class=\"dataframe\">\n",
       "  <thead>\n",
       "    <tr style=\"text-align: right;\">\n",
       "      <th></th>\n",
       "      <th>Total</th>\n",
       "      <th>%</th>\n",
       "    </tr>\n",
       "  </thead>\n",
       "  <tbody>\n",
       "    <tr>\n",
       "      <th>cabin</th>\n",
       "      <td>1014</td>\n",
       "      <td>77.46</td>\n",
       "    </tr>\n",
       "    <tr>\n",
       "      <th>embarked</th>\n",
       "      <td>2</td>\n",
       "      <td>0.15</td>\n",
       "    </tr>\n",
       "    <tr>\n",
       "      <th>pclass</th>\n",
       "      <td>0</td>\n",
       "      <td>0.00</td>\n",
       "    </tr>\n",
       "    <tr>\n",
       "      <th>name</th>\n",
       "      <td>0</td>\n",
       "      <td>0.00</td>\n",
       "    </tr>\n",
       "    <tr>\n",
       "      <th>sex</th>\n",
       "      <td>0</td>\n",
       "      <td>0.00</td>\n",
       "    </tr>\n",
       "  </tbody>\n",
       "</table>\n",
       "</div>"
      ],
      "text/plain": [
       "          Total      %\n",
       "cabin      1014  77.46\n",
       "embarked      2   0.15\n",
       "pclass        0   0.00\n",
       "name          0   0.00\n",
       "sex           0   0.00"
      ]
     },
     "execution_count": 35,
     "metadata": {},
     "output_type": "execute_result"
    }
   ],
   "source": [
    "uk_data = pd.concat([unknown_values, perc_unknown_values], axis=1, keys=['Total', '%'])\n",
    "uk_data.head(5)"
   ]
  },
  {
   "cell_type": "markdown",
   "id": "cf9b3a0f",
   "metadata": {},
   "source": [
    "The only two columns with unknown data are cabin and embarked."
   ]
  },
  {
   "cell_type": "markdown",
   "id": "60500091",
   "metadata": {},
   "source": [
    "### cabin"
   ]
  },
  {
   "cell_type": "markdown",
   "id": "47aabc51",
   "metadata": {},
   "source": [
    "The column with the cabin's code has a lot of missing values (>70%) but since it could be useful predictor, we decide not to drop it.\n",
    "\n",
    "In fact, letters in cabin's code of a ship refer to the deck."
   ]
  },
  {
   "cell_type": "code",
   "execution_count": 36,
   "id": "f1b809bc",
   "metadata": {},
   "outputs": [
    {
     "data": {
      "text/plain": [
       "array(['B5', 'C22 C26', 'E12', 'D7', 'A36', 'C101', '?', 'C62 C64', 'B35',\n",
       "       'A23', 'B58 B60', 'D15', 'C6', 'D35', 'C148', 'C97', 'B49', 'C99',\n",
       "       'C52', 'T', 'A31', 'C7', 'C103', 'D22', 'E33', 'A21', 'B10', 'B4',\n",
       "       'E40', 'B38', 'E24', 'B51 B53 B55', 'B96 B98', 'C46', 'E31', 'E8',\n",
       "       'B61', 'B77', 'A9', 'C89', 'A14', 'E58', 'E49', 'E52', 'E45',\n",
       "       'B22', 'B26', 'C85', 'E17', 'B71', 'B20', 'A34', 'C86', 'A16',\n",
       "       'A20', 'A18', 'C54', 'C45', 'D20', 'A29', 'C95', 'E25', 'C111',\n",
       "       'C23 C25 C27', 'E36', 'D34', 'D40', 'B39', 'B41', 'B102', 'C123',\n",
       "       'E63', 'C130', 'B86', 'C92', 'A5', 'C51', 'B42', 'C91', 'C125',\n",
       "       'D10 D12', 'B82 B84', 'E50', 'D33', 'C83', 'B94', 'D49', 'D45',\n",
       "       'B69', 'B11', 'E46', 'C39', 'B18', 'D11', 'C93', 'B28', 'C49',\n",
       "       'B52 B54 B56', 'E60', 'C132', 'B37', 'D21', 'D19', 'C124', 'D17',\n",
       "       'B101', 'D28', 'D6', 'D9', 'B80', 'C106', 'B79', 'C47', 'D30',\n",
       "       'C90', 'E38', 'C78', 'C30', 'C118', 'D36', 'D48', 'D47', 'C105',\n",
       "       'B36', 'B30', 'D43', 'B24', 'C2', 'C65', 'B73', 'C104', 'C110',\n",
       "       'C50', 'B3', 'A24', 'A32', 'A11', 'A10', 'B57 B59 B63 B66', 'C28',\n",
       "       'E44', 'A26', 'A6', 'A7', 'C31', 'A19', 'B45', 'E34', 'B78', 'B50',\n",
       "       'C87', 'C116', 'C55 C57', 'D50', 'E68', 'E67', 'C126', 'C68',\n",
       "       'C70', 'C53', 'B19', 'D46', 'D37', 'D26', 'C32', 'C80', 'C82',\n",
       "       'C128', 'E39 E41', 'D', 'F4', 'D56', 'F33', 'E101', 'E77', 'F2',\n",
       "       'D38', 'F', 'F G63', 'F E57', 'F E46', 'F G73', 'E121', 'F E69',\n",
       "       'E10', 'G6', 'F38'], dtype=object)"
      ]
     },
     "execution_count": 36,
     "metadata": {},
     "output_type": "execute_result"
    }
   ],
   "source": [
    "df_eda.cabin.unique()"
   ]
  },
  {
   "cell_type": "markdown",
   "id": "27f5f14e",
   "metadata": {},
   "source": [
    "We extract the first letter from the cabin's code and we assign it to a deck, creating a new column."
   ]
  },
  {
   "cell_type": "code",
   "execution_count": 37,
   "id": "fb4618fb",
   "metadata": {},
   "outputs": [
    {
     "data": {
      "text/html": [
       "<div>\n",
       "<style scoped>\n",
       "    .dataframe tbody tr th:only-of-type {\n",
       "        vertical-align: middle;\n",
       "    }\n",
       "\n",
       "    .dataframe tbody tr th {\n",
       "        vertical-align: top;\n",
       "    }\n",
       "\n",
       "    .dataframe thead th {\n",
       "        text-align: right;\n",
       "    }\n",
       "</style>\n",
       "<table border=\"1\" class=\"dataframe\">\n",
       "  <thead>\n",
       "    <tr style=\"text-align: right;\">\n",
       "      <th></th>\n",
       "      <th>pclass</th>\n",
       "      <th>name</th>\n",
       "      <th>sex</th>\n",
       "      <th>age</th>\n",
       "      <th>sibsp</th>\n",
       "      <th>parch</th>\n",
       "      <th>ticket</th>\n",
       "      <th>fare</th>\n",
       "      <th>cabin</th>\n",
       "      <th>embarked</th>\n",
       "      <th>survived</th>\n",
       "      <th>deck</th>\n",
       "    </tr>\n",
       "  </thead>\n",
       "  <tbody>\n",
       "    <tr>\n",
       "      <th>0</th>\n",
       "      <td>1</td>\n",
       "      <td>Allen, Miss. Elisabeth Walton</td>\n",
       "      <td>female</td>\n",
       "      <td>29.0000</td>\n",
       "      <td>0</td>\n",
       "      <td>0</td>\n",
       "      <td>24160</td>\n",
       "      <td>211.3375</td>\n",
       "      <td>B5</td>\n",
       "      <td>S</td>\n",
       "      <td>1</td>\n",
       "      <td>B</td>\n",
       "    </tr>\n",
       "    <tr>\n",
       "      <th>1</th>\n",
       "      <td>1</td>\n",
       "      <td>Allison, Master. Hudson Trevor</td>\n",
       "      <td>male</td>\n",
       "      <td>0.9167</td>\n",
       "      <td>1</td>\n",
       "      <td>2</td>\n",
       "      <td>113781</td>\n",
       "      <td>151.5500</td>\n",
       "      <td>C22 C26</td>\n",
       "      <td>S</td>\n",
       "      <td>1</td>\n",
       "      <td>C</td>\n",
       "    </tr>\n",
       "    <tr>\n",
       "      <th>2</th>\n",
       "      <td>1</td>\n",
       "      <td>Allison, Miss. Helen Loraine</td>\n",
       "      <td>female</td>\n",
       "      <td>2.0000</td>\n",
       "      <td>1</td>\n",
       "      <td>2</td>\n",
       "      <td>113781</td>\n",
       "      <td>151.5500</td>\n",
       "      <td>C22 C26</td>\n",
       "      <td>S</td>\n",
       "      <td>0</td>\n",
       "      <td>C</td>\n",
       "    </tr>\n",
       "    <tr>\n",
       "      <th>3</th>\n",
       "      <td>1</td>\n",
       "      <td>Allison, Mr. Hudson Joshua Creighton</td>\n",
       "      <td>male</td>\n",
       "      <td>30.0000</td>\n",
       "      <td>1</td>\n",
       "      <td>2</td>\n",
       "      <td>113781</td>\n",
       "      <td>151.5500</td>\n",
       "      <td>C22 C26</td>\n",
       "      <td>S</td>\n",
       "      <td>0</td>\n",
       "      <td>C</td>\n",
       "    </tr>\n",
       "    <tr>\n",
       "      <th>4</th>\n",
       "      <td>1</td>\n",
       "      <td>Allison, Mrs. Hudson J C (Bessie Waldo Daniels)</td>\n",
       "      <td>female</td>\n",
       "      <td>25.0000</td>\n",
       "      <td>1</td>\n",
       "      <td>2</td>\n",
       "      <td>113781</td>\n",
       "      <td>151.5500</td>\n",
       "      <td>C22 C26</td>\n",
       "      <td>S</td>\n",
       "      <td>0</td>\n",
       "      <td>C</td>\n",
       "    </tr>\n",
       "    <tr>\n",
       "      <th>...</th>\n",
       "      <td>...</td>\n",
       "      <td>...</td>\n",
       "      <td>...</td>\n",
       "      <td>...</td>\n",
       "      <td>...</td>\n",
       "      <td>...</td>\n",
       "      <td>...</td>\n",
       "      <td>...</td>\n",
       "      <td>...</td>\n",
       "      <td>...</td>\n",
       "      <td>...</td>\n",
       "      <td>...</td>\n",
       "    </tr>\n",
       "    <tr>\n",
       "      <th>1304</th>\n",
       "      <td>3</td>\n",
       "      <td>Zabour, Miss. Hileni</td>\n",
       "      <td>female</td>\n",
       "      <td>14.5000</td>\n",
       "      <td>1</td>\n",
       "      <td>0</td>\n",
       "      <td>2665</td>\n",
       "      <td>14.4542</td>\n",
       "      <td>?</td>\n",
       "      <td>C</td>\n",
       "      <td>0</td>\n",
       "      <td>?</td>\n",
       "    </tr>\n",
       "    <tr>\n",
       "      <th>1305</th>\n",
       "      <td>3</td>\n",
       "      <td>Zabour, Miss. Thamine</td>\n",
       "      <td>female</td>\n",
       "      <td>30.0000</td>\n",
       "      <td>1</td>\n",
       "      <td>0</td>\n",
       "      <td>2665</td>\n",
       "      <td>14.4542</td>\n",
       "      <td>?</td>\n",
       "      <td>C</td>\n",
       "      <td>0</td>\n",
       "      <td>?</td>\n",
       "    </tr>\n",
       "    <tr>\n",
       "      <th>1306</th>\n",
       "      <td>3</td>\n",
       "      <td>Zakarian, Mr. Mapriededer</td>\n",
       "      <td>male</td>\n",
       "      <td>26.5000</td>\n",
       "      <td>0</td>\n",
       "      <td>0</td>\n",
       "      <td>2656</td>\n",
       "      <td>7.2250</td>\n",
       "      <td>?</td>\n",
       "      <td>C</td>\n",
       "      <td>0</td>\n",
       "      <td>?</td>\n",
       "    </tr>\n",
       "    <tr>\n",
       "      <th>1307</th>\n",
       "      <td>3</td>\n",
       "      <td>Zakarian, Mr. Ortin</td>\n",
       "      <td>male</td>\n",
       "      <td>27.0000</td>\n",
       "      <td>0</td>\n",
       "      <td>0</td>\n",
       "      <td>2670</td>\n",
       "      <td>7.2250</td>\n",
       "      <td>?</td>\n",
       "      <td>C</td>\n",
       "      <td>0</td>\n",
       "      <td>?</td>\n",
       "    </tr>\n",
       "    <tr>\n",
       "      <th>1308</th>\n",
       "      <td>3</td>\n",
       "      <td>Zimmerman, Mr. Leo</td>\n",
       "      <td>male</td>\n",
       "      <td>29.0000</td>\n",
       "      <td>0</td>\n",
       "      <td>0</td>\n",
       "      <td>315082</td>\n",
       "      <td>7.8750</td>\n",
       "      <td>?</td>\n",
       "      <td>S</td>\n",
       "      <td>0</td>\n",
       "      <td>?</td>\n",
       "    </tr>\n",
       "  </tbody>\n",
       "</table>\n",
       "<p>1309 rows × 12 columns</p>\n",
       "</div>"
      ],
      "text/plain": [
       "      pclass                                             name     sex  \\\n",
       "0          1                    Allen, Miss. Elisabeth Walton  female   \n",
       "1          1                   Allison, Master. Hudson Trevor    male   \n",
       "2          1                     Allison, Miss. Helen Loraine  female   \n",
       "3          1             Allison, Mr. Hudson Joshua Creighton    male   \n",
       "4          1  Allison, Mrs. Hudson J C (Bessie Waldo Daniels)  female   \n",
       "...      ...                                              ...     ...   \n",
       "1304       3                             Zabour, Miss. Hileni  female   \n",
       "1305       3                            Zabour, Miss. Thamine  female   \n",
       "1306       3                        Zakarian, Mr. Mapriededer    male   \n",
       "1307       3                              Zakarian, Mr. Ortin    male   \n",
       "1308       3                               Zimmerman, Mr. Leo    male   \n",
       "\n",
       "          age  sibsp  parch  ticket      fare    cabin embarked  survived deck  \n",
       "0     29.0000      0      0   24160  211.3375       B5        S         1    B  \n",
       "1      0.9167      1      2  113781  151.5500  C22 C26        S         1    C  \n",
       "2      2.0000      1      2  113781  151.5500  C22 C26        S         0    C  \n",
       "3     30.0000      1      2  113781  151.5500  C22 C26        S         0    C  \n",
       "4     25.0000      1      2  113781  151.5500  C22 C26        S         0    C  \n",
       "...       ...    ...    ...     ...       ...      ...      ...       ...  ...  \n",
       "1304  14.5000      1      0    2665   14.4542        ?        C         0    ?  \n",
       "1305  30.0000      1      0    2665   14.4542        ?        C         0    ?  \n",
       "1306  26.5000      0      0    2656    7.2250        ?        C         0    ?  \n",
       "1307  27.0000      0      0    2670    7.2250        ?        C         0    ?  \n",
       "1308  29.0000      0      0  315082    7.8750        ?        S         0    ?  \n",
       "\n",
       "[1309 rows x 12 columns]"
      ]
     },
     "execution_count": 37,
     "metadata": {},
     "output_type": "execute_result"
    }
   ],
   "source": [
    "deck = [i[:1]for i in df_eda.cabin]\n",
    "\n",
    "df_eda['deck'] = deck\n",
    "df_eda"
   ]
  },
  {
   "cell_type": "markdown",
   "id": "bb0832b8",
   "metadata": {},
   "source": [
    "We suppose that the classes are from A to G. We consider T and ? as unkown values."
   ]
  },
  {
   "cell_type": "code",
   "execution_count": 38,
   "id": "f170765b",
   "metadata": {
    "scrolled": true
   },
   "outputs": [
    {
     "data": {
      "text/html": [
       "<div>\n",
       "<style scoped>\n",
       "    .dataframe tbody tr th:only-of-type {\n",
       "        vertical-align: middle;\n",
       "    }\n",
       "\n",
       "    .dataframe tbody tr th {\n",
       "        vertical-align: top;\n",
       "    }\n",
       "\n",
       "    .dataframe thead th {\n",
       "        text-align: right;\n",
       "    }\n",
       "</style>\n",
       "<table border=\"1\" class=\"dataframe\">\n",
       "  <thead>\n",
       "    <tr style=\"text-align: right;\">\n",
       "      <th></th>\n",
       "      <th>pclass</th>\n",
       "      <th>name</th>\n",
       "      <th>sex</th>\n",
       "      <th>age</th>\n",
       "      <th>sibsp</th>\n",
       "      <th>parch</th>\n",
       "      <th>ticket</th>\n",
       "      <th>fare</th>\n",
       "      <th>cabin</th>\n",
       "      <th>embarked</th>\n",
       "      <th>survived</th>\n",
       "      <th>deck</th>\n",
       "    </tr>\n",
       "  </thead>\n",
       "  <tbody>\n",
       "    <tr>\n",
       "      <th>0</th>\n",
       "      <td>1</td>\n",
       "      <td>Allen, Miss. Elisabeth Walton</td>\n",
       "      <td>female</td>\n",
       "      <td>29.0000</td>\n",
       "      <td>0</td>\n",
       "      <td>0</td>\n",
       "      <td>24160</td>\n",
       "      <td>211.3375</td>\n",
       "      <td>B5</td>\n",
       "      <td>S</td>\n",
       "      <td>1</td>\n",
       "      <td>B</td>\n",
       "    </tr>\n",
       "    <tr>\n",
       "      <th>1</th>\n",
       "      <td>1</td>\n",
       "      <td>Allison, Master. Hudson Trevor</td>\n",
       "      <td>male</td>\n",
       "      <td>0.9167</td>\n",
       "      <td>1</td>\n",
       "      <td>2</td>\n",
       "      <td>113781</td>\n",
       "      <td>151.5500</td>\n",
       "      <td>C22 C26</td>\n",
       "      <td>S</td>\n",
       "      <td>1</td>\n",
       "      <td>C</td>\n",
       "    </tr>\n",
       "  </tbody>\n",
       "</table>\n",
       "</div>"
      ],
      "text/plain": [
       "   pclass                            name     sex      age  sibsp  parch  \\\n",
       "0       1   Allen, Miss. Elisabeth Walton  female  29.0000      0      0   \n",
       "1       1  Allison, Master. Hudson Trevor    male   0.9167      1      2   \n",
       "\n",
       "   ticket      fare    cabin embarked  survived deck  \n",
       "0   24160  211.3375       B5        S         1    B  \n",
       "1  113781  151.5500  C22 C26        S         1    C  "
      ]
     },
     "execution_count": 38,
     "metadata": {},
     "output_type": "execute_result"
    }
   ],
   "source": [
    "# df.cabin = code\n",
    "\n",
    "# Replace 'T' with '?'\n",
    "df_eda['deck'] = df_eda['deck'].str.replace('T', '?')\n",
    "df_eda.head(2)"
   ]
  },
  {
   "cell_type": "code",
   "execution_count": 39,
   "id": "059fe488",
   "metadata": {},
   "outputs": [
    {
     "data": {
      "text/plain": [
       "pclass  deck\n",
       "1       ?        68\n",
       "        A        22\n",
       "        B        65\n",
       "        C        94\n",
       "        D        40\n",
       "        E        34\n",
       "2       ?       254\n",
       "        D         6\n",
       "        E         4\n",
       "        F        13\n",
       "3       ?       693\n",
       "        E         3\n",
       "        F         8\n",
       "        G         5\n",
       "Name: deck, dtype: int64"
      ]
     },
     "execution_count": 39,
     "metadata": {},
     "output_type": "execute_result"
    }
   ],
   "source": [
    "x = df_eda.groupby(['pclass','deck'])['deck'].size()\n",
    "x"
   ]
  },
  {
   "cell_type": "markdown",
   "id": "f4bbeb63",
   "metadata": {},
   "source": [
    "Visualization of the distribution of the decks per class."
   ]
  },
  {
   "cell_type": "code",
   "execution_count": 40,
   "id": "480414ab",
   "metadata": {},
   "outputs": [
    {
     "data": {
      "image/png": "[encoded data removed]",
      "text/plain": [
       "<Figure size 720x288 with 2 Axes>"
      ]
     },
     "metadata": {
      "needs_background": "light"
     },
     "output_type": "display_data"
    }
   ],
   "source": [
    "\n",
    "fig,ax = plt.subplots(1,2,figsize = (10,4))\n",
    "plt.tight_layout(w_pad = 5)\n",
    "ax = ax.ravel()\n",
    "\n",
    "sns.countplot(x = 'pclass',data = df_eda[df_eda['deck'] != '?'], hue='deck', ax = ax[0])\n",
    "ax[0].legend(loc = 'best')\n",
    "ax[0].set_title('Decks per class');\n",
    "\n",
    "sns.countplot(x = 'pclass', data=df_eda[df_eda['deck'] == '?'], hue='deck', ax = ax[1])\n",
    "ax[1].set_title('Unkown deck per class');"
   ]
  },
  {
   "cell_type": "code",
   "execution_count": 41,
   "id": "708d34db",
   "metadata": {},
   "outputs": [],
   "source": [
    "# df_eda.groupby(['pclass','cabin'])['cabin'].count().unstack().plot(kind = 'bar', cmap= 'Blues');"
   ]
  },
  {
   "cell_type": "code",
   "execution_count": 42,
   "id": "31ae9819",
   "metadata": {},
   "outputs": [
    {
     "name": "stdout",
     "output_type": "stream",
     "text": [
      "Class 1 cabins: ['B', 'C', 'E', 'D', 'A', '?']\n",
      "Class 2 cabins: ['?', 'D', 'F', 'E']\n",
      "Class 3 cabins: ['?', 'F', 'E', 'G']\n"
     ]
    }
   ],
   "source": [
    "decks_by_class = [[],[],[]]\n",
    "\n",
    "for i in range(len(df_eda['pclass'].unique())):\n",
    "    decks_by_class[i] = list(df_eda[df_eda['pclass'] == i+1]['deck'].unique())\n",
    "    print(f'Class {i+1} cabins:', decks_by_class[i])"
   ]
  },
  {
   "cell_type": "code",
   "execution_count": 43,
   "id": "bfe3f8fb",
   "metadata": {},
   "outputs": [
    {
     "data": {
      "text/plain": [
       "[['B', 'C', 'E', 'D', 'A'], ['D', 'F', 'E'], ['F', 'E', 'G']]"
      ]
     },
     "execution_count": 43,
     "metadata": {},
     "output_type": "execute_result"
    }
   ],
   "source": [
    "# Removing null ('?') entries and single 'T' cabin\n",
    "for i in range(len(decks_by_class)):\n",
    "    if '?' in decks_by_class[i]:\n",
    "        decks_by_class[i].remove('?')\n",
    "\n",
    "decks_by_class"
   ]
  },
  {
   "cell_type": "markdown",
   "id": "ba2cdb02",
   "metadata": {},
   "source": [
    "Let's assign weights to the cabins so we can select randomly from each list and the selections will be properly distributed."
   ]
  },
  {
   "cell_type": "code",
   "execution_count": 44,
   "id": "d7a3e0c5",
   "metadata": {},
   "outputs": [
    {
     "name": "stdout",
     "output_type": "stream",
     "text": [
      "Class 1 weights: [0.255 0.369 0.133 0.157 0.086]\n",
      "Class 1 elements: [65 94 34 40 22] \n",
      "\n",
      "Class 2 weights: [0.261 0.565 0.174]\n",
      "Class 2 elements: [ 6 13  4] \n",
      "\n",
      "Class 3 weights: [0.5   0.188 0.312]\n",
      "Class 3 elements: [8 3 5] \n",
      "\n"
     ]
    }
   ],
   "source": [
    "weights_by_class = [[],[],[]]\n",
    "elements_by_class = [[],[],[]]\n",
    "\n",
    "for i, deck_list in enumerate(decks_by_class):\n",
    "    for deck in deck_list:\n",
    "        deck_tot = df_eda[(df_eda['deck'] != '?') & (df_eda['pclass'] == i+1)].count()[0]\n",
    "\n",
    "        deck_known = df_eda[(df_eda['deck'] == deck) & (df_eda['pclass'] == i+1)].count()[0]\n",
    "\n",
    "        weights_by_class[i].append(deck_known/deck_tot)\n",
    "        elements_by_class[i].append(deck_known)\n",
    "        \n",
    "    print(f'Class {i+1} weights:', np.round(weights_by_class[i],3))\n",
    "    print(f'Class {i+1} elements:', np.round(elements_by_class[i],3), '\\n')"
   ]
  },
  {
   "cell_type": "code",
   "execution_count": 45,
   "id": "b2614559",
   "metadata": {},
   "outputs": [],
   "source": [
    "# df_eda.deck.unique()"
   ]
  },
  {
   "cell_type": "markdown",
   "id": "b14e75c0",
   "metadata": {},
   "source": [
    "We impute the remaining cabin values semi-randomly as it is hard to sdetermine in which cabin each passenger was based on statistics."
   ]
  },
  {
   "cell_type": "code",
   "execution_count": 46,
   "id": "c577a2f1",
   "metadata": {},
   "outputs": [],
   "source": [
    "# len(df_eda.ticket.unique())"
   ]
  },
  {
   "cell_type": "markdown",
   "id": "8d9a2f68",
   "metadata": {},
   "source": [
    "We also make sure that families are housed in the same deck by analyzing their Ticket. "
   ]
  },
  {
   "cell_type": "code",
   "execution_count": 47,
   "id": "b244a349",
   "metadata": {},
   "outputs": [],
   "source": [
    "# Store tickets that were already looped with cabin position\n",
    "ticket_dict = {}"
   ]
  },
  {
   "cell_type": "code",
   "execution_count": 48,
   "id": "f1530e15",
   "metadata": {},
   "outputs": [],
   "source": [
    "def define_deck(row):\n",
    "    ticket = row['ticket']\n",
    "    deck = row['deck']\n",
    "    pclass = row['pclass']\n",
    "    \n",
    "    if (deck == '?') and (ticket not in ticket_dict):\n",
    "        \n",
    "        if pclass == 1:\n",
    "            deck = list(np.random.choice(decks_by_class[0],size=1,\n",
    "                                         p=weights_by_class[0]))[0]\n",
    "        elif pclass ==2:\n",
    "            deck = list(np.random.choice(decks_by_class[1],size=1,\n",
    "                                         p=weights_by_class[1]))[0]\n",
    "        elif pclass ==3:\n",
    "            deck = list(np.random.choice(decks_by_class[2],size=1,\n",
    "                                         p=weights_by_class[2]))[0]\n",
    "        \n",
    "        ticket_dict[ticket] = deck\n",
    "        \n",
    "    elif (deck == '?') and (ticket in ticket_dict):\n",
    "        deck = ticket_dict[ticket]\n",
    "    \n",
    "    return deck"
   ]
  },
  {
   "cell_type": "code",
   "execution_count": 49,
   "id": "e1925951",
   "metadata": {},
   "outputs": [],
   "source": [
    "df_eda['deck'] = df_eda.apply(define_deck,axis=1)"
   ]
  },
  {
   "cell_type": "markdown",
   "id": "6024f7c3",
   "metadata": {},
   "source": [
    "### embarked"
   ]
  },
  {
   "cell_type": "markdown",
   "id": "d19644b6",
   "metadata": {},
   "source": [
    "There are only two unknown values.\n",
    "\n",
    "https://en.wikipedia.org/wiki/Passengers_of_the_Titanic can help us to find out when they embarked."
   ]
  },
  {
   "cell_type": "code",
   "execution_count": 50,
   "id": "b76eebb8",
   "metadata": {},
   "outputs": [
    {
     "data": {
      "text/plain": [
       "array(['S', 'C', '?', 'Q'], dtype=object)"
      ]
     },
     "execution_count": 50,
     "metadata": {},
     "output_type": "execute_result"
    }
   ],
   "source": [
    "df_eda['embarked'].unique()"
   ]
  },
  {
   "cell_type": "code",
   "execution_count": 51,
   "id": "2d1fc120",
   "metadata": {},
   "outputs": [
    {
     "data": {
      "image/png": "[encoded data removed]",
      "text/plain": [
       "<Figure size 576x432 with 1 Axes>"
      ]
     },
     "metadata": {
      "needs_background": "light"
     },
     "output_type": "display_data"
    }
   ],
   "source": [
    "plt.hist(df_eda.embarked);"
   ]
  },
  {
   "cell_type": "code",
   "execution_count": 52,
   "id": "94614d49",
   "metadata": {},
   "outputs": [
    {
     "data": {
      "text/html": [
       "<div>\n",
       "<style scoped>\n",
       "    .dataframe tbody tr th:only-of-type {\n",
       "        vertical-align: middle;\n",
       "    }\n",
       "\n",
       "    .dataframe tbody tr th {\n",
       "        vertical-align: top;\n",
       "    }\n",
       "\n",
       "    .dataframe thead th {\n",
       "        text-align: right;\n",
       "    }\n",
       "</style>\n",
       "<table border=\"1\" class=\"dataframe\">\n",
       "  <thead>\n",
       "    <tr style=\"text-align: right;\">\n",
       "      <th></th>\n",
       "      <th>pclass</th>\n",
       "      <th>name</th>\n",
       "      <th>sex</th>\n",
       "      <th>age</th>\n",
       "      <th>sibsp</th>\n",
       "      <th>parch</th>\n",
       "      <th>ticket</th>\n",
       "      <th>fare</th>\n",
       "      <th>cabin</th>\n",
       "      <th>embarked</th>\n",
       "      <th>survived</th>\n",
       "      <th>deck</th>\n",
       "    </tr>\n",
       "  </thead>\n",
       "  <tbody>\n",
       "    <tr>\n",
       "      <th>168</th>\n",
       "      <td>1</td>\n",
       "      <td>Icard, Miss. Amelie</td>\n",
       "      <td>female</td>\n",
       "      <td>38.0</td>\n",
       "      <td>0</td>\n",
       "      <td>0</td>\n",
       "      <td>113572</td>\n",
       "      <td>80.0</td>\n",
       "      <td>B28</td>\n",
       "      <td>?</td>\n",
       "      <td>1</td>\n",
       "      <td>B</td>\n",
       "    </tr>\n",
       "    <tr>\n",
       "      <th>284</th>\n",
       "      <td>1</td>\n",
       "      <td>Stone, Mrs. George Nelson (Martha Evelyn)</td>\n",
       "      <td>female</td>\n",
       "      <td>62.0</td>\n",
       "      <td>0</td>\n",
       "      <td>0</td>\n",
       "      <td>113572</td>\n",
       "      <td>80.0</td>\n",
       "      <td>B28</td>\n",
       "      <td>?</td>\n",
       "      <td>1</td>\n",
       "      <td>B</td>\n",
       "    </tr>\n",
       "  </tbody>\n",
       "</table>\n",
       "</div>"
      ],
      "text/plain": [
       "     pclass                                       name     sex   age  sibsp  \\\n",
       "168       1                        Icard, Miss. Amelie  female  38.0      0   \n",
       "284       1  Stone, Mrs. George Nelson (Martha Evelyn)  female  62.0      0   \n",
       "\n",
       "     parch  ticket  fare cabin embarked  survived deck  \n",
       "168      0  113572  80.0   B28        ?         1    B  \n",
       "284      0  113572  80.0   B28        ?         1    B  "
      ]
     },
     "execution_count": 52,
     "metadata": {},
     "output_type": "execute_result"
    }
   ],
   "source": [
    "df_eda.loc[df['embarked'] == '?']"
   ]
  },
  {
   "cell_type": "markdown",
   "id": "abe2f86e",
   "metadata": {},
   "source": [
    "Both women (Miss Amelie Icard - Mrs. Martha Evelyn) embarked in Southampton."
   ]
  },
  {
   "cell_type": "code",
   "execution_count": 53,
   "id": "7d6d781d",
   "metadata": {},
   "outputs": [],
   "source": [
    "df_eda.embarked = df.embarked.replace('?','S')"
   ]
  },
  {
   "cell_type": "code",
   "execution_count": 54,
   "id": "2cc63975",
   "metadata": {},
   "outputs": [
    {
     "data": {
      "text/plain": [
       "array(['S', 'C', 'Q'], dtype=object)"
      ]
     },
     "execution_count": 54,
     "metadata": {},
     "output_type": "execute_result"
    }
   ],
   "source": [
    "df_eda['embarked'].unique()"
   ]
  },
  {
   "cell_type": "markdown",
   "id": "6836b657",
   "metadata": {},
   "source": [
    "## Visualization"
   ]
  },
  {
   "cell_type": "markdown",
   "id": "ae68266e",
   "metadata": {},
   "source": [
    "First of all, we visualize the percentage of survivors of the shipwreck."
   ]
  },
  {
   "cell_type": "markdown",
   "id": "518096ac",
   "metadata": {},
   "source": [
    "### survived (target)"
   ]
  },
  {
   "cell_type": "code",
   "execution_count": 55,
   "id": "289a9bd9",
   "metadata": {},
   "outputs": [],
   "source": [
    "survivors = df_eda.survived.value_counts(normalize=True) * 100"
   ]
  },
  {
   "cell_type": "code",
   "execution_count": 56,
   "id": "4f4928af",
   "metadata": {},
   "outputs": [
    {
     "data": {
      "image/png": "[encoded data removed]",
      "text/plain": [
       "<Figure size 576x432 with 1 Axes>"
      ]
     },
     "metadata": {
      "needs_background": "light"
     },
     "output_type": "display_data"
    }
   ],
   "source": [
    "survivors.plot.bar().set_title('% of people Survived/Not survived');"
   ]
  },
  {
   "cell_type": "code",
   "execution_count": 57,
   "id": "ff00d2e8",
   "metadata": {},
   "outputs": [
    {
     "name": "stdout",
     "output_type": "stream",
     "text": [
      "The comparison revealed that more than 61.8 % of the passengers had died.\n"
     ]
    }
   ],
   "source": [
    "print(f'The comparison revealed that more than {round(survivors[0],2)} % of the passengers had died.')"
   ]
  },
  {
   "cell_type": "markdown",
   "id": "999e3374",
   "metadata": {},
   "source": [
    "For time limits, we decide to create some visualizations of the features we think are more interesting to know the passengers's possibility of survivance: \n",
    "\n",
    "    - sex\n",
    "    - pclass\n",
    "    - deck"
   ]
  },
  {
   "cell_type": "code",
   "execution_count": 58,
   "id": "c97cda98",
   "metadata": {},
   "outputs": [
    {
     "data": {
      "text/plain": [
       "array([1, 0], dtype=int64)"
      ]
     },
     "execution_count": 58,
     "metadata": {},
     "output_type": "execute_result"
    }
   ],
   "source": [
    "df_eda.survived.unique()"
   ]
  },
  {
   "cell_type": "markdown",
   "id": "6842bf2c",
   "metadata": {},
   "source": [
    "### sex"
   ]
  },
  {
   "cell_type": "code",
   "execution_count": 59,
   "id": "06401890",
   "metadata": {},
   "outputs": [
    {
     "data": {
      "image/png": "[encoded data removed]",
      "text/plain": [
       "<Figure size 576x432 with 1 Axes>"
      ]
     },
     "metadata": {
      "needs_background": "light"
     },
     "output_type": "display_data"
    }
   ],
   "source": [
    "sex = df_eda.sex.value_counts(normalize = True) * 100\n",
    "\n",
    "# Plot\n",
    "sex.plot.bar().set_title('% of sex of the passengers');"
   ]
  },
  {
   "cell_type": "code",
   "execution_count": 60,
   "id": "33033de6",
   "metadata": {},
   "outputs": [
    {
     "name": "stdout",
     "output_type": "stream",
     "text": [
      "Around 61.8 % of the passengers were male while the remaining 38.2 % were female.\n"
     ]
    }
   ],
   "source": [
    "print(f'Around {round(survivors[0],2)} % of the passengers were male while the remaining {round(survivors[1],2)} % were female.') "
   ]
  },
  {
   "cell_type": "markdown",
   "id": "fa9483bd",
   "metadata": {},
   "source": [
    "### pclass"
   ]
  },
  {
   "cell_type": "code",
   "execution_count": 61,
   "id": "2cbf5bb0",
   "metadata": {},
   "outputs": [
    {
     "data": {
      "image/png": "[encoded data removed]",
      "text/plain": [
       "<Figure size 576x432 with 1 Axes>"
      ]
     },
     "metadata": {
      "needs_background": "light"
     },
     "output_type": "display_data"
    }
   ],
   "source": [
    "pclass = df_eda.pclass.value_counts(normalize = True) * 100\n",
    "\n",
    "# Plot\n",
    "pclass.sort_index().plot.bar().set_title('% of passengers in every class');"
   ]
  },
  {
   "cell_type": "code",
   "execution_count": 62,
   "id": "c84506b2",
   "metadata": {},
   "outputs": [
    {
     "name": "stdout",
     "output_type": "stream",
     "text": [
      "Passengers per class:\n",
      " - 1st class: 24.68 %\n",
      " - 2nd class: 21.16 %\n",
      " - 3rd class: 54.16 %\n"
     ]
    }
   ],
   "source": [
    "print(f'Passengers per class:\\n - 1st class: {round(pclass[1],2)} %\\n - 2nd class: {round(pclass[2],2)} %\\n - 3rd class: {round(pclass[3],2)} %') "
   ]
  },
  {
   "cell_type": "markdown",
   "id": "5560852b",
   "metadata": {},
   "source": [
    "### deck"
   ]
  },
  {
   "cell_type": "code",
   "execution_count": 63,
   "id": "b124e9eb",
   "metadata": {},
   "outputs": [
    {
     "data": {
      "image/png": "[encoded data removed]",
      "text/plain": [
       "<Figure size 576x432 with 1 Axes>"
      ]
     },
     "metadata": {
      "needs_background": "light"
     },
     "output_type": "display_data"
    }
   ],
   "source": [
    "deck = df_eda.deck.value_counts(normalize = True).sort_index() * 100\n",
    "\n",
    "# Plot\n",
    "deck.sort_index().plot.bar().set_title('% of passengers in every deck');"
   ]
  },
  {
   "cell_type": "code",
   "execution_count": 64,
   "id": "1ba7e8aa",
   "metadata": {},
   "outputs": [
    {
     "name": "stdout",
     "output_type": "stream",
     "text": [
      "Passengers per deck:\n",
      " - Deck A: 1.91 %\n",
      " - Deck B: 5.96 %\n",
      " - Deck C: 8.86 %\n",
      " - Deck D: 9.7 %\n",
      " - Deck E: 18.26 %\n",
      " - Deck F: 38.96 %\n",
      " - Deck G: 16.35 %\n"
     ]
    }
   ],
   "source": [
    "print(f'Passengers per deck:\\n - Deck A: {round(deck[0],2)} %\\n - Deck B: {round(deck[1],2)} %\\n - Deck C: {round(deck[2],2)} %\\n - Deck D: {round(deck[3],2)} %\\n - Deck E: {round(deck[4],2)} %\\n - Deck F: {round(deck[5],2)} %\\n - Deck G: {round(deck[6],2)} %') "
   ]
  },
  {
   "cell_type": "markdown",
   "id": "0b556001",
   "metadata": {},
   "source": [
    "### survivors per sex"
   ]
  },
  {
   "cell_type": "code",
   "execution_count": 65,
   "id": "5ac5f591",
   "metadata": {},
   "outputs": [
    {
     "data": {
      "image/png": "[encoded data removed]",
      "text/plain": [
       "<Figure size 576x432 with 1 Axes>"
      ]
     },
     "metadata": {
      "needs_background": "light"
     },
     "output_type": "display_data"
    }
   ],
   "source": [
    "male_perc = round((df_eda[df_eda.sex == 'male'].survived == 1).value_counts()[1]/len(df_eda.sex) * 100, 2)\n",
    "female_perc = round((df_eda[df_eda.sex == 'female'].survived == 1).value_counts()[1]/len(df_eda.sex) * 100, 2)\n",
    "\n",
    "\n",
    "sex_perc_df = pd.DataFrame({ \"% Survived\":{\"male\": male_perc,\"female\": female_perc},  \n",
    "                            \"% Not Survived\":{\"male\": 100 - male_perc,\"female\": 100 - female_perc}});\n",
    "\n",
    "# Plot\n",
    "sex_perc_df.plot.bar().set_title('% of male and female survived and not survived');"
   ]
  },
  {
   "cell_type": "code",
   "execution_count": 66,
   "id": "1df306b4",
   "metadata": {},
   "outputs": [
    {
     "data": {
      "text/html": [
       "<div>\n",
       "<style scoped>\n",
       "    .dataframe tbody tr th:only-of-type {\n",
       "        vertical-align: middle;\n",
       "    }\n",
       "\n",
       "    .dataframe tbody tr th {\n",
       "        vertical-align: top;\n",
       "    }\n",
       "\n",
       "    .dataframe thead th {\n",
       "        text-align: right;\n",
       "    }\n",
       "</style>\n",
       "<table border=\"1\" class=\"dataframe\">\n",
       "  <thead>\n",
       "    <tr style=\"text-align: right;\">\n",
       "      <th></th>\n",
       "      <th>% Survived</th>\n",
       "      <th>% Not Survived</th>\n",
       "    </tr>\n",
       "  </thead>\n",
       "  <tbody>\n",
       "    <tr>\n",
       "      <th>male</th>\n",
       "      <td>12.3</td>\n",
       "      <td>87.7</td>\n",
       "    </tr>\n",
       "    <tr>\n",
       "      <th>female</th>\n",
       "      <td>25.9</td>\n",
       "      <td>74.1</td>\n",
       "    </tr>\n",
       "  </tbody>\n",
       "</table>\n",
       "</div>"
      ],
      "text/plain": [
       "        % Survived  % Not Survived\n",
       "male          12.3            87.7\n",
       "female        25.9            74.1"
      ]
     },
     "execution_count": 66,
     "metadata": {},
     "output_type": "execute_result"
    }
   ],
   "source": [
    "sex_perc_df"
   ]
  },
  {
   "cell_type": "code",
   "execution_count": 67,
   "id": "45b770c0",
   "metadata": {},
   "outputs": [
    {
     "name": "stdout",
     "output_type": "stream",
     "text": [
      "More than 80% male passengers died as compared to around 70% female passengers.\n"
     ]
    }
   ],
   "source": [
    "print(f'More than 80% male passengers died as compared to around 70% female passengers.')"
   ]
  },
  {
   "cell_type": "markdown",
   "id": "e664c5bb",
   "metadata": {},
   "source": [
    "### survivors per class"
   ]
  },
  {
   "cell_type": "code",
   "execution_count": 68,
   "id": "8b1e4cb8",
   "metadata": {},
   "outputs": [
    {
     "data": {
      "image/png": "[encoded data removed]",
      "text/plain": [
       "<Figure size 576x432 with 1 Axes>"
      ]
     },
     "metadata": {
      "needs_background": "light"
     },
     "output_type": "display_data"
    }
   ],
   "source": [
    "pclass_1_surv_distr = round((df_eda[df_eda.pclass == 1].survived == 1).value_counts()[1]/len(df_eda[df_eda.pclass == 1]) * 100, 2)\n",
    "pclass_2_surv_distr = round((df_eda[df_eda.pclass == 2].survived == 1).value_counts()[1]/len(df_eda[df_eda.pclass == 2]) * 100, 2)\n",
    "pclass_3_surv_distr = round((df_eda[df_eda.pclass == 3].survived == 1).value_counts()[1]/len(df_eda[df_eda.pclass == 3]) * 100, 2)\n",
    "\n",
    "\n",
    "\n",
    "pclass_perc_df = pd.DataFrame(\n",
    "    { \"% Survived\":{\"Class 1\": pclass_1_surv_distr,\"Class 2\": pclass_2_surv_distr, \"Class 3\": pclass_3_surv_distr},  \n",
    "    \"% Not Survived\":{\"Class 1\": 100-pclass_1_surv_distr,\"Class 2\": 100-pclass_2_surv_distr, \"Class 3\": 100-pclass_3_surv_distr}})\n",
    "\n",
    "# Plot\n",
    "pclass_perc_df.plot.bar().set_title(\"% of people survived on the basis of class\");"
   ]
  },
  {
   "cell_type": "code",
   "execution_count": 69,
   "id": "4d3b108d",
   "metadata": {},
   "outputs": [
    {
     "data": {
      "text/html": [
       "<div>\n",
       "<style scoped>\n",
       "    .dataframe tbody tr th:only-of-type {\n",
       "        vertical-align: middle;\n",
       "    }\n",
       "\n",
       "    .dataframe tbody tr th {\n",
       "        vertical-align: top;\n",
       "    }\n",
       "\n",
       "    .dataframe thead th {\n",
       "        text-align: right;\n",
       "    }\n",
       "</style>\n",
       "<table border=\"1\" class=\"dataframe\">\n",
       "  <thead>\n",
       "    <tr style=\"text-align: right;\">\n",
       "      <th></th>\n",
       "      <th>% Survived</th>\n",
       "      <th>% Not Survived</th>\n",
       "    </tr>\n",
       "  </thead>\n",
       "  <tbody>\n",
       "    <tr>\n",
       "      <th>Class 1</th>\n",
       "      <td>61.92</td>\n",
       "      <td>38.08</td>\n",
       "    </tr>\n",
       "    <tr>\n",
       "      <th>Class 2</th>\n",
       "      <td>42.96</td>\n",
       "      <td>57.04</td>\n",
       "    </tr>\n",
       "    <tr>\n",
       "      <th>Class 3</th>\n",
       "      <td>25.53</td>\n",
       "      <td>74.47</td>\n",
       "    </tr>\n",
       "  </tbody>\n",
       "</table>\n",
       "</div>"
      ],
      "text/plain": [
       "         % Survived  % Not Survived\n",
       "Class 1       61.92           38.08\n",
       "Class 2       42.96           57.04\n",
       "Class 3       25.53           74.47"
      ]
     },
     "execution_count": 69,
     "metadata": {},
     "output_type": "execute_result"
    }
   ],
   "source": [
    "pclass_perc_df"
   ]
  },
  {
   "cell_type": "code",
   "execution_count": 70,
   "id": "9ecf691c",
   "metadata": {},
   "outputs": [
    {
     "name": "stdout",
     "output_type": "stream",
     "text": [
      "More than 70% passengers of class 3 died as compared to around 60% passengers of 1st class survived.\n"
     ]
    }
   ],
   "source": [
    "print(f'More than 70% passengers of class 3 died as compared to around 60% passengers of 1st class survived.')"
   ]
  },
  {
   "cell_type": "markdown",
   "id": "978a62e6",
   "metadata": {},
   "source": [
    "## Save csv"
   ]
  },
  {
   "cell_type": "code",
   "execution_count": 71,
   "id": "0da5e730",
   "metadata": {},
   "outputs": [],
   "source": [
    "# df_eda.to_csv('output/data_EDA.csv')"
   ]
  },
  {
   "cell_type": "markdown",
   "id": "6fe8cbc2",
   "metadata": {},
   "source": [
    "## Feature engineering"
   ]
  },
  {
   "cell_type": "markdown",
   "id": "bc2a04f2",
   "metadata": {},
   "source": [
    "Since this is categorical problem the algorithms that will be used further on will benefit from the data being categorical. We need ato do some transformations."
   ]
  },
  {
   "cell_type": "code",
   "execution_count": 72,
   "id": "d42d5be4",
   "metadata": {},
   "outputs": [
    {
     "data": {
      "text/html": [
       "<div>\n",
       "<style scoped>\n",
       "    .dataframe tbody tr th:only-of-type {\n",
       "        vertical-align: middle;\n",
       "    }\n",
       "\n",
       "    .dataframe tbody tr th {\n",
       "        vertical-align: top;\n",
       "    }\n",
       "\n",
       "    .dataframe thead th {\n",
       "        text-align: right;\n",
       "    }\n",
       "</style>\n",
       "<table border=\"1\" class=\"dataframe\">\n",
       "  <thead>\n",
       "    <tr style=\"text-align: right;\">\n",
       "      <th></th>\n",
       "      <th>pclass</th>\n",
       "      <th>name</th>\n",
       "      <th>sex</th>\n",
       "      <th>age</th>\n",
       "      <th>sibsp</th>\n",
       "      <th>parch</th>\n",
       "      <th>ticket</th>\n",
       "      <th>fare</th>\n",
       "      <th>cabin</th>\n",
       "      <th>embarked</th>\n",
       "      <th>survived</th>\n",
       "      <th>deck</th>\n",
       "    </tr>\n",
       "  </thead>\n",
       "  <tbody>\n",
       "    <tr>\n",
       "      <th>0</th>\n",
       "      <td>1</td>\n",
       "      <td>Allen, Miss. Elisabeth Walton</td>\n",
       "      <td>female</td>\n",
       "      <td>29.0000</td>\n",
       "      <td>0</td>\n",
       "      <td>0</td>\n",
       "      <td>24160</td>\n",
       "      <td>211.3375</td>\n",
       "      <td>B5</td>\n",
       "      <td>S</td>\n",
       "      <td>1</td>\n",
       "      <td>B</td>\n",
       "    </tr>\n",
       "    <tr>\n",
       "      <th>1</th>\n",
       "      <td>1</td>\n",
       "      <td>Allison, Master. Hudson Trevor</td>\n",
       "      <td>male</td>\n",
       "      <td>0.9167</td>\n",
       "      <td>1</td>\n",
       "      <td>2</td>\n",
       "      <td>113781</td>\n",
       "      <td>151.5500</td>\n",
       "      <td>C22 C26</td>\n",
       "      <td>S</td>\n",
       "      <td>1</td>\n",
       "      <td>C</td>\n",
       "    </tr>\n",
       "  </tbody>\n",
       "</table>\n",
       "</div>"
      ],
      "text/plain": [
       "   pclass                            name     sex      age  sibsp  parch  \\\n",
       "0       1   Allen, Miss. Elisabeth Walton  female  29.0000      0      0   \n",
       "1       1  Allison, Master. Hudson Trevor    male   0.9167      1      2   \n",
       "\n",
       "   ticket      fare    cabin embarked  survived deck  \n",
       "0   24160  211.3375       B5        S         1    B  \n",
       "1  113781  151.5500  C22 C26        S         1    C  "
      ]
     },
     "execution_count": 72,
     "metadata": {},
     "output_type": "execute_result"
    }
   ],
   "source": [
    "df_eda.head(2)"
   ]
  },
  {
   "cell_type": "code",
   "execution_count": 73,
   "id": "823f5518",
   "metadata": {},
   "outputs": [],
   "source": [
    "# Create a copy of the dataframe\n",
    "df_label = df_eda.copy()"
   ]
  },
  {
   "cell_type": "markdown",
   "id": "f787bda8",
   "metadata": {},
   "source": [
    "## Creating categories"
   ]
  },
  {
   "cell_type": "markdown",
   "id": "29b9499b",
   "metadata": {},
   "source": [
    "### name"
   ]
  },
  {
   "cell_type": "markdown",
   "id": "a906e9b8",
   "metadata": {},
   "source": [
    "The titles of each passenger also provide useful information so we need to extract them."
   ]
  },
  {
   "cell_type": "code",
   "execution_count": 74,
   "id": "15223cc7",
   "metadata": {},
   "outputs": [],
   "source": [
    "def get_title(name):\n",
    "    \n",
    "    '''\n",
    "    Function that finds the title of each passenger.\n",
    "    '''\n",
    "    \n",
    "    # Format of title (upper letter+lowers letters + .\n",
    "    title_search = re.search(' ([A-Za-z]+)\\.', name)\n",
    "    \n",
    "    # If the title exists, extract and return it.\n",
    "    if title_search:\n",
    "        return title_search.group(1)\n",
    "    return \"\""
   ]
  },
  {
   "cell_type": "markdown",
   "id": "383e45d6",
   "metadata": {},
   "source": [
    "We create a new column, title."
   ]
  },
  {
   "cell_type": "code",
   "execution_count": 75,
   "id": "d037ac68",
   "metadata": {},
   "outputs": [
    {
     "data": {
      "text/plain": [
       "array(['Miss', 'Master', 'Mr', 'Mrs', 'Col', 'Mme', 'Dr', 'Major', 'Capt',\n",
       "       'Lady', 'Sir', 'Mlle', 'Dona', 'Jonkheer', 'Countess', 'Don',\n",
       "       'Rev', 'Ms'], dtype=object)"
      ]
     },
     "execution_count": 75,
     "metadata": {},
     "output_type": "execute_result"
    }
   ],
   "source": [
    "df_label['title'] = df_label['name'].apply(get_title)\n",
    "\n",
    "df_label['title'].unique()"
   ]
  },
  {
   "cell_type": "markdown",
   "id": "072bf281",
   "metadata": {},
   "source": [
    "We try to understand some of these lesser known titles:\n",
    "\n",
    "- *Master*: boys and young men\n",
    "- *Don/ Donna/ Lady/ Sir/ Countess/ Jonkheer*: royal or high profile title\n",
    "- *Rev*: reverend, priest\n",
    "- *Mme/ Ms*: woman of unknown marrital status (usually unmarried)\n",
    "- *Major/ Col/ Capt*: military title\n",
    "- *Mlle*: married woman\n",
    "\n",
    "Now, we can do the replacement:"
   ]
  },
  {
   "cell_type": "code",
   "execution_count": 76,
   "id": "5063d1ba",
   "metadata": {},
   "outputs": [],
   "source": [
    "# Grouping titles\n",
    "df_label['title'] = df_label['title'].replace(['Ms','Mme'],'Miss')\n",
    "df_label['title'] = df_label['title'].replace(['Mme', 'Mlle'],'Mrs')\n",
    "df_label['title'] = df_label['title'].replace(['Don','Dona','Lady','Sir','Countess','Jonkheer'],'Royal')\n",
    "df_label['title'] = df_label['title'].replace(['Rev','Major','Col','Capt','Dr'],'Other')"
   ]
  },
  {
   "cell_type": "code",
   "execution_count": 77,
   "id": "33829ffd",
   "metadata": {},
   "outputs": [
    {
     "data": {
      "text/plain": [
       "array(['Miss', 'Master', 'Mr', 'Mrs', 'Other', 'Royal'], dtype=object)"
      ]
     },
     "execution_count": 77,
     "metadata": {},
     "output_type": "execute_result"
    }
   ],
   "source": [
    "df_label['title'].unique()"
   ]
  },
  {
   "cell_type": "code",
   "execution_count": 78,
   "id": "5b440727",
   "metadata": {},
   "outputs": [],
   "source": [
    "# Labelling\n",
    "df_label.loc[df_label[\"title\"] == \"Miss\", \"title\"] = 0\n",
    "df_label.loc[df_label[\"title\"] == \"Mr\", \"title\"] = 1\n",
    "df_label.loc[df_label[\"title\"] == \"Mrs\", \"title\"] = 2\n",
    "df_label.loc[df_label[\"title\"] == \"Master\", \"title\"] = 3\n",
    "df_label.loc[df_label[\"title\"] == \"Royal\", \"title\"] = 4\n",
    "df_label.loc[df_label[\"title\"] == \"Other\", \"title\"] = 5"
   ]
  },
  {
   "cell_type": "code",
   "execution_count": 79,
   "id": "6dabac85",
   "metadata": {},
   "outputs": [
    {
     "data": {
      "text/plain": [
       "array([0, 3, 1, 2, 5, 4], dtype=object)"
      ]
     },
     "execution_count": 79,
     "metadata": {},
     "output_type": "execute_result"
    }
   ],
   "source": [
    "df_label['title'].unique()"
   ]
  },
  {
   "cell_type": "markdown",
   "id": "b6b99c32",
   "metadata": {},
   "source": [
    "### sex"
   ]
  },
  {
   "cell_type": "code",
   "execution_count": 80,
   "id": "242a87b6",
   "metadata": {},
   "outputs": [],
   "source": [
    "# Labelling\n",
    "df_label.loc[df_label[\"sex\"] == \"male\" , \"sex\"] = 0\n",
    "df_label.loc[df_label[\"sex\"] == \"female\",\"sex\"] = 1"
   ]
  },
  {
   "cell_type": "code",
   "execution_count": 81,
   "id": "605219aa",
   "metadata": {},
   "outputs": [
    {
     "data": {
      "text/plain": [
       "array([1, 0], dtype=object)"
      ]
     },
     "execution_count": 81,
     "metadata": {},
     "output_type": "execute_result"
    }
   ],
   "source": [
    "df_label['sex'].unique()"
   ]
  },
  {
   "cell_type": "markdown",
   "id": "cd9dcc8b",
   "metadata": {},
   "source": [
    "### age"
   ]
  },
  {
   "cell_type": "code",
   "execution_count": 82,
   "id": "441d1a4f",
   "metadata": {},
   "outputs": [
    {
     "name": "stdout",
     "output_type": "stream",
     "text": [
      "The youngest traveler onboard was aged around 2 months and the oldest passenger was 80 years. We need to discretized values\n"
     ]
    }
   ],
   "source": [
    "print(f'The youngest traveler onboard was aged around {str(round(df_label.age.min()*12))} months and the oldest passenger was {str(round(df_label.age.max()))} years. We need to discretized values')"
   ]
  },
  {
   "cell_type": "code",
   "execution_count": 83,
   "id": "aac71e5a",
   "metadata": {},
   "outputs": [],
   "source": [
    "# Discretize ages (ranges = 10 years)\n",
    "df_label['age_range'] = pd.cut(df_label.age, [0, 10, 20, 30, 40, 50, 60, 70, 80], labels = False)"
   ]
  },
  {
   "cell_type": "code",
   "execution_count": 84,
   "id": "84baf517",
   "metadata": {
    "scrolled": true
   },
   "outputs": [
    {
     "data": {
      "text/html": [
       "<div>\n",
       "<style scoped>\n",
       "    .dataframe tbody tr th:only-of-type {\n",
       "        vertical-align: middle;\n",
       "    }\n",
       "\n",
       "    .dataframe tbody tr th {\n",
       "        vertical-align: top;\n",
       "    }\n",
       "\n",
       "    .dataframe thead th {\n",
       "        text-align: right;\n",
       "    }\n",
       "</style>\n",
       "<table border=\"1\" class=\"dataframe\">\n",
       "  <thead>\n",
       "    <tr style=\"text-align: right;\">\n",
       "      <th></th>\n",
       "      <th>pclass</th>\n",
       "      <th>name</th>\n",
       "      <th>sex</th>\n",
       "      <th>age</th>\n",
       "      <th>sibsp</th>\n",
       "      <th>parch</th>\n",
       "      <th>ticket</th>\n",
       "      <th>fare</th>\n",
       "      <th>cabin</th>\n",
       "      <th>embarked</th>\n",
       "      <th>survived</th>\n",
       "      <th>deck</th>\n",
       "      <th>title</th>\n",
       "      <th>age_range</th>\n",
       "    </tr>\n",
       "  </thead>\n",
       "  <tbody>\n",
       "    <tr>\n",
       "      <th>0</th>\n",
       "      <td>1</td>\n",
       "      <td>Allen, Miss. Elisabeth Walton</td>\n",
       "      <td>1</td>\n",
       "      <td>29.0000</td>\n",
       "      <td>0</td>\n",
       "      <td>0</td>\n",
       "      <td>24160</td>\n",
       "      <td>211.3375</td>\n",
       "      <td>B5</td>\n",
       "      <td>S</td>\n",
       "      <td>1</td>\n",
       "      <td>B</td>\n",
       "      <td>0</td>\n",
       "      <td>2</td>\n",
       "    </tr>\n",
       "    <tr>\n",
       "      <th>1</th>\n",
       "      <td>1</td>\n",
       "      <td>Allison, Master. Hudson Trevor</td>\n",
       "      <td>0</td>\n",
       "      <td>0.9167</td>\n",
       "      <td>1</td>\n",
       "      <td>2</td>\n",
       "      <td>113781</td>\n",
       "      <td>151.5500</td>\n",
       "      <td>C22 C26</td>\n",
       "      <td>S</td>\n",
       "      <td>1</td>\n",
       "      <td>C</td>\n",
       "      <td>3</td>\n",
       "      <td>0</td>\n",
       "    </tr>\n",
       "    <tr>\n",
       "      <th>2</th>\n",
       "      <td>1</td>\n",
       "      <td>Allison, Miss. Helen Loraine</td>\n",
       "      <td>1</td>\n",
       "      <td>2.0000</td>\n",
       "      <td>1</td>\n",
       "      <td>2</td>\n",
       "      <td>113781</td>\n",
       "      <td>151.5500</td>\n",
       "      <td>C22 C26</td>\n",
       "      <td>S</td>\n",
       "      <td>0</td>\n",
       "      <td>C</td>\n",
       "      <td>0</td>\n",
       "      <td>0</td>\n",
       "    </tr>\n",
       "    <tr>\n",
       "      <th>3</th>\n",
       "      <td>1</td>\n",
       "      <td>Allison, Mr. Hudson Joshua Creighton</td>\n",
       "      <td>0</td>\n",
       "      <td>30.0000</td>\n",
       "      <td>1</td>\n",
       "      <td>2</td>\n",
       "      <td>113781</td>\n",
       "      <td>151.5500</td>\n",
       "      <td>C22 C26</td>\n",
       "      <td>S</td>\n",
       "      <td>0</td>\n",
       "      <td>C</td>\n",
       "      <td>1</td>\n",
       "      <td>2</td>\n",
       "    </tr>\n",
       "    <tr>\n",
       "      <th>4</th>\n",
       "      <td>1</td>\n",
       "      <td>Allison, Mrs. Hudson J C (Bessie Waldo Daniels)</td>\n",
       "      <td>1</td>\n",
       "      <td>25.0000</td>\n",
       "      <td>1</td>\n",
       "      <td>2</td>\n",
       "      <td>113781</td>\n",
       "      <td>151.5500</td>\n",
       "      <td>C22 C26</td>\n",
       "      <td>S</td>\n",
       "      <td>0</td>\n",
       "      <td>C</td>\n",
       "      <td>2</td>\n",
       "      <td>2</td>\n",
       "    </tr>\n",
       "  </tbody>\n",
       "</table>\n",
       "</div>"
      ],
      "text/plain": [
       "   pclass                                             name sex      age  \\\n",
       "0       1                    Allen, Miss. Elisabeth Walton   1  29.0000   \n",
       "1       1                   Allison, Master. Hudson Trevor   0   0.9167   \n",
       "2       1                     Allison, Miss. Helen Loraine   1   2.0000   \n",
       "3       1             Allison, Mr. Hudson Joshua Creighton   0  30.0000   \n",
       "4       1  Allison, Mrs. Hudson J C (Bessie Waldo Daniels)   1  25.0000   \n",
       "\n",
       "   sibsp  parch  ticket      fare    cabin embarked  survived deck title  \\\n",
       "0      0      0   24160  211.3375       B5        S         1    B     0   \n",
       "1      1      2  113781  151.5500  C22 C26        S         1    C     3   \n",
       "2      1      2  113781  151.5500  C22 C26        S         0    C     0   \n",
       "3      1      2  113781  151.5500  C22 C26        S         0    C     1   \n",
       "4      1      2  113781  151.5500  C22 C26        S         0    C     2   \n",
       "\n",
       "   age_range  \n",
       "0          2  \n",
       "1          0  \n",
       "2          0  \n",
       "3          2  \n",
       "4          2  "
      ]
     },
     "execution_count": 84,
     "metadata": {},
     "output_type": "execute_result"
    }
   ],
   "source": [
    "df_label.head()"
   ]
  },
  {
   "cell_type": "markdown",
   "id": "8dc6c5c8",
   "metadata": {},
   "source": [
    "We visualize the probability of survivance based on range ages (0 = 0-10 years, 1 = 10-20 years... and so on)."
   ]
  },
  {
   "cell_type": "code",
   "execution_count": 85,
   "id": "0bb9f308",
   "metadata": {},
   "outputs": [
    {
     "data": {
      "image/png": "[encoded data removed]",
      "text/plain": [
       "<Figure size 576x432 with 1 Axes>"
      ]
     },
     "metadata": {
      "needs_background": "light"
     },
     "output_type": "display_data"
    }
   ],
   "source": [
    "# Plot\n",
    "sns.countplot(x = \"age_range\", hue = \"survived\", data = df_label).legend(labels = [\"Not survived\", \"Survived\"]);"
   ]
  },
  {
   "cell_type": "markdown",
   "id": "c5a9073e",
   "metadata": {},
   "source": [
    "A lot of people between 20 and 30 years old couldn't survive. Children below age 10 had a good chance to survive."
   ]
  },
  {
   "cell_type": "code",
   "execution_count": 86,
   "id": "6f5c53a8",
   "metadata": {},
   "outputs": [
    {
     "data": {
      "text/plain": [
       "array([2, 0, 4, 6, 3, 5, 7, 1], dtype=int64)"
      ]
     },
     "execution_count": 86,
     "metadata": {},
     "output_type": "execute_result"
    }
   ],
   "source": [
    "df_label['age_range'].unique()"
   ]
  },
  {
   "cell_type": "markdown",
   "id": "f8262b28",
   "metadata": {},
   "source": [
    "### fare"
   ]
  },
  {
   "cell_type": "code",
   "execution_count": 87,
   "id": "d952cda2",
   "metadata": {},
   "outputs": [
    {
     "name": "stdout",
     "output_type": "stream",
     "text": [
      "The cheapest ticket was free 0 and the most expensive was 512 dollars.\n"
     ]
    }
   ],
   "source": [
    "print(f'The cheapest ticket was free {str(round(df_label.fare.min()))} and the most expensive was {str(round(df_label.fare.max()))} dollars.')"
   ]
  },
  {
   "cell_type": "markdown",
   "id": "a5e1d62d",
   "metadata": {},
   "source": [
    "We convert fare , which is currently continuous, to discrete data. We decide to split data into 5 groups."
   ]
  },
  {
   "cell_type": "code",
   "execution_count": 88,
   "id": "5c711de6",
   "metadata": {},
   "outputs": [],
   "source": [
    "splits = 5"
   ]
  },
  {
   "cell_type": "code",
   "execution_count": 89,
   "id": "5bbf5876",
   "metadata": {},
   "outputs": [
    {
     "name": "stdout",
     "output_type": "stream",
     "text": [
      "Group 1: (-0.001, 7.854]\n",
      "Group 2: (7.854, 10.5]\n",
      "Group 3: (10.5, 21.558]\n",
      "Group 4: (21.558, 41.579]\n",
      "Group 5: (41.579, 512.329]\n"
     ]
    }
   ],
   "source": [
    "# Intervals for discretizing fare values\n",
    "for i in range(splits):\n",
    "    print(f'Group {i+1}:',pd.qcut(df_label['fare'],splits).sort_values().unique()[i])"
   ]
  },
  {
   "cell_type": "code",
   "execution_count": 90,
   "id": "bef9a10b",
   "metadata": {},
   "outputs": [],
   "source": [
    "df_label['fare_range'] = pd.qcut(df_label.fare, splits,labels=False)"
   ]
  },
  {
   "cell_type": "markdown",
   "id": "6522a921",
   "metadata": {},
   "source": [
    "Visualization of the fare range based on the pclass."
   ]
  },
  {
   "cell_type": "code",
   "execution_count": 91,
   "id": "9d70ca33",
   "metadata": {},
   "outputs": [
    {
     "data": {
      "image/png": "[encoded data removed]",
      "text/plain": [
       "<Figure size 576x432 with 1 Axes>"
      ]
     },
     "metadata": {
      "needs_background": "light"
     },
     "output_type": "display_data"
    }
   ],
   "source": [
    "# Plot\n",
    "sns.countplot(x = \"fare_range\", hue = \"pclass\", data = df_label);"
   ]
  },
  {
   "cell_type": "code",
   "execution_count": 92,
   "id": "bbb6074a",
   "metadata": {},
   "outputs": [],
   "source": [
    "# df_label.head()"
   ]
  },
  {
   "cell_type": "code",
   "execution_count": 93,
   "id": "e3fa36a2",
   "metadata": {},
   "outputs": [
    {
     "data": {
      "image/png": "[encoded data removed]",
      "text/plain": [
       "<Figure size 576x432 with 1 Axes>"
      ]
     },
     "metadata": {
      "needs_background": "light"
     },
     "output_type": "display_data"
    }
   ],
   "source": [
    "# Plot\n",
    "sns.countplot(x = \"fare_range\", hue = \"survived\", data = df_label).legend(labels = [\"Not survived\", \"Survived\"]);"
   ]
  },
  {
   "cell_type": "markdown",
   "id": "d75fa062",
   "metadata": {},
   "source": [
    "Survival probability increases with fare. People who have bought more expensive tickets are more likely to survive than to die."
   ]
  },
  {
   "cell_type": "code",
   "execution_count": 94,
   "id": "206f7c13",
   "metadata": {},
   "outputs": [
    {
     "data": {
      "text/plain": [
       "array([4, 3, 0, 2, 1], dtype=int64)"
      ]
     },
     "execution_count": 94,
     "metadata": {},
     "output_type": "execute_result"
    }
   ],
   "source": [
    "df_label['fare_range'].unique()"
   ]
  },
  {
   "cell_type": "markdown",
   "id": "4052c19a",
   "metadata": {},
   "source": [
    "### family size"
   ]
  },
  {
   "cell_type": "markdown",
   "id": "e4dff347",
   "metadata": {},
   "source": [
    "We create a new column 'fam_size' adding 'SibSp' (number of siblings/spouse of a passenger) and 'patch' (number of parents and childrens). \n",
    "\n",
    "Comment in the box plots at the beginning."
   ]
  },
  {
   "cell_type": "code",
   "execution_count": 95,
   "id": "9b1685e2",
   "metadata": {},
   "outputs": [],
   "source": [
    "df_label[\"fam_size\"] = df_label[\"sibsp\"] + df_label[\"parch\"] + 1"
   ]
  },
  {
   "cell_type": "code",
   "execution_count": 96,
   "id": "4015088c",
   "metadata": {},
   "outputs": [
    {
     "data": {
      "text/plain": [
       "array([ 1,  4,  2,  3,  6,  5,  7,  8, 11], dtype=int64)"
      ]
     },
     "execution_count": 96,
     "metadata": {},
     "output_type": "execute_result"
    }
   ],
   "source": [
    "df_label[\"fam_size\"].unique()"
   ]
  },
  {
   "cell_type": "code",
   "execution_count": 97,
   "id": "8929ec9e",
   "metadata": {},
   "outputs": [
    {
     "data": {
      "image/png": "[encoded data removed]",
      "text/plain": [
       "<Figure size 576x432 with 1 Axes>"
      ]
     },
     "metadata": {
      "needs_background": "light"
     },
     "output_type": "display_data"
    }
   ],
   "source": [
    "# Plot\n",
    "sns.countplot(x = \"fam_size\", hue = \"pclass\", data = df_label);"
   ]
  },
  {
   "cell_type": "code",
   "execution_count": 98,
   "id": "447fd445",
   "metadata": {},
   "outputs": [
    {
     "data": {
      "image/png": "[encoded data removed]",
      "text/plain": [
       "<Figure size 576x432 with 1 Axes>"
      ]
     },
     "metadata": {
      "needs_background": "light"
     },
     "output_type": "display_data"
    }
   ],
   "source": [
    "df_label.groupby(['pclass', 'fam_size'])['fare_range'].count().unstack().plot(kind = 'bar');"
   ]
  },
  {
   "cell_type": "markdown",
   "id": "37675fc5",
   "metadata": {},
   "source": [
    "We can see that families with 7,8,11 people traveled in class 3. We decide to create a unique group of 7 people."
   ]
  },
  {
   "cell_type": "code",
   "execution_count": 99,
   "id": "4e7f9caf",
   "metadata": {},
   "outputs": [],
   "source": [
    "df_label.loc[df_label[\"fam_size\"] == 8, \"fam_size\"] = 7\n",
    "df_label.loc[df_label[\"fam_size\"] == 11, \"fam_size\"] = 7"
   ]
  },
  {
   "cell_type": "code",
   "execution_count": 100,
   "id": "bc78a6ca",
   "metadata": {},
   "outputs": [
    {
     "data": {
      "text/plain": [
       "array([1, 4, 2, 3, 6, 5, 7], dtype=int64)"
      ]
     },
     "execution_count": 100,
     "metadata": {},
     "output_type": "execute_result"
    }
   ],
   "source": [
    "df_label.fam_size.unique()"
   ]
  },
  {
   "cell_type": "markdown",
   "id": "b4edb96c",
   "metadata": {},
   "source": [
    "### deck"
   ]
  },
  {
   "cell_type": "code",
   "execution_count": 101,
   "id": "e56c8485",
   "metadata": {},
   "outputs": [],
   "source": [
    "df_label.loc[df_label[\"deck\"] == \"A\", \"deck\"] = 0\n",
    "df_label.loc[df_label[\"deck\"] == \"B\", \"deck\"] = 1\n",
    "df_label.loc[df_label[\"deck\"] == \"C\", \"deck\"] = 2\n",
    "df_label.loc[df_label[\"deck\"] == \"D\", \"deck\"] = 3\n",
    "df_label.loc[df_label[\"deck\"] == \"E\", \"deck\"] = 4\n",
    "df_label.loc[df_label[\"deck\"] == \"F\", \"deck\"] = 5\n",
    "df_label.loc[df_label[\"deck\"] == \"G\", \"deck\"] = 6"
   ]
  },
  {
   "cell_type": "code",
   "execution_count": 102,
   "id": "3adfbdbd",
   "metadata": {},
   "outputs": [
    {
     "data": {
      "text/plain": [
       "array([1, 2, 4, 3, 0, 5, 6], dtype=object)"
      ]
     },
     "execution_count": 102,
     "metadata": {},
     "output_type": "execute_result"
    }
   ],
   "source": [
    "df_label['deck'].unique()"
   ]
  },
  {
   "cell_type": "markdown",
   "id": "f0f71cea",
   "metadata": {},
   "source": [
    "### embarked"
   ]
  },
  {
   "cell_type": "code",
   "execution_count": 103,
   "id": "dccdcc23",
   "metadata": {},
   "outputs": [],
   "source": [
    "df_label.loc[df_label[\"embarked\"] == \"S\", \"embarked\"] = 0\n",
    "df_label.loc[df_label[\"embarked\"] == \"C\", \"embarked\"] = 1\n",
    "df_label.loc[df_label[\"embarked\"] == \"Q\", \"embarked\"] = 2"
   ]
  },
  {
   "cell_type": "code",
   "execution_count": 104,
   "id": "9c4883a1",
   "metadata": {},
   "outputs": [
    {
     "data": {
      "text/plain": [
       "array([0, 1, 2], dtype=object)"
      ]
     },
     "execution_count": 104,
     "metadata": {},
     "output_type": "execute_result"
    }
   ],
   "source": [
    "df_label['embarked'].unique()"
   ]
  },
  {
   "cell_type": "markdown",
   "id": "f69b4aa9",
   "metadata": {},
   "source": [
    "### Check tranformations"
   ]
  },
  {
   "cell_type": "code",
   "execution_count": 105,
   "id": "24ac31d5",
   "metadata": {},
   "outputs": [
    {
     "data": {
      "text/html": [
       "<div>\n",
       "<style scoped>\n",
       "    .dataframe tbody tr th:only-of-type {\n",
       "        vertical-align: middle;\n",
       "    }\n",
       "\n",
       "    .dataframe tbody tr th {\n",
       "        vertical-align: top;\n",
       "    }\n",
       "\n",
       "    .dataframe thead th {\n",
       "        text-align: right;\n",
       "    }\n",
       "</style>\n",
       "<table border=\"1\" class=\"dataframe\">\n",
       "  <thead>\n",
       "    <tr style=\"text-align: right;\">\n",
       "      <th></th>\n",
       "      <th>pclass</th>\n",
       "      <th>name</th>\n",
       "      <th>sex</th>\n",
       "      <th>age</th>\n",
       "      <th>sibsp</th>\n",
       "      <th>parch</th>\n",
       "      <th>ticket</th>\n",
       "      <th>fare</th>\n",
       "      <th>cabin</th>\n",
       "      <th>embarked</th>\n",
       "      <th>survived</th>\n",
       "      <th>deck</th>\n",
       "      <th>title</th>\n",
       "      <th>age_range</th>\n",
       "      <th>fare_range</th>\n",
       "      <th>fam_size</th>\n",
       "    </tr>\n",
       "  </thead>\n",
       "  <tbody>\n",
       "    <tr>\n",
       "      <th>0</th>\n",
       "      <td>1</td>\n",
       "      <td>Allen, Miss. Elisabeth Walton</td>\n",
       "      <td>1</td>\n",
       "      <td>29.0000</td>\n",
       "      <td>0</td>\n",
       "      <td>0</td>\n",
       "      <td>24160</td>\n",
       "      <td>211.3375</td>\n",
       "      <td>B5</td>\n",
       "      <td>0</td>\n",
       "      <td>1</td>\n",
       "      <td>1</td>\n",
       "      <td>0</td>\n",
       "      <td>2</td>\n",
       "      <td>4</td>\n",
       "      <td>1</td>\n",
       "    </tr>\n",
       "    <tr>\n",
       "      <th>1</th>\n",
       "      <td>1</td>\n",
       "      <td>Allison, Master. Hudson Trevor</td>\n",
       "      <td>0</td>\n",
       "      <td>0.9167</td>\n",
       "      <td>1</td>\n",
       "      <td>2</td>\n",
       "      <td>113781</td>\n",
       "      <td>151.5500</td>\n",
       "      <td>C22 C26</td>\n",
       "      <td>0</td>\n",
       "      <td>1</td>\n",
       "      <td>2</td>\n",
       "      <td>3</td>\n",
       "      <td>0</td>\n",
       "      <td>4</td>\n",
       "      <td>4</td>\n",
       "    </tr>\n",
       "    <tr>\n",
       "      <th>2</th>\n",
       "      <td>1</td>\n",
       "      <td>Allison, Miss. Helen Loraine</td>\n",
       "      <td>1</td>\n",
       "      <td>2.0000</td>\n",
       "      <td>1</td>\n",
       "      <td>2</td>\n",
       "      <td>113781</td>\n",
       "      <td>151.5500</td>\n",
       "      <td>C22 C26</td>\n",
       "      <td>0</td>\n",
       "      <td>0</td>\n",
       "      <td>2</td>\n",
       "      <td>0</td>\n",
       "      <td>0</td>\n",
       "      <td>4</td>\n",
       "      <td>4</td>\n",
       "    </tr>\n",
       "  </tbody>\n",
       "</table>\n",
       "</div>"
      ],
      "text/plain": [
       "   pclass                            name sex      age  sibsp  parch  ticket  \\\n",
       "0       1   Allen, Miss. Elisabeth Walton   1  29.0000      0      0   24160   \n",
       "1       1  Allison, Master. Hudson Trevor   0   0.9167      1      2  113781   \n",
       "2       1    Allison, Miss. Helen Loraine   1   2.0000      1      2  113781   \n",
       "\n",
       "       fare    cabin embarked  survived deck title  age_range  fare_range  \\\n",
       "0  211.3375       B5        0         1    1     0          2           4   \n",
       "1  151.5500  C22 C26        0         1    2     3          0           4   \n",
       "2  151.5500  C22 C26        0         0    2     0          0           4   \n",
       "\n",
       "   fam_size  \n",
       "0         1  \n",
       "1         4  \n",
       "2         4  "
      ]
     },
     "execution_count": 105,
     "metadata": {},
     "output_type": "execute_result"
    }
   ],
   "source": [
    "df_label.head(3)"
   ]
  },
  {
   "cell_type": "code",
   "execution_count": 106,
   "id": "805905ab",
   "metadata": {},
   "outputs": [
    {
     "name": "stdout",
     "output_type": "stream",
     "text": [
      "The transformed dataset has 1309 examples and 15 features + the target variable (survived)\n"
     ]
    }
   ],
   "source": [
    "print(f'The transformed dataset has {df_label.shape[0]} examples and {df_label.shape[1]-1} features + the target variable (survived)')"
   ]
  },
  {
   "cell_type": "markdown",
   "id": "269c38b1",
   "metadata": {},
   "source": [
    "### Remove useless variables"
   ]
  },
  {
   "cell_type": "markdown",
   "id": "9a345851",
   "metadata": {},
   "source": [
    "We drop some original columns to avoid the features being too correlated with new ones:"
   ]
  },
  {
   "cell_type": "code",
   "execution_count": 107,
   "id": "61ff0fc7",
   "metadata": {},
   "outputs": [],
   "source": [
    "df_label.drop(['name', 'age', 'sibsp', 'parch', 'ticket', 'fare', 'cabin'], axis=1, inplace=True)"
   ]
  },
  {
   "cell_type": "code",
   "execution_count": 108,
   "id": "41fda4a9",
   "metadata": {},
   "outputs": [
    {
     "name": "stdout",
     "output_type": "stream",
     "text": [
      "The final dataset has 1309 examples and 8 features + the target variable (survived)\n"
     ]
    }
   ],
   "source": [
    "print(f'The final dataset has {df_label.shape[0]} examples and {df_label.shape[1]-1} features + the target variable (survived)')"
   ]
  },
  {
   "cell_type": "markdown",
   "id": "906e663e",
   "metadata": {},
   "source": [
    "## Correlation"
   ]
  },
  {
   "cell_type": "markdown",
   "id": "bfec629b",
   "metadata": {},
   "source": [
    "Check for correlation and collinearity."
   ]
  },
  {
   "cell_type": "code",
   "execution_count": 109,
   "id": "96a75433",
   "metadata": {},
   "outputs": [
    {
     "data": {
      "image/png": "[encoded data removed]",
      "text/plain": [
       "<Figure size 576x432 with 2 Axes>"
      ]
     },
     "metadata": {
      "needs_background": "light"
     },
     "output_type": "display_data"
    }
   ],
   "source": [
    "# Check correlation & check if we have collinearity\n",
    "plt.subplots(figsize=(8,6))\n",
    "\n",
    "sns.heatmap(df_label[df_label.columns].corr(), linewidths = 0.2, cmap = 'coolwarm', center = 0, annot = True)\n",
    "plt.yticks(rotation = 0);"
   ]
  },
  {
   "cell_type": "markdown",
   "id": "07fc59f2",
   "metadata": {},
   "source": [
    "### Conclusions"
   ]
  },
  {
   "cell_type": "markdown",
   "id": "18d66bcf",
   "metadata": {},
   "source": [
    "No big collinearity... the features we choose to use for the model seem quite good."
   ]
  },
  {
   "cell_type": "markdown",
   "id": "5668a400",
   "metadata": {},
   "source": [
    "- Negative correlation between survived and pclass (lower the class, higher the chance to survive)\n",
    "- Negative correlation between fare_range and class with pclass (lower the class, higher the rate and age)"
   ]
  },
  {
   "cell_type": "markdown",
   "id": "62a5a8c7",
   "metadata": {},
   "source": [
    "## Normalization"
   ]
  },
  {
   "cell_type": "code",
   "execution_count": 110,
   "id": "e54e86bc",
   "metadata": {},
   "outputs": [
    {
     "data": {
      "text/html": [
       "<div>\n",
       "<style scoped>\n",
       "    .dataframe tbody tr th:only-of-type {\n",
       "        vertical-align: middle;\n",
       "    }\n",
       "\n",
       "    .dataframe tbody tr th {\n",
       "        vertical-align: top;\n",
       "    }\n",
       "\n",
       "    .dataframe thead th {\n",
       "        text-align: right;\n",
       "    }\n",
       "</style>\n",
       "<table border=\"1\" class=\"dataframe\">\n",
       "  <thead>\n",
       "    <tr style=\"text-align: right;\">\n",
       "      <th></th>\n",
       "      <th>pclass</th>\n",
       "      <th>survived</th>\n",
       "      <th>age_range</th>\n",
       "      <th>fare_range</th>\n",
       "      <th>fam_size</th>\n",
       "    </tr>\n",
       "  </thead>\n",
       "  <tbody>\n",
       "    <tr>\n",
       "      <th>count</th>\n",
       "      <td>1309.000000</td>\n",
       "      <td>1309.000000</td>\n",
       "      <td>1309.000000</td>\n",
       "      <td>1309.000000</td>\n",
       "      <td>1309.000000</td>\n",
       "    </tr>\n",
       "    <tr>\n",
       "      <th>mean</th>\n",
       "      <td>2.294882</td>\n",
       "      <td>0.381971</td>\n",
       "      <td>2.546982</td>\n",
       "      <td>1.982429</td>\n",
       "      <td>1.844156</td>\n",
       "    </tr>\n",
       "    <tr>\n",
       "      <th>std</th>\n",
       "      <td>0.837836</td>\n",
       "      <td>0.486055</td>\n",
       "      <td>1.358055</td>\n",
       "      <td>1.425681</td>\n",
       "      <td>1.399598</td>\n",
       "    </tr>\n",
       "    <tr>\n",
       "      <th>min</th>\n",
       "      <td>1.000000</td>\n",
       "      <td>0.000000</td>\n",
       "      <td>0.000000</td>\n",
       "      <td>0.000000</td>\n",
       "      <td>1.000000</td>\n",
       "    </tr>\n",
       "    <tr>\n",
       "      <th>25%</th>\n",
       "      <td>2.000000</td>\n",
       "      <td>0.000000</td>\n",
       "      <td>2.000000</td>\n",
       "      <td>1.000000</td>\n",
       "      <td>1.000000</td>\n",
       "    </tr>\n",
       "    <tr>\n",
       "      <th>50%</th>\n",
       "      <td>3.000000</td>\n",
       "      <td>0.000000</td>\n",
       "      <td>2.000000</td>\n",
       "      <td>2.000000</td>\n",
       "      <td>1.000000</td>\n",
       "    </tr>\n",
       "    <tr>\n",
       "      <th>75%</th>\n",
       "      <td>3.000000</td>\n",
       "      <td>1.000000</td>\n",
       "      <td>3.000000</td>\n",
       "      <td>3.000000</td>\n",
       "      <td>2.000000</td>\n",
       "    </tr>\n",
       "    <tr>\n",
       "      <th>max</th>\n",
       "      <td>3.000000</td>\n",
       "      <td>1.000000</td>\n",
       "      <td>7.000000</td>\n",
       "      <td>4.000000</td>\n",
       "      <td>7.000000</td>\n",
       "    </tr>\n",
       "  </tbody>\n",
       "</table>\n",
       "</div>"
      ],
      "text/plain": [
       "            pclass     survived    age_range   fare_range     fam_size\n",
       "count  1309.000000  1309.000000  1309.000000  1309.000000  1309.000000\n",
       "mean      2.294882     0.381971     2.546982     1.982429     1.844156\n",
       "std       0.837836     0.486055     1.358055     1.425681     1.399598\n",
       "min       1.000000     0.000000     0.000000     0.000000     1.000000\n",
       "25%       2.000000     0.000000     2.000000     1.000000     1.000000\n",
       "50%       3.000000     0.000000     2.000000     2.000000     1.000000\n",
       "75%       3.000000     1.000000     3.000000     3.000000     2.000000\n",
       "max       3.000000     1.000000     7.000000     4.000000     7.000000"
      ]
     },
     "execution_count": 110,
     "metadata": {},
     "output_type": "execute_result"
    }
   ],
   "source": [
    "df_label.describe()"
   ]
  },
  {
   "cell_type": "markdown",
   "id": "ead84cdb",
   "metadata": {},
   "source": [
    "As we can see in the statistics table, all the features have the same order of magnitude (except for the family-size that is bigger). We think is not necessary to normalize data."
   ]
  },
  {
   "cell_type": "markdown",
   "id": "c3c0a42f",
   "metadata": {},
   "source": [
    "## Save csv"
   ]
  },
  {
   "cell_type": "code",
   "execution_count": 111,
   "id": "47cfbc1e",
   "metadata": {},
   "outputs": [],
   "source": [
    "# df_label.to_csv('output/data_label.csv')"
   ]
  }
 ],
 "metadata": {
  "kernelspec": {
   "display_name": "Python 3",
   "language": "python",
   "name": "python3"
  },
  "language_info": {
   "codemirror_mode": {
    "name": "ipython",
    "version": 3
   },
   "file_extension": ".py",
   "mimetype": "text/x-python",
   "name": "python",
   "nbconvert_exporter": "python",
   "pygments_lexer": "ipython3",
   "version": "3.7.10"
  }
 },
 "nbformat": 4,
 "nbformat_minor": 5
}
