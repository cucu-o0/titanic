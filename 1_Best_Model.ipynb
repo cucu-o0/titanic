{
 "cells": [
  {
   "cell_type": "markdown",
   "id": "295d6d0a",
   "metadata": {},
   "source": [
    "# Select Best Model"
   ]
  },
  {
   "cell_type": "markdown",
   "id": "95f7ade8",
   "metadata": {},
   "source": [
    "Using data from EDA to check the model that fits the best."
   ]
  },
  {
   "cell_type": "markdown",
   "id": "f1c0ac10",
   "metadata": {},
   "source": [
    "## Import libraries"
   ]
  },
  {
   "cell_type": "code",
   "execution_count": 1,
   "id": "6d4e9679",
   "metadata": {},
   "outputs": [],
   "source": [
    "# Linear algebra\n",
    "import numpy as np \n",
    "\n",
    "# Data processing\n",
    "import pandas as pd \n",
    "\n",
    "# Regex\n",
    "import re\n",
    "\n",
    "# Data visualization\n",
    "import seaborn as sns\n",
    "import matplotlib.pyplot as plt\n",
    "%matplotlib inline\n",
    "from matplotlib.pylab import rcParams\n",
    "rcParams['figure.figsize'] = 8, 6\n",
    "plt.style.use('tableau-colorblind10')\n",
    "\n",
    "# Warnings\n",
    "import warnings\n",
    "warnings.filterwarnings('ignore')"
   ]
  },
  {
   "cell_type": "code",
   "execution_count": 2,
   "id": "32a70c22",
   "metadata": {},
   "outputs": [],
   "source": [
    "# Machine learning\n",
    "from sklearn.model_selection import train_test_split\n",
    "\n",
    "# Logistic Regression\n",
    "from sklearn.linear_model import LogisticRegression\n",
    "# Gaussian Naive Bayes\n",
    "from sklearn.naive_bayes import GaussianNB\n",
    "# k-nearest neighbors\n",
    "from sklearn.neighbors import KNeighborsClassifier\n",
    "# Linear Support Vector Machine\n",
    "from sklearn.svm import SVC\n",
    "from sklearn import svm\n",
    "# Random Forest\n",
    "from sklearn.ensemble import RandomForestClassifier\n",
    "\n",
    "# Metrics\n",
    "from sklearn.model_selection import cross_val_score\n",
    "from sklearn.model_selection import StratifiedKFold\n",
    "\n",
    "from sklearn.metrics import classification_report\n",
    "from sklearn.metrics import confusion_matrix\n",
    "from sklearn.metrics import accuracy_score"
   ]
  },
  {
   "cell_type": "markdown",
   "id": "9422c818",
   "metadata": {},
   "source": [
    "## Load data"
   ]
  },
  {
   "cell_type": "code",
   "execution_count": 3,
   "id": "59d26866",
   "metadata": {},
   "outputs": [],
   "source": [
    "df = pd.read_csv('output/data_label.csv', index_col = 0)"
   ]
  },
  {
   "cell_type": "markdown",
   "id": "3c0c7b34",
   "metadata": {},
   "source": [
    "We reorder the dataset, placing the target column ('survived) at the end."
   ]
  },
  {
   "cell_type": "code",
   "execution_count": 4,
   "id": "8e83bc4a",
   "metadata": {},
   "outputs": [
    {
     "data": {
      "text/html": [
       "<div>\n",
       "<style scoped>\n",
       "    .dataframe tbody tr th:only-of-type {\n",
       "        vertical-align: middle;\n",
       "    }\n",
       "\n",
       "    .dataframe tbody tr th {\n",
       "        vertical-align: top;\n",
       "    }\n",
       "\n",
       "    .dataframe thead th {\n",
       "        text-align: right;\n",
       "    }\n",
       "</style>\n",
       "<table border=\"1\" class=\"dataframe\">\n",
       "  <thead>\n",
       "    <tr style=\"text-align: right;\">\n",
       "      <th></th>\n",
       "      <th>pclass</th>\n",
       "      <th>deck</th>\n",
       "      <th>fare_range</th>\n",
       "      <th>sex</th>\n",
       "      <th>title</th>\n",
       "      <th>age_range</th>\n",
       "      <th>fam_size</th>\n",
       "      <th>embarked</th>\n",
       "      <th>survived</th>\n",
       "    </tr>\n",
       "  </thead>\n",
       "  <tbody>\n",
       "    <tr>\n",
       "      <th>0</th>\n",
       "      <td>1</td>\n",
       "      <td>1</td>\n",
       "      <td>4</td>\n",
       "      <td>1</td>\n",
       "      <td>0</td>\n",
       "      <td>2</td>\n",
       "      <td>1</td>\n",
       "      <td>0</td>\n",
       "      <td>1</td>\n",
       "    </tr>\n",
       "    <tr>\n",
       "      <th>1</th>\n",
       "      <td>1</td>\n",
       "      <td>2</td>\n",
       "      <td>4</td>\n",
       "      <td>0</td>\n",
       "      <td>3</td>\n",
       "      <td>0</td>\n",
       "      <td>4</td>\n",
       "      <td>0</td>\n",
       "      <td>1</td>\n",
       "    </tr>\n",
       "    <tr>\n",
       "      <th>2</th>\n",
       "      <td>1</td>\n",
       "      <td>2</td>\n",
       "      <td>4</td>\n",
       "      <td>1</td>\n",
       "      <td>0</td>\n",
       "      <td>0</td>\n",
       "      <td>4</td>\n",
       "      <td>0</td>\n",
       "      <td>0</td>\n",
       "    </tr>\n",
       "    <tr>\n",
       "      <th>3</th>\n",
       "      <td>1</td>\n",
       "      <td>2</td>\n",
       "      <td>4</td>\n",
       "      <td>0</td>\n",
       "      <td>1</td>\n",
       "      <td>2</td>\n",
       "      <td>4</td>\n",
       "      <td>0</td>\n",
       "      <td>0</td>\n",
       "    </tr>\n",
       "    <tr>\n",
       "      <th>4</th>\n",
       "      <td>1</td>\n",
       "      <td>2</td>\n",
       "      <td>4</td>\n",
       "      <td>1</td>\n",
       "      <td>2</td>\n",
       "      <td>2</td>\n",
       "      <td>4</td>\n",
       "      <td>0</td>\n",
       "      <td>0</td>\n",
       "    </tr>\n",
       "  </tbody>\n",
       "</table>\n",
       "</div>"
      ],
      "text/plain": [
       "   pclass  deck  fare_range  sex  title  age_range  fam_size  embarked  \\\n",
       "0       1     1           4    1      0          2         1         0   \n",
       "1       1     2           4    0      3          0         4         0   \n",
       "2       1     2           4    1      0          0         4         0   \n",
       "3       1     2           4    0      1          2         4         0   \n",
       "4       1     2           4    1      2          2         4         0   \n",
       "\n",
       "   survived  \n",
       "0         1  \n",
       "1         1  \n",
       "2         0  \n",
       "3         0  \n",
       "4         0  "
      ]
     },
     "execution_count": 4,
     "metadata": {},
     "output_type": "execute_result"
    }
   ],
   "source": [
    "df = df[[\"pclass\",\"deck\", \"fare_range\",\"sex\",\"title\",\"age_range\", \"fam_size\",\"embarked\",\"survived\"]]\n",
    "df.head()"
   ]
  },
  {
   "cell_type": "code",
   "execution_count": 5,
   "id": "2058f787",
   "metadata": {},
   "outputs": [
    {
     "name": "stdout",
     "output_type": "stream",
     "text": [
      "The dataset has 1309 examples and 8 features + the target variable (survived)\n"
     ]
    }
   ],
   "source": [
    "print(f'The dataset has {df.shape[0]} examples and {df.shape[1]-1} features + the target variable (survived)')"
   ]
  },
  {
   "cell_type": "markdown",
   "id": "14d31855",
   "metadata": {},
   "source": [
    "### Save csv"
   ]
  },
  {
   "cell_type": "code",
   "execution_count": 6,
   "id": "e9c2eb0b",
   "metadata": {},
   "outputs": [],
   "source": [
    "df.to_csv('output/data_model.csv')"
   ]
  },
  {
   "cell_type": "markdown",
   "id": "dfbfd0ff",
   "metadata": {},
   "source": [
    "## Models"
   ]
  },
  {
   "cell_type": "markdown",
   "id": "55252e26",
   "metadata": {},
   "source": [
    "A **classification model** is a **supervised learning model** that attempts to draw some conclusion from observed values. Given one or more inputs a classification model will try to predict the value of one or more outcomes. Outcomes are labels that can be applied to a dataset."
   ]
  },
  {
   "cell_type": "markdown",
   "id": "ff19106b",
   "metadata": {},
   "source": [
    "We create a function to compare different classification algorithms:\n",
    "\n",
    "- **Logistic regression**: the simpler one, estimate discrete values (binary 0/1) based on a given set of indipendent variables.\n",
    "\n",
    "\n",
    "- **Gaussian Naive Bayes**: assumes that the presence of a particular feature in a class is unrelated to the presence of any other feature. \n",
    "\n",
    "\n",
    "- **K nearest neighbor** : it stores all available cases to classify the new cases by a majority vote of its k neighbors.\n",
    "\n",
    "\n",
    "- **Linear Support Vector Machine**: we plot each data item as a point in n-dimensional space (where n is a number of features you have) with the value of each feature being the value of a particular coordinate.\n",
    "\n",
    "\n",
    "- **Random Forest**:  is a type of ensemble learning method that is used for classification, regression and other tasks that can be performed with the help of the decision trees.\n"
   ]
  },
  {
   "cell_type": "markdown",
   "id": "6b38963d",
   "metadata": {},
   "source": [
    "### Split dataset"
   ]
  },
  {
   "cell_type": "markdown",
   "id": "67d9b3c7",
   "metadata": {},
   "source": [
    "We split the prepared dataset into train and test sets.\n",
    "\n",
    "    - Train = 70% data\n",
    "    - Test = 30% data \n",
    "    \n",
    "Stratified K-Folds cross-validator randomly split the training data into K subsets called folds (k=5 default) and returns stratified folds. The folds are made by preserving the percentage of samples for each class."
   ]
  },
  {
   "cell_type": "markdown",
   "id": "4cd843ec",
   "metadata": {},
   "source": [
    "### Metrics"
   ]
  },
  {
   "cell_type": "markdown",
   "id": "f5a08f8a",
   "metadata": {},
   "source": [
    "The metric we use to compare the performance of the models is: **accuracy** (the ratio of the true predicted values to the total predicted values)."
   ]
  },
  {
   "cell_type": "code",
   "execution_count": 9,
   "id": "3a33ec12",
   "metadata": {},
   "outputs": [],
   "source": [
    "def run_multiple_models(df, target, split):\n",
    "    \n",
    "    labels = ['Not Survived', 'Survived']\n",
    "    \n",
    "    X = df.iloc[:,:-1].values\n",
    "    y = df[target]\n",
    "    \n",
    "    X_train, X_test, y_train, y_test = train_test_split(X, y, test_size = split)\n",
    "    \n",
    "    dfs = []\n",
    "    models = [\n",
    "        ('LR_model', LogisticRegression()),\n",
    "        ('GNB_model', GaussianNB()),      \n",
    "        ('KNN_model', KNeighborsClassifier(n_neighbors = 5)),\n",
    "        ('SVC_model', svm.SVC()), \n",
    "        ('RFC_model', RandomForestClassifier(n_estimators=100))]\n",
    "    \n",
    "    results = []\n",
    "    \n",
    "    names = []\n",
    "    score = {}\n",
    "    \n",
    "    target_names = labels\n",
    "\n",
    "    for name, model in models:\n",
    "        \n",
    "        # Cross validation\n",
    "        cv = cross_val_score(model, X_train, y_train, cv = StratifiedKFold(), scoring = 'accuracy')\n",
    "        # Fit\n",
    "        clf = model.fit(X_train, y_train)\n",
    "        # Predict\n",
    "        y_pred = clf.predict(X_test)\n",
    "        # Score\n",
    "        acc = clf.score(X_train, y_train)\n",
    "        \n",
    "        print(f'---- {name} ----')\n",
    "        print(f'Accuracy: {round(acc * 100, 2)}%')\n",
    "        print()\n",
    "        print(classification_report(y_test, y_pred, target_names = target_names))\n",
    "        \n",
    "        results.append(cv)\n",
    "        names.append(name)\n",
    "        score[name] = round(acc*100,2)\n",
    "        \n",
    "        \n",
    "        final_df = pd.DataFrame(cv)\n",
    "        final_df['model'] = name\n",
    "        dfs.append(final_df)\n",
    "\n",
    "        final = pd.concat(dfs, ignore_index = True)\n",
    "    \n",
    "    print()\n",
    "    max_key = max(score, key = lambda key: score[key])\n",
    "    print(f'The model with best performance is: {max_key}')\n",
    "    \n",
    "    return final"
   ]
  },
  {
   "cell_type": "code",
   "execution_count": 10,
   "id": "cccdab02",
   "metadata": {},
   "outputs": [
    {
     "name": "stdout",
     "output_type": "stream",
     "text": [
      "---- LR_model ----\n",
      "Accuracy: 80.46%\n",
      "\n",
      "              precision    recall  f1-score   support\n",
      "\n",
      "Not Survived       0.82      0.88      0.85       249\n",
      "    Survived       0.76      0.66      0.71       144\n",
      "\n",
      "    accuracy                           0.80       393\n",
      "   macro avg       0.79      0.77      0.78       393\n",
      "weighted avg       0.80      0.80      0.80       393\n",
      "\n",
      "---- GNB_model ----\n",
      "Accuracy: 74.24%\n",
      "\n",
      "              precision    recall  f1-score   support\n",
      "\n",
      "Not Survived       0.79      0.78      0.79       249\n",
      "    Survived       0.63      0.65      0.64       144\n",
      "\n",
      "    accuracy                           0.73       393\n",
      "   macro avg       0.71      0.71      0.71       393\n",
      "weighted avg       0.73      0.73      0.73       393\n",
      "\n",
      "---- KNN_model ----\n",
      "Accuracy: 83.52%\n",
      "\n",
      "              precision    recall  f1-score   support\n",
      "\n",
      "Not Survived       0.84      0.86      0.85       249\n",
      "    Survived       0.74      0.71      0.73       144\n",
      "\n",
      "    accuracy                           0.80       393\n",
      "   macro avg       0.79      0.78      0.79       393\n",
      "weighted avg       0.80      0.80      0.80       393\n",
      "\n",
      "---- SVC_model ----\n",
      "Accuracy: 81.77%\n",
      "\n",
      "              precision    recall  f1-score   support\n",
      "\n",
      "Not Survived       0.83      0.89      0.86       249\n",
      "    Survived       0.78      0.67      0.72       144\n",
      "\n",
      "    accuracy                           0.81       393\n",
      "   macro avg       0.80      0.78      0.79       393\n",
      "weighted avg       0.81      0.81      0.81       393\n",
      "\n",
      "---- RFC_model ----\n",
      "Accuracy: 91.92%\n",
      "\n",
      "              precision    recall  f1-score   support\n",
      "\n",
      "Not Survived       0.82      0.87      0.85       249\n",
      "    Survived       0.75      0.67      0.71       144\n",
      "\n",
      "    accuracy                           0.80       393\n",
      "   macro avg       0.79      0.77      0.78       393\n",
      "weighted avg       0.80      0.80      0.80       393\n",
      "\n",
      "\n",
      "The model with best performance is: RFC_model\n"
     ]
    }
   ],
   "source": [
    "res = run_multiple_models(df, 'survived', 0.3)"
   ]
  },
  {
   "cell_type": "markdown",
   "id": "0ad6eae1",
   "metadata": {},
   "source": [
    "## Conclusions"
   ]
  },
  {
   "cell_type": "markdown",
   "id": "12102053",
   "metadata": {},
   "source": [
    "The random model classifier is the best model to solve our supevised learning problem. We will create the model in the next notebook: `2_Random_Forest`"
   ]
  },
  {
   "cell_type": "markdown",
   "id": "62456369",
   "metadata": {},
   "source": [
    "### Reference"
   ]
  },
  {
   "cell_type": "markdown",
   "id": "a1a48226",
   "metadata": {},
   "source": [
    "- https://data-flair.training/blogs/machine-learning-classification-algorithms/"
   ]
  },
  {
   "cell_type": "code",
   "execution_count": null,
   "id": "42b5d879",
   "metadata": {},
   "outputs": [],
   "source": []
  }
 ],
 "metadata": {
  "kernelspec": {
   "display_name": "Python 3",
   "language": "python",
   "name": "python3"
  },
  "language_info": {
   "codemirror_mode": {
    "name": "ipython",
    "version": 3
   },
   "file_extension": ".py",
   "mimetype": "text/x-python",
   "name": "python",
   "nbconvert_exporter": "python",
   "pygments_lexer": "ipython3",
   "version": "3.7.10"
  }
 },
 "nbformat": 4,
 "nbformat_minor": 5
}
